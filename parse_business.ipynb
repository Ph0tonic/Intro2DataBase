{
 "cells": [
  {
   "cell_type": "code",
   "execution_count": null,
   "metadata": {},
   "outputs": [],
   "source": [
    "import numpy as np\n",
    "import pandas as pd\n",
    "import psycopg2\n",
    "from tqdm import tqdm\n",
    "tqdm.pandas()"
   ]
  },
  {
   "cell_type": "code",
   "execution_count": null,
   "metadata": {},
   "outputs": [],
   "source": [
    "business_raw = pd.read_csv('csv_files/yelp_academic_dataset_business.csv')\n",
    "business_raw.index +=1"
   ]
  },
  {
   "cell_type": "code",
   "execution_count": null,
   "metadata": {},
   "outputs": [],
   "source": [
    "business_raw.head()"
   ]
  },
  {
   "cell_type": "code",
   "execution_count": null,
   "metadata": {},
   "outputs": [],
   "source": [
    "business_raw.shape"
   ]
  },
  {
   "cell_type": "code",
   "execution_count": null,
   "metadata": {},
   "outputs": [],
   "source": [
    "business_raw[business_raw[\"address\"].isna()].shape"
   ]
  },
  {
   "cell_type": "code",
   "execution_count": null,
   "metadata": {},
   "outputs": [],
   "source": [
    "business_raw[business_raw[\"attributes\"].isna()].shape"
   ]
  },
  {
   "cell_type": "code",
   "execution_count": null,
   "metadata": {},
   "outputs": [],
   "source": [
    "business_raw[business_raw[\"business_id\"].isna()].shape"
   ]
  },
  {
   "cell_type": "code",
   "execution_count": null,
   "metadata": {},
   "outputs": [],
   "source": [
    "business_raw[business_raw[\"categories\"].isna()].shape"
   ]
  },
  {
   "cell_type": "code",
   "execution_count": null,
   "metadata": {},
   "outputs": [],
   "source": [
    "business_raw[business_raw[\"city\"].isna()]"
   ]
  },
  {
   "cell_type": "code",
   "execution_count": null,
   "metadata": {},
   "outputs": [],
   "source": [
    "business_raw[business_raw[\"hours\"].isna()].shape"
   ]
  },
  {
   "cell_type": "code",
   "execution_count": null,
   "metadata": {},
   "outputs": [],
   "source": [
    "business_raw[business_raw[\"is_open\"].isna()].shape"
   ]
  },
  {
   "cell_type": "code",
   "execution_count": null,
   "metadata": {},
   "outputs": [],
   "source": [
    "business_raw[business_raw[\"latitude\"].isna()].shape"
   ]
  },
  {
   "cell_type": "code",
   "execution_count": null,
   "metadata": {},
   "outputs": [],
   "source": [
    "business_raw[business_raw[\"longitude\"].isna()].shape"
   ]
  },
  {
   "cell_type": "code",
   "execution_count": null,
   "metadata": {},
   "outputs": [],
   "source": [
    "business_raw[business_raw[\"name\"].isna()].shape"
   ]
  },
  {
   "cell_type": "code",
   "execution_count": null,
   "metadata": {},
   "outputs": [],
   "source": [
    "business_raw[business_raw[\"postal_code\"].isna()].shape"
   ]
  },
  {
   "cell_type": "code",
   "execution_count": null,
   "metadata": {},
   "outputs": [],
   "source": [
    "business_raw[business_raw[\"review_count\"].isna()].shape"
   ]
  },
  {
   "cell_type": "code",
   "execution_count": null,
   "metadata": {},
   "outputs": [],
   "source": [
    "business_raw[business_raw[\"stars\"].isna()].shape"
   ]
  },
  {
   "cell_type": "code",
   "execution_count": null,
   "metadata": {},
   "outputs": [],
   "source": [
    "business_raw[business_raw[\"state\"].isna()].shape"
   ]
  },
  {
   "cell_type": "code",
   "execution_count": null,
   "metadata": {},
   "outputs": [],
   "source": [
    "business_raw[business_raw[\"is_open\"] == 1][business_raw[\"hours\"].isna()]"
   ]
  },
  {
   "cell_type": "code",
   "execution_count": null,
   "metadata": {},
   "outputs": [],
   "source": [
    "business_raw[business_raw[\"postal_code\"].isna()][business_raw[\"address\"].isna() == False]"
   ]
  },
  {
   "cell_type": "markdown",
   "metadata": {},
   "source": [
    "We have 0 business without a state, 1 business without a city, 659 businesses without a postal_code, 7682 businesses without an address among which only 545 has no postal_code, so we have 114 businesses with an address but no postal_code"
   ]
  },
  {
   "cell_type": "code",
   "execution_count": null,
   "metadata": {},
   "outputs": [],
   "source": [
    "eval(business_raw[\"attributes\"][2])"
   ]
  },
  {
   "cell_type": "markdown",
   "metadata": {},
   "source": [
    "\n",
    "# Parse businesses ids"
   ]
  },
  {
   "cell_type": "code",
   "execution_count": null,
   "metadata": {
    "tags": [
     "outputPrepend"
    ]
   },
   "outputs": [],
   "source": [
    "business_ids = business_raw[\"business_id\"].reset_index().set_index(\"business_id\")[\"index\"].to_dict()\n",
    "del business_raw[\"business_id\"]\n",
    "business_table = business_raw.reset_index().rename(columns={'index':'id'})\n",
    "business_table"
   ]
  },
  {
   "cell_type": "markdown",
   "metadata": {},
   "source": [
    "# Parse Locations"
   ]
  },
  {
   "cell_type": "code",
   "execution_count": null,
   "metadata": {},
   "outputs": [],
   "source": [
    "locations = business_table[[\"id\", \"address\", \"city\", \"latitude\", \"longitude\", \"postal_code\", \"state\"]]\n",
    "del business_table[\"address\"]\n",
    "del business_table[\"city\"]\n",
    "del business_table[\"latitude\"]\n",
    "del business_table[\"longitude\"]\n",
    "del business_table[\"postal_code\"]\n",
    "del business_table[\"state\"]\n",
    "locations = locations.rename(columns={'id':'business_id'})\n",
    "locations"
   ]
  },
  {
   "cell_type": "code",
   "execution_count": null,
   "metadata": {},
   "outputs": [],
   "source": [
    "print(len(locations[locations[\"state\"] == \"AB\"]))\n",
    "locations[locations[\"state\"] == \"AB\"]"
   ]
  },
  {
   "cell_type": "markdown",
   "metadata": {},
   "source": [
    "## States"
   ]
  },
  {
   "cell_type": "code",
   "execution_count": null,
   "metadata": {},
   "outputs": [],
   "source": [
    "state_table = locations[\"state\"].drop_duplicates()\n",
    "state_table = state_table.sort_values().reset_index()\n",
    "state_table.index += 1\n",
    "del state_table[\"index\"]\n",
    "state_table = state_table.reset_index().rename(columns={\"index\":\"id\", \"state\": \"name\"})\n",
    "state_table"
   ]
  },
  {
   "cell_type": "code",
   "execution_count": null,
   "metadata": {},
   "outputs": [],
   "source": [
    "state_dict = state_table.set_index(\"name\")[\"id\"].to_dict()\n",
    "locations[\"state_id\"] = locations[\"state\"].progress_apply(lambda s: state_dict[s])\n",
    "del locations[\"state\"]\n",
    "locations"
   ]
  },
  {
   "cell_type": "markdown",
   "metadata": {},
   "source": [
    "## Cities"
   ]
  },
  {
   "cell_type": "code",
   "execution_count": null,
   "metadata": {},
   "outputs": [],
   "source": [
    "city_table = locations[[\"city\", \"state_id\"]].drop_duplicates()\n",
    "city_table = city_table.reset_index()\n",
    "del city_table[\"index\"]\n",
    "city_table.index += 1\n",
    "city_table = city_table.reset_index()\n",
    "city_table = city_table.rename(columns={\"index\":\"id\", \"city\":\"name\"})\n",
    "city_table"
   ]
  },
  {
   "cell_type": "code",
   "execution_count": null,
   "metadata": {},
   "outputs": [],
   "source": [
    "city_dict = city_table.set_index([\"name\", \"state_id\"])[\"id\"].to_dict()"
   ]
  },
  {
   "cell_type": "code",
   "execution_count": null,
   "metadata": {},
   "outputs": [],
   "source": [
    "locations[\"city_id\"] = locations[[\"city\", \"state_id\"]].progress_apply(lambda row: city_dict[(row[0], row[1])], axis=1, raw=True)\n",
    "del locations[\"state_id\"]\n",
    "del locations[\"city\"]\n",
    "locations"
   ]
  },
  {
   "cell_type": "markdown",
   "metadata": {},
   "source": [
    "## Postal codes"
   ]
  },
  {
   "cell_type": "code",
   "execution_count": null,
   "metadata": {},
   "outputs": [],
   "source": [
    "postal_codes_table = locations[[\"city_id\", \"postal_code\"]].drop_duplicates()\n",
    "postal_codes_table = postal_codes_table.reset_index()\n",
    "del postal_codes_table[\"index\"]\n",
    "postal_codes_table.index += 1\n",
    "postal_codes_table = postal_codes_table.reset_index().rename(columns={\"index\":\"id\"})\n",
    "postal_codes_table"
   ]
  },
  {
   "cell_type": "code",
   "execution_count": null,
   "metadata": {},
   "outputs": [],
   "source": [
    "postal_code_dict = postal_codes_table.set_index([\"postal_code\", \"city_id\"])[\"id\"].to_dict()"
   ]
  },
  {
   "cell_type": "code",
   "execution_count": null,
   "metadata": {},
   "outputs": [],
   "source": [
    "locations[\"postal_code_id\"] = locations[[\"postal_code\", \"city_id\"]].progress_apply(lambda row: postal_code_dict[(row[0], row[1])], axis=1, raw=True)\n",
    "del locations[\"city_id\"]\n",
    "del locations[\"postal_code\"]\n",
    "locations"
   ]
  },
  {
   "cell_type": "markdown",
   "metadata": {},
   "source": [
    "# Parse categories"
   ]
  },
  {
   "cell_type": "code",
   "execution_count": null,
   "metadata": {},
   "outputs": [],
   "source": [
    "business_categories_temp = business_table[[\"id\", \"categories\"]][business_table[\"categories\"].progress_map(lambda x: type(x) == str)]\n",
    "business_categories_temp[\"categories\"] = business_categories_temp[\"categories\"].progress_map(lambda cats: list(map(str.strip, cats.split(\",\"))))\n",
    "\n",
    "business_categories_temp"
   ]
  },
  {
   "cell_type": "code",
   "execution_count": null,
   "metadata": {},
   "outputs": [],
   "source": [
    "business_categories = (business_categories_temp['categories']\n",
    "    .progress_apply(lambda x: pd.Series(x))\n",
    "    .stack()\n",
    "    .reset_index(level=1, drop=True)\n",
    "    .to_frame('categories')\n",
    "    .join(business_categories_temp[['id']], how='left'))\n",
    "business_categories"
   ]
  },
  {
   "cell_type": "code",
   "execution_count": null,
   "metadata": {},
   "outputs": [],
   "source": [
    "categories = business_categories[\"categories\"]\n",
    "categories = categories.drop_duplicates().reset_index()\n",
    "del categories[\"index\"]\n",
    "categories.index += 1\n",
    "categories = categories.reset_index().rename(columns={\"index\":\"id\", \"categories\": \"name\"})\n",
    "categories"
   ]
  },
  {
   "cell_type": "code",
   "execution_count": null,
   "metadata": {
    "tags": [
     "outputPrepend",
     "outputPrepend",
     "outputPrepend"
    ]
   },
   "outputs": [],
   "source": [
    "categories_dict = categories.reset_index().set_index(\"name\")[\"id\"].to_dict()\n",
    "print(categories_dict)\n",
    "business_categories[\"categorie_id\"] = business_categories[\"categories\"].progress_map(lambda cat: categories_dict[cat])\n",
    "del business_categories[\"categories\"]\n",
    "del business_table[\"categories\"]\n",
    "business_categories = business_categories.rename(columns={\"id\":\"business_id\"}).drop_duplicates()\n",
    "business_categories"
   ]
  },
  {
   "cell_type": "markdown",
   "metadata": {},
   "source": [
    "# Parse attributes"
   ]
  },
  {
   "cell_type": "code",
   "execution_count": null,
   "metadata": {},
   "outputs": [],
   "source": [
    "attributes = business_raw[business_raw[\"attributes\"].map(lambda x: type(x)==str)][\"attributes\"].progress_apply(eval)\n",
    "del business_table[\"attributes\"]\n",
    "attributes"
   ]
  },
  {
   "cell_type": "markdown",
   "metadata": {},
   "source": [
    "## Noise level"
   ]
  },
  {
   "cell_type": "code",
   "execution_count": null,
   "metadata": {},
   "outputs": [],
   "source": [
    "noise_level_temp = attributes[attributes.map(lambda x: \"NoiseLevel\" in x)].map(lambda x: eval(x[\"NoiseLevel\"]))\n",
    "noise_level = noise_level_temp.drop_duplicates().reset_index()\n",
    "del noise_level[\"index\"]\n",
    "noise_level.index += 1\n",
    "noise_level = noise_level.reset_index().rename(columns={\"index\":\"id\", \"attributes\":\"level\"})\n",
    "noise_level"
   ]
  },
  {
   "cell_type": "code",
   "execution_count": null,
   "metadata": {},
   "outputs": [],
   "source": [
    "noise_level_dict = noise_level.set_index(\"level\")[\"id\"].to_dict()\n",
    "business_table[\"noise_level_id\"] = noise_level_temp.map(lambda x: noise_level_dict[x])\n",
    "#uses that NaN != NaN\n",
    "business_table[\"noise_level_id\"] = business_table[\"noise_level_id\"].apply(lambda x: int(x) if x == x else \"\")\n",
    "#ugly but working for now\n",
    "business_table[\"noise_level_id\"] = business_table[\"noise_level_id\"].apply(lambda x: x if x != 5 else \"\")\n",
    "noise_level = noise_level.dropna()\n",
    "business_table"
   ]
  },
  {
   "cell_type": "markdown",
   "metadata": {},
   "source": [
    "## Music"
   ]
  },
  {
   "cell_type": "code",
   "execution_count": null,
   "metadata": {},
   "outputs": [],
   "source": [
    "music_temp = attributes[attributes.map(lambda x: \"Music\" in x)].map(lambda x: eval(x[\"Music\"]))\n",
    "music_temp = music_temp[music_temp.map(lambda x: x != None)]\n",
    "music_temp = music_temp.progress_map(lambda m: [key for key in m.keys() if m[key]])\n",
    "music_temp = music_temp[music_temp.map(lambda l: len(l) > 0)].reset_index().rename(columns={\"index\":\"business_id\", \"attributes\":\"name\"})\n",
    "music_temp"
   ]
  },
  {
   "cell_type": "code",
   "execution_count": null,
   "metadata": {},
   "outputs": [],
   "source": [
    "music_business_relation_table = (music_temp['name']\n",
    "    .progress_apply(lambda x: pd.Series(x))\n",
    "    .stack()\n",
    "    .reset_index(level=1, drop=True)\n",
    "    .to_frame('name')\n",
    "    .join(music_temp[['business_id']], how='left'))\n",
    "music_business_relation_table"
   ]
  },
  {
   "cell_type": "code",
   "execution_count": null,
   "metadata": {},
   "outputs": [],
   "source": [
    "music_table = music_business_relation_table[\"name\"].drop_duplicates().reset_index()\n",
    "del music_table[\"index\"]\n",
    "music_table.index += 1\n",
    "music_table = music_table.reset_index().rename(columns={\"index\":\"id\"})\n",
    "music_table"
   ]
  },
  {
   "cell_type": "code",
   "execution_count": null,
   "metadata": {},
   "outputs": [],
   "source": [
    "music_dict = music_table.set_index(\"name\")[\"id\"].to_dict()\n",
    "music_business_relation_table[\"music_id\"] = music_business_relation_table[\"name\"].map(lambda x: music_dict[x])\n",
    "del music_business_relation_table[\"name\"]\n",
    "music_business_relation_table"
   ]
  },
  {
   "cell_type": "markdown",
   "metadata": {},
   "source": [
    "## Business parking "
   ]
  },
  {
   "cell_type": "code",
   "execution_count": null,
   "metadata": {},
   "outputs": [],
   "source": [
    "parking_temp = attributes[attributes.map(lambda x: \"BusinessParking\" in x)].map(lambda x: eval(x[\"BusinessParking\"]))\n",
    "parking_temp = parking_temp[parking_temp.map(lambda x: x != None)]\n",
    "parking_temp = parking_temp.progress_map(lambda m: [key for key in m.keys() if m[key]])\n",
    "parking_temp = parking_temp[parking_temp.map(lambda l: len(l) > 0)].reset_index().rename(columns={\"index\":\"business_id\", \"attributes\":\"name\"})\n",
    "parking_temp"
   ]
  },
  {
   "cell_type": "code",
   "execution_count": null,
   "metadata": {},
   "outputs": [],
   "source": [
    "parking_business_relation_table = (parking_temp['name']\n",
    "    .progress_apply(lambda x: pd.Series(x))\n",
    "    .stack()\n",
    "    .reset_index(level=1, drop=True)\n",
    "    .to_frame('name')\n",
    "    .join(parking_temp[['business_id']], how='left'))\n",
    "parking_business_relation_table"
   ]
  },
  {
   "cell_type": "code",
   "execution_count": null,
   "metadata": {},
   "outputs": [],
   "source": [
    "business_parking_table = parking_business_relation_table[\"name\"].drop_duplicates().reset_index()\n",
    "business_parking_table.index += 1\n",
    "del business_parking_table[\"index\"]\n",
    "business_parking_table = business_parking_table.reset_index().rename(columns={\"index\":\"id\"})\n",
    "business_parking_table"
   ]
  },
  {
   "cell_type": "code",
   "execution_count": null,
   "metadata": {},
   "outputs": [],
   "source": [
    "parking_dict = business_parking_table.set_index(\"name\")[\"id\"].to_dict()\n",
    "parking_business_relation_table[\"parking_id\"] = parking_business_relation_table[\"name\"].map(lambda x: parking_dict[x])\n",
    "del parking_business_relation_table[\"name\"]\n",
    "parking_business_relation_table"
   ]
  },
  {
   "cell_type": "markdown",
   "metadata": {},
   "source": [
    "## Ambience"
   ]
  },
  {
   "cell_type": "code",
   "execution_count": null,
   "metadata": {},
   "outputs": [],
   "source": [
    "ambience_temp = attributes[attributes.map(lambda x: \"Ambience\" in x)].map(lambda x: eval(x[\"Ambience\"]))\n",
    "ambience_temp = ambience_temp[ambience_temp.map(lambda x: x != None)]\n",
    "ambience_temp = ambience_temp.progress_map(lambda m: [key for key in m.keys() if m[key]])\n",
    "ambience_temp = ambience_temp[ambience_temp.map(lambda l: len(l) > 0)].reset_index().rename(columns={\"index\":\"business_id\", \"attributes\":\"name\"})\n",
    "ambience_temp"
   ]
  },
  {
   "cell_type": "code",
   "execution_count": null,
   "metadata": {},
   "outputs": [],
   "source": [
    "ambience_business_relation_table = (ambience_temp['name']\n",
    "    .progress_apply(lambda x: pd.Series(x))\n",
    "    .stack()\n",
    "    .reset_index(level=1, drop=True)\n",
    "    .to_frame('name')\n",
    "    .join(ambience_temp[['business_id']], how='left'))\n",
    "ambience_business_relation_table"
   ]
  },
  {
   "cell_type": "code",
   "execution_count": null,
   "metadata": {},
   "outputs": [],
   "source": [
    "ambience_table = ambience_business_relation_table[\"name\"].drop_duplicates().reset_index()\n",
    "ambience_table.index += 1\n",
    "del ambience_table[\"index\"]\n",
    "ambience_table = ambience_table.reset_index().rename(columns={\"index\":\"id\"})\n",
    "ambience_table"
   ]
  },
  {
   "cell_type": "code",
   "execution_count": null,
   "metadata": {},
   "outputs": [],
   "source": [
    "ambience_dict = ambience_table.set_index(\"name\")[\"id\"].to_dict()\n",
    "ambience_business_relation_table[\"ambience_id\"] = ambience_business_relation_table[\"name\"].map(lambda x: ambience_dict[x])\n",
    "del ambience_business_relation_table[\"name\"]\n",
    "ambience_business_relation_table"
   ]
  },
  {
   "cell_type": "markdown",
   "metadata": {},
   "source": [
    "## Good for meal"
   ]
  },
  {
   "cell_type": "code",
   "execution_count": null,
   "metadata": {},
   "outputs": [],
   "source": [
    "good_for_meal_temp = attributes[attributes.map(lambda x: \"GoodForMeal\" in x)].map(lambda x: eval(x[\"GoodForMeal\"]))\n",
    "good_for_meal_temp = good_for_meal_temp[good_for_meal_temp.map(lambda x: x != None)]\n",
    "good_for_meal_temp = good_for_meal_temp.progress_map(lambda m: [key for key in m.keys() if m[key]])\n",
    "good_for_meal_temp = good_for_meal_temp[good_for_meal_temp.map(lambda l: len(l) > 0)].reset_index().rename(columns={\"index\":\"business_id\", \"attributes\":\"name\"})\n",
    "good_for_meal_temp"
   ]
  },
  {
   "cell_type": "code",
   "execution_count": null,
   "metadata": {},
   "outputs": [],
   "source": [
    "good_for_meal_business_relation_table = (good_for_meal_temp['name']\n",
    "    .progress_apply(lambda x: pd.Series(x))\n",
    "    .stack()\n",
    "    .reset_index(level=1, drop=True)\n",
    "    .to_frame('name')\n",
    "    .join(good_for_meal_temp[['business_id']], how='left'))\n",
    "good_for_meal_business_relation_table"
   ]
  },
  {
   "cell_type": "code",
   "execution_count": null,
   "metadata": {},
   "outputs": [],
   "source": [
    "good_for_meal_table = good_for_meal_business_relation_table[\"name\"].drop_duplicates().reset_index()\n",
    "good_for_meal_table.index += 1\n",
    "del good_for_meal_table[\"index\"]\n",
    "good_for_meal_table = good_for_meal_table.reset_index().rename(columns={\"index\":\"id\"})\n",
    "good_for_meal_table"
   ]
  },
  {
   "cell_type": "code",
   "execution_count": null,
   "metadata": {},
   "outputs": [],
   "source": [
    "good_for_meal_dict = good_for_meal_table.set_index(\"name\")[\"id\"].to_dict()\n",
    "good_for_meal_business_relation_table[\"ambience_id\"] = good_for_meal_business_relation_table[\"name\"].map(lambda x: good_for_meal_dict[x])\n",
    "del good_for_meal_business_relation_table[\"name\"]\n",
    "good_for_meal_business_relation_table"
   ]
  },
  {
   "cell_type": "markdown",
   "metadata": {},
   "source": [
    "## dietary restrictions"
   ]
  },
  {
   "cell_type": "code",
   "execution_count": null,
   "metadata": {},
   "outputs": [],
   "source": [
    "dietary_restrictions_temp = attributes[attributes.map(lambda x: \"DietaryRestrictions\" in x)].map(lambda x: eval(x[\"DietaryRestrictions\"]))\n",
    "dietary_restrictions_temp = dietary_restrictions_temp[dietary_restrictions_temp.map(lambda x: x != None)]\n",
    "dietary_restrictions_temp = dietary_restrictions_temp.progress_map(lambda m: [key for key in m.keys() if m[key]])\n",
    "dietary_restrictions_temp = dietary_restrictions_temp[dietary_restrictions_temp.map(lambda l: len(l) > 0)].reset_index().rename(columns={\"index\":\"business_id\", \"attributes\":\"name\"})\n",
    "dietary_restrictions_temp"
   ]
  },
  {
   "cell_type": "code",
   "execution_count": null,
   "metadata": {},
   "outputs": [],
   "source": [
    "dietary_restrictions_business_relation_table = (dietary_restrictions_temp['name']\n",
    "    .progress_apply(lambda x: pd.Series(x))\n",
    "    .stack()\n",
    "    .reset_index(level=1, drop=True)\n",
    "    .to_frame('name')\n",
    "    .join(dietary_restrictions_temp[['business_id']], how='left'))\n",
    "dietary_restrictions_business_relation_table"
   ]
  },
  {
   "cell_type": "code",
   "execution_count": null,
   "metadata": {},
   "outputs": [],
   "source": [
    "dietary_restrictions_table = dietary_restrictions_business_relation_table[\"name\"].drop_duplicates().reset_index()\n",
    "dietary_restrictions_table.index += 1\n",
    "del dietary_restrictions_table[\"index\"]\n",
    "dietary_restrictions_table = dietary_restrictions_table.reset_index().rename(columns={\"index\":\"id\"})\n",
    "dietary_restrictions_table"
   ]
  },
  {
   "cell_type": "code",
   "execution_count": null,
   "metadata": {},
   "outputs": [],
   "source": [
    "dietary_restrictions_dict = dietary_restrictions_table.set_index(\"name\")[\"id\"].to_dict()\n",
    "dietary_restrictions_business_relation_table[\"dietary_restrictions_id\"] = dietary_restrictions_business_relation_table[\"name\"].map(lambda x: dietary_restrictions_dict[x])\n",
    "del dietary_restrictions_business_relation_table[\"name\"]\n",
    "dietary_restrictions_business_relation_table"
   ]
  },
  {
   "cell_type": "markdown",
   "metadata": {},
   "source": [
    "# Parse schedule"
   ]
  },
  {
   "cell_type": "code",
   "execution_count": null,
   "metadata": {},
   "outputs": [],
   "source": [
    "schedule_temp = business_raw[\"hours\"]\n",
    "del business_table[\"hours\"]\n",
    "schedule_temp = schedule_temp[schedule_temp.map(lambda x: type(x) == str)].progress_map(eval)\n",
    "schedule_temp"
   ]
  },
  {
   "cell_type": "code",
   "execution_count": null,
   "metadata": {},
   "outputs": [],
   "source": [
    "days = [\"Monday\", \"Tuesday\", \"Wednesday\", \"Thursday\", \"Friday\", \"Saturday\", \"Sunday\"]\n",
    "day_table = pd.DataFrame(days, columns=[\"name\"])\n",
    "day_table.index += 1\n",
    "day_table = day_table.reset_index().rename(columns={\"index\": \"id\"})\n",
    "day_dict = day_table.set_index(\"name\")[\"id\"].to_dict()\n",
    "day_table"
   ]
  },
  {
   "cell_type": "code",
   "execution_count": null,
   "metadata": {},
   "outputs": [],
   "source": [
    "def schedules_on(day):\n",
    "    temp = schedule_temp[schedule_temp.map(lambda m: day in m)].progress_map(lambda m: m[day]).reset_index().rename(columns={\"index\": \"business_id\"})\n",
    "    temp[\"day_id\"] = day_dict[day]\n",
    "    temp[\"start_at\"] = temp[\"hours\"].map(lambda s: s.split(\"-\")[0])\n",
    "    temp[\"end_at\"] = temp[\"hours\"].map(lambda s: s.split(\"-\")[1])\n",
    "    del temp[\"hours\"]\n",
    "    return temp"
   ]
  },
  {
   "cell_type": "code",
   "execution_count": null,
   "metadata": {},
   "outputs": [],
   "source": [
    "schedule_table = pd.concat([schedules_on(day) for day in days])\n",
    "schedule_table"
   ]
  },
  {
   "cell_type": "code",
   "execution_count": null,
   "metadata": {},
   "outputs": [],
   "source": [
    "business_raw[business_raw[\"city\"] == \"New York city\"]"
   ]
  },
  {
   "cell_type": "code",
   "execution_count": null,
   "metadata": {},
   "outputs": [],
   "source": [
    "locations.loc[119357]"
   ]
  },
  {
   "cell_type": "code",
   "execution_count": null,
   "metadata": {},
   "outputs": [],
   "source": [
    "postal_codes_table[postal_codes_table[\"id\"] == 119358]"
   ]
  },
  {
   "cell_type": "code",
   "execution_count": null,
   "metadata": {},
   "outputs": [],
   "source": [
    "city_table[city_table[\"id\"] == 119358]"
   ]
  },
  {
   "cell_type": "code",
   "execution_count": null,
   "metadata": {},
   "outputs": [],
   "source": [
    "business_raw"
   ]
  },
  {
   "cell_type": "code",
   "execution_count": null,
   "metadata": {},
   "outputs": [],
   "source": [
    "business_table"
   ]
  },
  {
   "cell_type": "markdown",
   "metadata": {},
   "source": [
    "# Store results"
   ]
  },
  {
   "cell_type": "code",
   "execution_count": null,
   "metadata": {},
   "outputs": [],
   "source": [
    "def store_table(table, file_name):\n",
    "    table.to_csv(\"generated/{}.csv\".format(file_name), index=False)\n",
    "store_table(state_table, \"state\")\n",
    "store_table(city_table, \"city\")\n",
    "store_table(postal_codes_table, \"postal_code\")\n",
    "store_table(business_table, \"business\")\n",
    "store_table(locations, \"business_locations\")\n",
    "store_table(categories, \"categorie\")\n",
    "store_table(business_categories, \"business_categorie\")\n",
    "store_table(noise_level, \"noise_level\")\n",
    "store_table(music_table, \"music\")\n",
    "store_table(music_business_relation_table, \"music_business_relation\")\n",
    "store_table(business_parking_table, \"business_parking\")\n",
    "store_table(parking_business_relation_table, \"parking_business_relation\")\n",
    "store_table(ambience_table, \"ambience\")\n",
    "store_table(ambience_business_relation_table, \"ambience_business_relation\")\n",
    "store_table(good_for_meal_table, \"good_for_meal\")\n",
    "store_table(good_for_meal_business_relation_table, \"good_for_meal_business_relation\")\n",
    "store_table(dietary_restrictions_table, \"dietary_restrictions\")\n",
    "store_table(dietary_restrictions_business_relation_table, \"dietary_restrictions_business_relation\")\n",
    "store_table(day_table, \"day\")\n",
    "store_table(schedule_table, \"schedule\")"
   ]
  },
  {
   "cell_type": "code",
   "execution_count": null,
   "metadata": {},
   "outputs": [],
   "source": [
    "business_categories[\"business_id\"][192608]"
   ]
  },
  {
   "cell_type": "code",
   "execution_count": null,
   "metadata": {},
   "outputs": [],
   "source": []
  }
 ],
 "metadata": {
  "file_extension": ".py",
  "kernelspec": {
   "display_name": "Python 3.8.0 64-bit",
   "language": "python",
   "name": "python38064bitf8d63df2eb2b4b21a6db407d9e8351c7"
  },
  "language_info": {
   "codemirror_mode": {
    "name": "ipython",
    "version": 3
   },
   "file_extension": ".py",
   "mimetype": "text/x-python",
   "name": "python",
   "nbconvert_exporter": "python",
   "pygments_lexer": "ipython3",
   "version": "3.8.0-final"
  },
  "mimetype": "text/x-python",
  "name": "python",
  "npconvert_exporter": "python",
  "pygments_lexer": "ipython3",
  "version": 3
 },
 "nbformat": 4,
 "nbformat_minor": 2
}