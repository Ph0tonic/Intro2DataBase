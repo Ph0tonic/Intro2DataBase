{
 "nbformat": 4,
 "nbformat_minor": 2,
 "metadata": {
  "language_info": {
   "name": "python",
   "codemirror_mode": {
    "name": "ipython",
    "version": 3
   },
   "version": "3.8.0-final"
  },
  "orig_nbformat": 2,
  "file_extension": ".py",
  "mimetype": "text/x-python",
  "name": "python",
  "npconvert_exporter": "python",
  "pygments_lexer": "ipython3",
  "version": 3,
  "kernelspec": {
   "name": "python38064bitf8d63df2eb2b4b21a6db407d9e8351c7",
   "display_name": "Python 3.8.0 64-bit"
  }
 },
 "cells": [
  {
   "cell_type": "code",
   "execution_count": 5,
   "metadata": {},
   "outputs": [],
   "source": [
    "import pandas as pd\n",
    "import psycopg2"
   ]
  },
  {
   "cell_type": "code",
   "execution_count": 19,
   "metadata": {},
   "outputs": [],
   "source": [
    "business_raw = pd.read_csv('csv_files/yelp_academic_dataset_business.csv')\n",
    ""
   ]
  },
  {
   "cell_type": "code",
   "execution_count": 20,
   "metadata": {},
   "outputs": [
    {
     "output_type": "execute_result",
     "data": {
      "text/plain": "                        address  \\\n0   2818 E Camino Acequia Drive   \n1          30 Eglinton Avenue W   \n2  1210 8th Street SW, Unit 220   \n3   6955 N Durango Dr, Ste 1116   \n4             4 E University Dr   \n\n                                          attributes             business_id  \\\n0                                                 {}  1SWheh84yJXfytovILXOAQ   \n1  {'GoodForMeal': \"{'dessert': False, 'latenight...  QXAEGFB4oINsVuTFxEYKFQ   \n2  {'BusinessParking': \"{'garage': False, 'street...  fcXOEZdXYeZqnQ3lGlOXmg   \n3  {'BusinessParking': \"{'garage': False, 'street...  f2ZWZPENViL92BrFsIgR6w   \n4                                                 {}  6KgGE8B1RsR7jc9R5nuH0Q   \n\n                                          categories         city  \\\n0                                  Golf, Active Life      Phoenix   \n1  Specialty Food, Restaurants, Dim Sum, Imported...  Mississauga   \n2  Local Services, Professional Services, Compute...      Calgary   \n3                         Beauty & Spas, Hair Salons    Las Vegas   \n4                American (Traditional), Restaurants        Tempe   \n\n                                               hours  is_open   latitude  \\\n0                                                NaN        0  33.522143   \n1  {'Monday': '9:0-0:0', 'Tuesday': '9:0-0:0', 'W...        1  43.605499   \n2  {'Monday': '9:0-17:0', 'Tuesday': '9:0-17:0', ...        1  51.041771   \n3  {'Monday': '8:30-20:0', 'Tuesday': '8:30-20:0'...        1  36.287312   \n4                                                NaN        0  33.422192   \n\n    longitude                         name postal_code  review_count  stars  \\\n0 -112.018481   Arizona Biltmore Golf Club       85016             5    3.0   \n1  -79.652289   Emerald Chinese Restaurant     L5R 3E7           128    2.5   \n2 -114.081109  Nucleus Information Service     T2R 1L3             5    2.0   \n3 -115.289540                 Amazing Cuts       89149           116    4.5   \n4 -111.939615                 Ruby Tuesday       85281             9    2.5   \n\n  state  \n0    AZ  \n1    ON  \n2    AB  \n3    NV  \n4    AZ  ",
      "text/html": "<div>\n<style scoped>\n    .dataframe tbody tr th:only-of-type {\n        vertical-align: middle;\n    }\n\n    .dataframe tbody tr th {\n        vertical-align: top;\n    }\n\n    .dataframe thead th {\n        text-align: right;\n    }\n</style>\n<table border=\"1\" class=\"dataframe\">\n  <thead>\n    <tr style=\"text-align: right;\">\n      <th></th>\n      <th>address</th>\n      <th>attributes</th>\n      <th>business_id</th>\n      <th>categories</th>\n      <th>city</th>\n      <th>hours</th>\n      <th>is_open</th>\n      <th>latitude</th>\n      <th>longitude</th>\n      <th>name</th>\n      <th>postal_code</th>\n      <th>review_count</th>\n      <th>stars</th>\n      <th>state</th>\n    </tr>\n  </thead>\n  <tbody>\n    <tr>\n      <th>0</th>\n      <td>2818 E Camino Acequia Drive</td>\n      <td>{}</td>\n      <td>1SWheh84yJXfytovILXOAQ</td>\n      <td>Golf, Active Life</td>\n      <td>Phoenix</td>\n      <td>NaN</td>\n      <td>0</td>\n      <td>33.522143</td>\n      <td>-112.018481</td>\n      <td>Arizona Biltmore Golf Club</td>\n      <td>85016</td>\n      <td>5</td>\n      <td>3.0</td>\n      <td>AZ</td>\n    </tr>\n    <tr>\n      <th>1</th>\n      <td>30 Eglinton Avenue W</td>\n      <td>{'GoodForMeal': \"{'dessert': False, 'latenight...</td>\n      <td>QXAEGFB4oINsVuTFxEYKFQ</td>\n      <td>Specialty Food, Restaurants, Dim Sum, Imported...</td>\n      <td>Mississauga</td>\n      <td>{'Monday': '9:0-0:0', 'Tuesday': '9:0-0:0', 'W...</td>\n      <td>1</td>\n      <td>43.605499</td>\n      <td>-79.652289</td>\n      <td>Emerald Chinese Restaurant</td>\n      <td>L5R 3E7</td>\n      <td>128</td>\n      <td>2.5</td>\n      <td>ON</td>\n    </tr>\n    <tr>\n      <th>2</th>\n      <td>1210 8th Street SW, Unit 220</td>\n      <td>{'BusinessParking': \"{'garage': False, 'street...</td>\n      <td>fcXOEZdXYeZqnQ3lGlOXmg</td>\n      <td>Local Services, Professional Services, Compute...</td>\n      <td>Calgary</td>\n      <td>{'Monday': '9:0-17:0', 'Tuesday': '9:0-17:0', ...</td>\n      <td>1</td>\n      <td>51.041771</td>\n      <td>-114.081109</td>\n      <td>Nucleus Information Service</td>\n      <td>T2R 1L3</td>\n      <td>5</td>\n      <td>2.0</td>\n      <td>AB</td>\n    </tr>\n    <tr>\n      <th>3</th>\n      <td>6955 N Durango Dr, Ste 1116</td>\n      <td>{'BusinessParking': \"{'garage': False, 'street...</td>\n      <td>f2ZWZPENViL92BrFsIgR6w</td>\n      <td>Beauty &amp; Spas, Hair Salons</td>\n      <td>Las Vegas</td>\n      <td>{'Monday': '8:30-20:0', 'Tuesday': '8:30-20:0'...</td>\n      <td>1</td>\n      <td>36.287312</td>\n      <td>-115.289540</td>\n      <td>Amazing Cuts</td>\n      <td>89149</td>\n      <td>116</td>\n      <td>4.5</td>\n      <td>NV</td>\n    </tr>\n    <tr>\n      <th>4</th>\n      <td>4 E University Dr</td>\n      <td>{}</td>\n      <td>6KgGE8B1RsR7jc9R5nuH0Q</td>\n      <td>American (Traditional), Restaurants</td>\n      <td>Tempe</td>\n      <td>NaN</td>\n      <td>0</td>\n      <td>33.422192</td>\n      <td>-111.939615</td>\n      <td>Ruby Tuesday</td>\n      <td>85281</td>\n      <td>9</td>\n      <td>2.5</td>\n      <td>AZ</td>\n    </tr>\n  </tbody>\n</table>\n</div>"
     },
     "metadata": {},
     "execution_count": 20
    }
   ],
   "source": [
    "business_raw.head()"
   ]
  },
  {
   "cell_type": "code",
   "execution_count": 15,
   "metadata": {},
   "outputs": [
    {
     "output_type": "stream",
     "name": "stdout",
     "text": "Connection worked\n"
    }
   ],
   "source": [
    "con = psycopg2.connect(database=\"template1\", user=\"Pialex99\", password=\"\", host=\"127.0.0.1\", port=\"5432\")\n",
    "print(\"Connection worked\")"
   ]
  },
  {
   "cell_type": "code",
   "execution_count": 18,
   "metadata": {},
   "outputs": [],
   "source": [
    "con.close()"
   ]
  },
  {
   "cell_type": "code",
   "execution_count": 16,
   "metadata": {},
   "outputs": [],
   "source": [
    "cur = con.cursor()"
   ]
  },
  {
   "cell_type": "code",
   "execution_count": 17,
   "metadata": {},
   "outputs": [
    {
     "output_type": "execute_result",
     "data": {
      "text/plain": "[(1, 'AZ')]"
     },
     "metadata": {},
     "execution_count": 17
    }
   ],
   "source": [
    "cur.execute(\"select * from state\")\n",
    "cur.fetchall()"
   ]
  },
  {
   "cell_type": "code",
   "execution_count": null,
   "metadata": {},
   "outputs": [],
   "source": [
    "cur.execute(\"insert into state (id, name) values (1, 'AZ')\")\n",
    "con.commit()"
   ]
  }
 ]
}