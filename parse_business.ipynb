{
 "cells": [
  {
   "cell_type": "code",
   "execution_count": null,
   "metadata": {},
   "outputs": [],
   "source": [
    "import numpy as np\n",
    "import pandas as pd\n",
    "import psycopg2\n",
    "from tqdm import tqdm\n",
    "tqdm.pandas()"
   ]
  },
  {
   "cell_type": "code",
   "execution_count": 282,
   "metadata": {},
   "outputs": [],
   "source": [
    "business_raw = pd.read_csv('csv_files/yelp_academic_dataset_business.csv')\n",
    "business_raw.index +=1"
   ]
  },
  {
   "cell_type": "code",
   "execution_count": null,
   "metadata": {},
   "outputs": [],
   "source": [
    "business_raw.head()"
   ]
  },
  {
   "cell_type": "code",
   "execution_count": null,
   "metadata": {},
   "outputs": [],
   "source": [
    "business_raw.shape"
   ]
  },
  {
   "cell_type": "code",
   "execution_count": null,
   "metadata": {},
   "outputs": [],
   "source": [
    "business_raw[business_raw[\"address\"].isna()].shape"
   ]
  },
  {
   "cell_type": "code",
   "execution_count": null,
   "metadata": {},
   "outputs": [],
   "source": [
    "business_raw[business_raw[\"attributes\"].isna()].shape"
   ]
  },
  {
   "cell_type": "code",
   "execution_count": null,
   "metadata": {},
   "outputs": [],
   "source": [
    "business_raw[business_raw[\"business_id\"].isna()].shape"
   ]
  },
  {
   "cell_type": "code",
   "execution_count": null,
   "metadata": {},
   "outputs": [],
   "source": [
    "business_raw[business_raw[\"categories\"].isna()].shape"
   ]
  },
  {
   "cell_type": "code",
   "execution_count": null,
   "metadata": {},
   "outputs": [],
   "source": [
    "business_raw[business_raw[\"city\"].isna()]"
   ]
  },
  {
   "cell_type": "code",
   "execution_count": null,
   "metadata": {},
   "outputs": [],
   "source": [
    "business_raw[business_raw[\"hours\"].isna()].shape"
   ]
  },
  {
   "cell_type": "code",
   "execution_count": null,
   "metadata": {},
   "outputs": [],
   "source": [
    "business_raw[business_raw[\"is_open\"].isna()].shape"
   ]
  },
  {
   "cell_type": "code",
   "execution_count": null,
   "metadata": {},
   "outputs": [],
   "source": [
    "business_raw[business_raw[\"latitude\"].isna()].shape"
   ]
  },
  {
   "cell_type": "code",
   "execution_count": null,
   "metadata": {},
   "outputs": [],
   "source": [
    "business_raw[business_raw[\"longitude\"].isna()].shape"
   ]
  },
  {
   "cell_type": "code",
   "execution_count": null,
   "metadata": {},
   "outputs": [],
   "source": [
    "business_raw[business_raw[\"name\"].isna()].shape"
   ]
  },
  {
   "cell_type": "code",
   "execution_count": null,
   "metadata": {},
   "outputs": [],
   "source": [
    "business_raw[business_raw[\"postal_code\"].isna()].shape"
   ]
  },
  {
   "cell_type": "code",
   "execution_count": null,
   "metadata": {},
   "outputs": [],
   "source": [
    "business_raw[business_raw[\"review_count\"].isna()].shape"
   ]
  },
  {
   "cell_type": "code",
   "execution_count": null,
   "metadata": {},
   "outputs": [],
   "source": [
    "business_raw[business_raw[\"stars\"].isna()].shape"
   ]
  },
  {
   "cell_type": "code",
   "execution_count": null,
   "metadata": {},
   "outputs": [],
   "source": [
    "business_raw[business_raw[\"state\"].isna()].shape"
   ]
  },
  {
   "cell_type": "code",
   "execution_count": null,
   "metadata": {},
   "outputs": [],
   "source": [
    "business_raw[business_raw[\"is_open\"] == 1][business_raw[\"hours\"].isna()]"
   ]
  },
  {
   "cell_type": "code",
   "execution_count": null,
   "metadata": {},
   "outputs": [],
   "source": [
    "business_raw[business_raw[\"postal_code\"].isna()][business_raw[\"address\"].isna() == False]"
   ]
  },
  {
   "cell_type": "markdown",
   "metadata": {},
   "source": [
    "We have 0 business without a state, 1 business without a city, 659 businesses without a postal_code, 7682 businesses without an address among which only 545 has no postal_code, so we have 114 businesses with an address but no postal_code"
   ]
  },
  {
   "cell_type": "code",
   "execution_count": null,
   "metadata": {},
   "outputs": [],
   "source": [
    "eval(business_raw[\"attributes\"][2])"
   ]
  },
  {
   "cell_type": "markdown",
   "metadata": {},
   "source": [
    "\n",
    "# Parse businesses ids"
   ]
  },
  {
   "cell_type": "code",
   "execution_count": 283,
   "metadata": {
    "tags": [
     "outputPrepend"
    ]
   },
   "outputs": [
    {
     "output_type": "execute_result",
     "data": {
      "text/plain": "            id                                   address  \\\n0            1               2818 E Camino Acequia Drive   \n1            2                      30 Eglinton Avenue W   \n2            3              1210 8th Street SW, Unit 220   \n3            4               6955 N Durango Dr, Ste 1116   \n4            5                         4 E University Dr   \n...        ...                                       ...   \n192604  192605                521 St. Catherine Street W   \n192605  192606                       244 Victoria Street   \n192606  192607                       10210 South 50th Pl   \n192607  192608  6670 S Tenaya Way, Ste 120, The Body Spa   \n192608  192609                 14050 N 83rd Ave, Ste 290   \n\n                                               attributes  \\\n0                                                      {}   \n1       {'GoodForMeal': \"{'dessert': False, 'latenight...   \n2       {'BusinessParking': \"{'garage': False, 'street...   \n3       {'BusinessParking': \"{'garage': False, 'street...   \n4                                                      {}   \n...                                                   ...   \n192604  {'Ambience': \"{'romantic': False, 'intimate': ...   \n192605                                                 {}   \n192606                                                NaN   \n192607  {'BusinessParking': \"{'garage': False, 'street...   \n192608                                                NaN   \n\n                                               categories         city  \\\n0                                       Golf, Active Life      Phoenix   \n1       Specialty Food, Restaurants, Dim Sum, Imported...  Mississauga   \n2       Local Services, Professional Services, Compute...      Calgary   \n3                              Beauty & Spas, Hair Salons    Las Vegas   \n4                     American (Traditional), Restaurants        Tempe   \n...                                                   ...          ...   \n192604            Restaurants, Venezuelan, Latin American     Montréal   \n192605              Arts & Entertainment, Performing Arts      Toronto   \n192606           Education, Middle Schools & High Schools      Phoenix   \n192607  Beauty & Spas, Eyelash Service, Waxing, Esthet...    Las Vegas   \n192608  Professional Services, Wills, Trusts, & Probat...       Peoria   \n\n                                                    hours  is_open   latitude  \\\n0                                                     NaN        0  33.522143   \n1       {'Monday': '9:0-0:0', 'Tuesday': '9:0-0:0', 'W...        1  43.605499   \n2       {'Monday': '9:0-17:0', 'Tuesday': '9:0-17:0', ...        1  51.041771   \n3       {'Monday': '8:30-20:0', 'Tuesday': '8:30-20:0'...        1  36.287312   \n4                                                     NaN        0  33.422192   \n...                                                   ...      ...        ...   \n192604                                                NaN        0  45.504597   \n192605                                                NaN        1  43.655290   \n192606  {'Monday': '7:30-17:30', 'Tuesday': '7:30-17:3...        1  33.354284   \n192607  {'Monday': '0:0-0:0', 'Tuesday': '9:0-19:0', '...        1  36.066952   \n192608  {'Monday': '8:0-18:0', 'Tuesday': '8:0-18:0', ...        1  33.612226   \n\n         longitude                         name postal_code  review_count  \\\n0      -112.018481   Arizona Biltmore Golf Club       85016             5   \n1       -79.652289   Emerald Chinese Restaurant     L5R 3E7           128   \n2      -114.081109  Nucleus Information Service     T2R 1L3             5   \n3      -115.289540                 Amazing Cuts       89149           116   \n4      -111.939615                 Ruby Tuesday       85281             9   \n...            ...                          ...         ...           ...   \n192604  -73.568456                       Arepas     H3B 1A6            15   \n192605  -79.379541           Ed Mirvish Theatre     M5B 1V8            58   \n192606 -111.975538              BASIS Ahwatukee       85044             3   \n192607 -115.251008              Brows Redefined       89113            15   \n192608 -112.238145   Affordable Estate Planning       85381             3   \n\n        stars state  \n0         3.0    AZ  \n1         2.5    ON  \n2         2.0    AB  \n3         4.5    NV  \n4         2.5    AZ  \n...       ...   ...  \n192604    3.5    QC  \n192605    4.0    ON  \n192606    2.5    AZ  \n192607    5.0    NV  \n192608    5.0    AZ  \n\n[192609 rows x 14 columns]",
      "text/html": "<div>\n<style scoped>\n    .dataframe tbody tr th:only-of-type {\n        vertical-align: middle;\n    }\n\n    .dataframe tbody tr th {\n        vertical-align: top;\n    }\n\n    .dataframe thead th {\n        text-align: right;\n    }\n</style>\n<table border=\"1\" class=\"dataframe\">\n  <thead>\n    <tr style=\"text-align: right;\">\n      <th></th>\n      <th>id</th>\n      <th>address</th>\n      <th>attributes</th>\n      <th>categories</th>\n      <th>city</th>\n      <th>hours</th>\n      <th>is_open</th>\n      <th>latitude</th>\n      <th>longitude</th>\n      <th>name</th>\n      <th>postal_code</th>\n      <th>review_count</th>\n      <th>stars</th>\n      <th>state</th>\n    </tr>\n  </thead>\n  <tbody>\n    <tr>\n      <th>0</th>\n      <td>1</td>\n      <td>2818 E Camino Acequia Drive</td>\n      <td>{}</td>\n      <td>Golf, Active Life</td>\n      <td>Phoenix</td>\n      <td>NaN</td>\n      <td>0</td>\n      <td>33.522143</td>\n      <td>-112.018481</td>\n      <td>Arizona Biltmore Golf Club</td>\n      <td>85016</td>\n      <td>5</td>\n      <td>3.0</td>\n      <td>AZ</td>\n    </tr>\n    <tr>\n      <th>1</th>\n      <td>2</td>\n      <td>30 Eglinton Avenue W</td>\n      <td>{'GoodForMeal': \"{'dessert': False, 'latenight...</td>\n      <td>Specialty Food, Restaurants, Dim Sum, Imported...</td>\n      <td>Mississauga</td>\n      <td>{'Monday': '9:0-0:0', 'Tuesday': '9:0-0:0', 'W...</td>\n      <td>1</td>\n      <td>43.605499</td>\n      <td>-79.652289</td>\n      <td>Emerald Chinese Restaurant</td>\n      <td>L5R 3E7</td>\n      <td>128</td>\n      <td>2.5</td>\n      <td>ON</td>\n    </tr>\n    <tr>\n      <th>2</th>\n      <td>3</td>\n      <td>1210 8th Street SW, Unit 220</td>\n      <td>{'BusinessParking': \"{'garage': False, 'street...</td>\n      <td>Local Services, Professional Services, Compute...</td>\n      <td>Calgary</td>\n      <td>{'Monday': '9:0-17:0', 'Tuesday': '9:0-17:0', ...</td>\n      <td>1</td>\n      <td>51.041771</td>\n      <td>-114.081109</td>\n      <td>Nucleus Information Service</td>\n      <td>T2R 1L3</td>\n      <td>5</td>\n      <td>2.0</td>\n      <td>AB</td>\n    </tr>\n    <tr>\n      <th>3</th>\n      <td>4</td>\n      <td>6955 N Durango Dr, Ste 1116</td>\n      <td>{'BusinessParking': \"{'garage': False, 'street...</td>\n      <td>Beauty &amp; Spas, Hair Salons</td>\n      <td>Las Vegas</td>\n      <td>{'Monday': '8:30-20:0', 'Tuesday': '8:30-20:0'...</td>\n      <td>1</td>\n      <td>36.287312</td>\n      <td>-115.289540</td>\n      <td>Amazing Cuts</td>\n      <td>89149</td>\n      <td>116</td>\n      <td>4.5</td>\n      <td>NV</td>\n    </tr>\n    <tr>\n      <th>4</th>\n      <td>5</td>\n      <td>4 E University Dr</td>\n      <td>{}</td>\n      <td>American (Traditional), Restaurants</td>\n      <td>Tempe</td>\n      <td>NaN</td>\n      <td>0</td>\n      <td>33.422192</td>\n      <td>-111.939615</td>\n      <td>Ruby Tuesday</td>\n      <td>85281</td>\n      <td>9</td>\n      <td>2.5</td>\n      <td>AZ</td>\n    </tr>\n    <tr>\n      <th>...</th>\n      <td>...</td>\n      <td>...</td>\n      <td>...</td>\n      <td>...</td>\n      <td>...</td>\n      <td>...</td>\n      <td>...</td>\n      <td>...</td>\n      <td>...</td>\n      <td>...</td>\n      <td>...</td>\n      <td>...</td>\n      <td>...</td>\n      <td>...</td>\n    </tr>\n    <tr>\n      <th>192604</th>\n      <td>192605</td>\n      <td>521 St. Catherine Street W</td>\n      <td>{'Ambience': \"{'romantic': False, 'intimate': ...</td>\n      <td>Restaurants, Venezuelan, Latin American</td>\n      <td>Montréal</td>\n      <td>NaN</td>\n      <td>0</td>\n      <td>45.504597</td>\n      <td>-73.568456</td>\n      <td>Arepas</td>\n      <td>H3B 1A6</td>\n      <td>15</td>\n      <td>3.5</td>\n      <td>QC</td>\n    </tr>\n    <tr>\n      <th>192605</th>\n      <td>192606</td>\n      <td>244 Victoria Street</td>\n      <td>{}</td>\n      <td>Arts &amp; Entertainment, Performing Arts</td>\n      <td>Toronto</td>\n      <td>NaN</td>\n      <td>1</td>\n      <td>43.655290</td>\n      <td>-79.379541</td>\n      <td>Ed Mirvish Theatre</td>\n      <td>M5B 1V8</td>\n      <td>58</td>\n      <td>4.0</td>\n      <td>ON</td>\n    </tr>\n    <tr>\n      <th>192606</th>\n      <td>192607</td>\n      <td>10210 South 50th Pl</td>\n      <td>NaN</td>\n      <td>Education, Middle Schools &amp; High Schools</td>\n      <td>Phoenix</td>\n      <td>{'Monday': '7:30-17:30', 'Tuesday': '7:30-17:3...</td>\n      <td>1</td>\n      <td>33.354284</td>\n      <td>-111.975538</td>\n      <td>BASIS Ahwatukee</td>\n      <td>85044</td>\n      <td>3</td>\n      <td>2.5</td>\n      <td>AZ</td>\n    </tr>\n    <tr>\n      <th>192607</th>\n      <td>192608</td>\n      <td>6670 S Tenaya Way, Ste 120, The Body Spa</td>\n      <td>{'BusinessParking': \"{'garage': False, 'street...</td>\n      <td>Beauty &amp; Spas, Eyelash Service, Waxing, Esthet...</td>\n      <td>Las Vegas</td>\n      <td>{'Monday': '0:0-0:0', 'Tuesday': '9:0-19:0', '...</td>\n      <td>1</td>\n      <td>36.066952</td>\n      <td>-115.251008</td>\n      <td>Brows Redefined</td>\n      <td>89113</td>\n      <td>15</td>\n      <td>5.0</td>\n      <td>NV</td>\n    </tr>\n    <tr>\n      <th>192608</th>\n      <td>192609</td>\n      <td>14050 N 83rd Ave, Ste 290</td>\n      <td>NaN</td>\n      <td>Professional Services, Wills, Trusts, &amp; Probat...</td>\n      <td>Peoria</td>\n      <td>{'Monday': '8:0-18:0', 'Tuesday': '8:0-18:0', ...</td>\n      <td>1</td>\n      <td>33.612226</td>\n      <td>-112.238145</td>\n      <td>Affordable Estate Planning</td>\n      <td>85381</td>\n      <td>3</td>\n      <td>5.0</td>\n      <td>AZ</td>\n    </tr>\n  </tbody>\n</table>\n<p>192609 rows × 14 columns</p>\n</div>"
     },
     "metadata": {},
     "execution_count": 283
    }
   ],
   "source": [
    "business_ids = business_raw[\"business_id\"].reset_index().set_index(\"business_id\")[\"index\"].to_dict()\n",
    "del business_raw[\"business_id\"]\n",
    "business_table = business_raw.reset_index().rename(columns={'index':'id'})\n",
    "business_table"
   ]
  },
  {
   "cell_type": "markdown",
   "metadata": {},
   "source": [
    "# Parse Locations"
   ]
  },
  {
   "cell_type": "code",
   "execution_count": 284,
   "metadata": {},
   "outputs": [
    {
     "output_type": "execute_result",
     "data": {
      "text/plain": "        business_id                                   address         city  \\\n0                 1               2818 E Camino Acequia Drive      Phoenix   \n1                 2                      30 Eglinton Avenue W  Mississauga   \n2                 3              1210 8th Street SW, Unit 220      Calgary   \n3                 4               6955 N Durango Dr, Ste 1116    Las Vegas   \n4                 5                         4 E University Dr        Tempe   \n...             ...                                       ...          ...   \n192604       192605                521 St. Catherine Street W     Montréal   \n192605       192606                       244 Victoria Street      Toronto   \n192606       192607                       10210 South 50th Pl      Phoenix   \n192607       192608  6670 S Tenaya Way, Ste 120, The Body Spa    Las Vegas   \n192608       192609                 14050 N 83rd Ave, Ste 290       Peoria   \n\n         latitude   longitude postal_code state  \n0       33.522143 -112.018481       85016    AZ  \n1       43.605499  -79.652289     L5R 3E7    ON  \n2       51.041771 -114.081109     T2R 1L3    AB  \n3       36.287312 -115.289540       89149    NV  \n4       33.422192 -111.939615       85281    AZ  \n...           ...         ...         ...   ...  \n192604  45.504597  -73.568456     H3B 1A6    QC  \n192605  43.655290  -79.379541     M5B 1V8    ON  \n192606  33.354284 -111.975538       85044    AZ  \n192607  36.066952 -115.251008       89113    NV  \n192608  33.612226 -112.238145       85381    AZ  \n\n[192609 rows x 7 columns]",
      "text/html": "<div>\n<style scoped>\n    .dataframe tbody tr th:only-of-type {\n        vertical-align: middle;\n    }\n\n    .dataframe tbody tr th {\n        vertical-align: top;\n    }\n\n    .dataframe thead th {\n        text-align: right;\n    }\n</style>\n<table border=\"1\" class=\"dataframe\">\n  <thead>\n    <tr style=\"text-align: right;\">\n      <th></th>\n      <th>business_id</th>\n      <th>address</th>\n      <th>city</th>\n      <th>latitude</th>\n      <th>longitude</th>\n      <th>postal_code</th>\n      <th>state</th>\n    </tr>\n  </thead>\n  <tbody>\n    <tr>\n      <th>0</th>\n      <td>1</td>\n      <td>2818 E Camino Acequia Drive</td>\n      <td>Phoenix</td>\n      <td>33.522143</td>\n      <td>-112.018481</td>\n      <td>85016</td>\n      <td>AZ</td>\n    </tr>\n    <tr>\n      <th>1</th>\n      <td>2</td>\n      <td>30 Eglinton Avenue W</td>\n      <td>Mississauga</td>\n      <td>43.605499</td>\n      <td>-79.652289</td>\n      <td>L5R 3E7</td>\n      <td>ON</td>\n    </tr>\n    <tr>\n      <th>2</th>\n      <td>3</td>\n      <td>1210 8th Street SW, Unit 220</td>\n      <td>Calgary</td>\n      <td>51.041771</td>\n      <td>-114.081109</td>\n      <td>T2R 1L3</td>\n      <td>AB</td>\n    </tr>\n    <tr>\n      <th>3</th>\n      <td>4</td>\n      <td>6955 N Durango Dr, Ste 1116</td>\n      <td>Las Vegas</td>\n      <td>36.287312</td>\n      <td>-115.289540</td>\n      <td>89149</td>\n      <td>NV</td>\n    </tr>\n    <tr>\n      <th>4</th>\n      <td>5</td>\n      <td>4 E University Dr</td>\n      <td>Tempe</td>\n      <td>33.422192</td>\n      <td>-111.939615</td>\n      <td>85281</td>\n      <td>AZ</td>\n    </tr>\n    <tr>\n      <th>...</th>\n      <td>...</td>\n      <td>...</td>\n      <td>...</td>\n      <td>...</td>\n      <td>...</td>\n      <td>...</td>\n      <td>...</td>\n    </tr>\n    <tr>\n      <th>192604</th>\n      <td>192605</td>\n      <td>521 St. Catherine Street W</td>\n      <td>Montréal</td>\n      <td>45.504597</td>\n      <td>-73.568456</td>\n      <td>H3B 1A6</td>\n      <td>QC</td>\n    </tr>\n    <tr>\n      <th>192605</th>\n      <td>192606</td>\n      <td>244 Victoria Street</td>\n      <td>Toronto</td>\n      <td>43.655290</td>\n      <td>-79.379541</td>\n      <td>M5B 1V8</td>\n      <td>ON</td>\n    </tr>\n    <tr>\n      <th>192606</th>\n      <td>192607</td>\n      <td>10210 South 50th Pl</td>\n      <td>Phoenix</td>\n      <td>33.354284</td>\n      <td>-111.975538</td>\n      <td>85044</td>\n      <td>AZ</td>\n    </tr>\n    <tr>\n      <th>192607</th>\n      <td>192608</td>\n      <td>6670 S Tenaya Way, Ste 120, The Body Spa</td>\n      <td>Las Vegas</td>\n      <td>36.066952</td>\n      <td>-115.251008</td>\n      <td>89113</td>\n      <td>NV</td>\n    </tr>\n    <tr>\n      <th>192608</th>\n      <td>192609</td>\n      <td>14050 N 83rd Ave, Ste 290</td>\n      <td>Peoria</td>\n      <td>33.612226</td>\n      <td>-112.238145</td>\n      <td>85381</td>\n      <td>AZ</td>\n    </tr>\n  </tbody>\n</table>\n<p>192609 rows × 7 columns</p>\n</div>"
     },
     "metadata": {},
     "execution_count": 284
    }
   ],
   "source": [
    "locations = business_table[[\"id\", \"address\", \"city\", \"latitude\", \"longitude\", \"postal_code\", \"state\"]]\n",
    "del business_table[\"address\"]\n",
    "del business_table[\"city\"]\n",
    "del business_table[\"latitude\"]\n",
    "del business_table[\"longitude\"]\n",
    "del business_table[\"postal_code\"]\n",
    "del business_table[\"state\"]\n",
    "locations = locations.rename(columns={'id':'business_id'})\n",
    "locations"
   ]
  },
  {
   "cell_type": "markdown",
   "metadata": {},
   "source": [
    "## States"
   ]
  },
  {
   "cell_type": "code",
   "execution_count": 285,
   "metadata": {},
   "outputs": [
    {
     "output_type": "execute_result",
     "data": {
      "text/plain": "    id name\n0    1   AB\n1    2   AK\n2    3   AL\n3    4   AR\n4    5   AZ\n5    6  BAS\n6    7   BC\n7    8   CA\n8    9  CON\n9   10   CT\n10  11  DOW\n11  12  DUR\n12  13   FL\n13  14   GA\n14  15   IL\n15  16   NC\n16  17   NE\n17  18   NJ\n18  19   NM\n19  20   NV\n20  21   NY\n21  22   OH\n22  23   ON\n23  24   PA\n24  25   QC\n25  26   SC\n26  27   TN\n27  28   TX\n28  29   UT\n29  30   VA\n30  31   VT\n31  32   WA\n32  33   WI\n33  34  XGL\n34  35  XGM\n35  36  XWY",
      "text/html": "<div>\n<style scoped>\n    .dataframe tbody tr th:only-of-type {\n        vertical-align: middle;\n    }\n\n    .dataframe tbody tr th {\n        vertical-align: top;\n    }\n\n    .dataframe thead th {\n        text-align: right;\n    }\n</style>\n<table border=\"1\" class=\"dataframe\">\n  <thead>\n    <tr style=\"text-align: right;\">\n      <th></th>\n      <th>id</th>\n      <th>name</th>\n    </tr>\n  </thead>\n  <tbody>\n    <tr>\n      <th>0</th>\n      <td>1</td>\n      <td>AB</td>\n    </tr>\n    <tr>\n      <th>1</th>\n      <td>2</td>\n      <td>AK</td>\n    </tr>\n    <tr>\n      <th>2</th>\n      <td>3</td>\n      <td>AL</td>\n    </tr>\n    <tr>\n      <th>3</th>\n      <td>4</td>\n      <td>AR</td>\n    </tr>\n    <tr>\n      <th>4</th>\n      <td>5</td>\n      <td>AZ</td>\n    </tr>\n    <tr>\n      <th>5</th>\n      <td>6</td>\n      <td>BAS</td>\n    </tr>\n    <tr>\n      <th>6</th>\n      <td>7</td>\n      <td>BC</td>\n    </tr>\n    <tr>\n      <th>7</th>\n      <td>8</td>\n      <td>CA</td>\n    </tr>\n    <tr>\n      <th>8</th>\n      <td>9</td>\n      <td>CON</td>\n    </tr>\n    <tr>\n      <th>9</th>\n      <td>10</td>\n      <td>CT</td>\n    </tr>\n    <tr>\n      <th>10</th>\n      <td>11</td>\n      <td>DOW</td>\n    </tr>\n    <tr>\n      <th>11</th>\n      <td>12</td>\n      <td>DUR</td>\n    </tr>\n    <tr>\n      <th>12</th>\n      <td>13</td>\n      <td>FL</td>\n    </tr>\n    <tr>\n      <th>13</th>\n      <td>14</td>\n      <td>GA</td>\n    </tr>\n    <tr>\n      <th>14</th>\n      <td>15</td>\n      <td>IL</td>\n    </tr>\n    <tr>\n      <th>15</th>\n      <td>16</td>\n      <td>NC</td>\n    </tr>\n    <tr>\n      <th>16</th>\n      <td>17</td>\n      <td>NE</td>\n    </tr>\n    <tr>\n      <th>17</th>\n      <td>18</td>\n      <td>NJ</td>\n    </tr>\n    <tr>\n      <th>18</th>\n      <td>19</td>\n      <td>NM</td>\n    </tr>\n    <tr>\n      <th>19</th>\n      <td>20</td>\n      <td>NV</td>\n    </tr>\n    <tr>\n      <th>20</th>\n      <td>21</td>\n      <td>NY</td>\n    </tr>\n    <tr>\n      <th>21</th>\n      <td>22</td>\n      <td>OH</td>\n    </tr>\n    <tr>\n      <th>22</th>\n      <td>23</td>\n      <td>ON</td>\n    </tr>\n    <tr>\n      <th>23</th>\n      <td>24</td>\n      <td>PA</td>\n    </tr>\n    <tr>\n      <th>24</th>\n      <td>25</td>\n      <td>QC</td>\n    </tr>\n    <tr>\n      <th>25</th>\n      <td>26</td>\n      <td>SC</td>\n    </tr>\n    <tr>\n      <th>26</th>\n      <td>27</td>\n      <td>TN</td>\n    </tr>\n    <tr>\n      <th>27</th>\n      <td>28</td>\n      <td>TX</td>\n    </tr>\n    <tr>\n      <th>28</th>\n      <td>29</td>\n      <td>UT</td>\n    </tr>\n    <tr>\n      <th>29</th>\n      <td>30</td>\n      <td>VA</td>\n    </tr>\n    <tr>\n      <th>30</th>\n      <td>31</td>\n      <td>VT</td>\n    </tr>\n    <tr>\n      <th>31</th>\n      <td>32</td>\n      <td>WA</td>\n    </tr>\n    <tr>\n      <th>32</th>\n      <td>33</td>\n      <td>WI</td>\n    </tr>\n    <tr>\n      <th>33</th>\n      <td>34</td>\n      <td>XGL</td>\n    </tr>\n    <tr>\n      <th>34</th>\n      <td>35</td>\n      <td>XGM</td>\n    </tr>\n    <tr>\n      <th>35</th>\n      <td>36</td>\n      <td>XWY</td>\n    </tr>\n  </tbody>\n</table>\n</div>"
     },
     "metadata": {},
     "execution_count": 285
    }
   ],
   "source": [
    "state_table = locations[\"state\"].drop_duplicates()\n",
    "state_table = state_table.sort_values().reset_index()\n",
    "state_table.index += 1\n",
    "del state_table[\"index\"]\n",
    "state_table = state_table.reset_index().rename(columns={\"index\":\"id\", \"state\": \"name\"})\n",
    "state_table"
   ]
  },
  {
   "cell_type": "code",
   "execution_count": 286,
   "metadata": {},
   "outputs": [
    {
     "output_type": "stream",
     "name": "stderr",
     "text": "100%|██████████| 192609/192609 [00:00<00:00, 577326.66it/s]\n"
    },
    {
     "output_type": "execute_result",
     "data": {
      "text/plain": "        business_id                                   address         city  \\\n0                 1               2818 E Camino Acequia Drive      Phoenix   \n1                 2                      30 Eglinton Avenue W  Mississauga   \n2                 3              1210 8th Street SW, Unit 220      Calgary   \n3                 4               6955 N Durango Dr, Ste 1116    Las Vegas   \n4                 5                         4 E University Dr        Tempe   \n...             ...                                       ...          ...   \n192604       192605                521 St. Catherine Street W     Montréal   \n192605       192606                       244 Victoria Street      Toronto   \n192606       192607                       10210 South 50th Pl      Phoenix   \n192607       192608  6670 S Tenaya Way, Ste 120, The Body Spa    Las Vegas   \n192608       192609                 14050 N 83rd Ave, Ste 290       Peoria   \n\n         latitude   longitude postal_code  state_id  \n0       33.522143 -112.018481       85016         5  \n1       43.605499  -79.652289     L5R 3E7        23  \n2       51.041771 -114.081109     T2R 1L3         1  \n3       36.287312 -115.289540       89149        20  \n4       33.422192 -111.939615       85281         5  \n...           ...         ...         ...       ...  \n192604  45.504597  -73.568456     H3B 1A6        25  \n192605  43.655290  -79.379541     M5B 1V8        23  \n192606  33.354284 -111.975538       85044         5  \n192607  36.066952 -115.251008       89113        20  \n192608  33.612226 -112.238145       85381         5  \n\n[192609 rows x 7 columns]",
      "text/html": "<div>\n<style scoped>\n    .dataframe tbody tr th:only-of-type {\n        vertical-align: middle;\n    }\n\n    .dataframe tbody tr th {\n        vertical-align: top;\n    }\n\n    .dataframe thead th {\n        text-align: right;\n    }\n</style>\n<table border=\"1\" class=\"dataframe\">\n  <thead>\n    <tr style=\"text-align: right;\">\n      <th></th>\n      <th>business_id</th>\n      <th>address</th>\n      <th>city</th>\n      <th>latitude</th>\n      <th>longitude</th>\n      <th>postal_code</th>\n      <th>state_id</th>\n    </tr>\n  </thead>\n  <tbody>\n    <tr>\n      <th>0</th>\n      <td>1</td>\n      <td>2818 E Camino Acequia Drive</td>\n      <td>Phoenix</td>\n      <td>33.522143</td>\n      <td>-112.018481</td>\n      <td>85016</td>\n      <td>5</td>\n    </tr>\n    <tr>\n      <th>1</th>\n      <td>2</td>\n      <td>30 Eglinton Avenue W</td>\n      <td>Mississauga</td>\n      <td>43.605499</td>\n      <td>-79.652289</td>\n      <td>L5R 3E7</td>\n      <td>23</td>\n    </tr>\n    <tr>\n      <th>2</th>\n      <td>3</td>\n      <td>1210 8th Street SW, Unit 220</td>\n      <td>Calgary</td>\n      <td>51.041771</td>\n      <td>-114.081109</td>\n      <td>T2R 1L3</td>\n      <td>1</td>\n    </tr>\n    <tr>\n      <th>3</th>\n      <td>4</td>\n      <td>6955 N Durango Dr, Ste 1116</td>\n      <td>Las Vegas</td>\n      <td>36.287312</td>\n      <td>-115.289540</td>\n      <td>89149</td>\n      <td>20</td>\n    </tr>\n    <tr>\n      <th>4</th>\n      <td>5</td>\n      <td>4 E University Dr</td>\n      <td>Tempe</td>\n      <td>33.422192</td>\n      <td>-111.939615</td>\n      <td>85281</td>\n      <td>5</td>\n    </tr>\n    <tr>\n      <th>...</th>\n      <td>...</td>\n      <td>...</td>\n      <td>...</td>\n      <td>...</td>\n      <td>...</td>\n      <td>...</td>\n      <td>...</td>\n    </tr>\n    <tr>\n      <th>192604</th>\n      <td>192605</td>\n      <td>521 St. Catherine Street W</td>\n      <td>Montréal</td>\n      <td>45.504597</td>\n      <td>-73.568456</td>\n      <td>H3B 1A6</td>\n      <td>25</td>\n    </tr>\n    <tr>\n      <th>192605</th>\n      <td>192606</td>\n      <td>244 Victoria Street</td>\n      <td>Toronto</td>\n      <td>43.655290</td>\n      <td>-79.379541</td>\n      <td>M5B 1V8</td>\n      <td>23</td>\n    </tr>\n    <tr>\n      <th>192606</th>\n      <td>192607</td>\n      <td>10210 South 50th Pl</td>\n      <td>Phoenix</td>\n      <td>33.354284</td>\n      <td>-111.975538</td>\n      <td>85044</td>\n      <td>5</td>\n    </tr>\n    <tr>\n      <th>192607</th>\n      <td>192608</td>\n      <td>6670 S Tenaya Way, Ste 120, The Body Spa</td>\n      <td>Las Vegas</td>\n      <td>36.066952</td>\n      <td>-115.251008</td>\n      <td>89113</td>\n      <td>20</td>\n    </tr>\n    <tr>\n      <th>192608</th>\n      <td>192609</td>\n      <td>14050 N 83rd Ave, Ste 290</td>\n      <td>Peoria</td>\n      <td>33.612226</td>\n      <td>-112.238145</td>\n      <td>85381</td>\n      <td>5</td>\n    </tr>\n  </tbody>\n</table>\n<p>192609 rows × 7 columns</p>\n</div>"
     },
     "metadata": {},
     "execution_count": 286
    }
   ],
   "source": [
    "state_dict = state_table.set_index(\"name\")[\"id\"].to_dict()\n",
    "locations[\"state_id\"] = locations[\"state\"].progress_apply(lambda s: state_dict[s])\n",
    "del locations[\"state\"]\n",
    "locations"
   ]
  },
  {
   "cell_type": "markdown",
   "metadata": {},
   "source": [
    "## Cities"
   ]
  },
  {
   "cell_type": "code",
   "execution_count": 287,
   "metadata": {},
   "outputs": [
    {
     "output_type": "execute_result",
     "data": {
      "text/plain": "        id         name  state_id\n0        1      Phoenix         5\n1        2  Mississauga        23\n2        3      Calgary         1\n3        4    Las Vegas        20\n4        5        Tempe         5\n...    ...          ...       ...\n1253  1254      Pahrump        20\n1254  1255    ETOBICOKE        23\n1255  1256  Rockey View         1\n1256  1257   Pittsburch        24\n1257  1258  Richmonhill        23\n\n[1258 rows x 3 columns]",
      "text/html": "<div>\n<style scoped>\n    .dataframe tbody tr th:only-of-type {\n        vertical-align: middle;\n    }\n\n    .dataframe tbody tr th {\n        vertical-align: top;\n    }\n\n    .dataframe thead th {\n        text-align: right;\n    }\n</style>\n<table border=\"1\" class=\"dataframe\">\n  <thead>\n    <tr style=\"text-align: right;\">\n      <th></th>\n      <th>id</th>\n      <th>name</th>\n      <th>state_id</th>\n    </tr>\n  </thead>\n  <tbody>\n    <tr>\n      <th>0</th>\n      <td>1</td>\n      <td>Phoenix</td>\n      <td>5</td>\n    </tr>\n    <tr>\n      <th>1</th>\n      <td>2</td>\n      <td>Mississauga</td>\n      <td>23</td>\n    </tr>\n    <tr>\n      <th>2</th>\n      <td>3</td>\n      <td>Calgary</td>\n      <td>1</td>\n    </tr>\n    <tr>\n      <th>3</th>\n      <td>4</td>\n      <td>Las Vegas</td>\n      <td>20</td>\n    </tr>\n    <tr>\n      <th>4</th>\n      <td>5</td>\n      <td>Tempe</td>\n      <td>5</td>\n    </tr>\n    <tr>\n      <th>...</th>\n      <td>...</td>\n      <td>...</td>\n      <td>...</td>\n    </tr>\n    <tr>\n      <th>1253</th>\n      <td>1254</td>\n      <td>Pahrump</td>\n      <td>20</td>\n    </tr>\n    <tr>\n      <th>1254</th>\n      <td>1255</td>\n      <td>ETOBICOKE</td>\n      <td>23</td>\n    </tr>\n    <tr>\n      <th>1255</th>\n      <td>1256</td>\n      <td>Rockey View</td>\n      <td>1</td>\n    </tr>\n    <tr>\n      <th>1256</th>\n      <td>1257</td>\n      <td>Pittsburch</td>\n      <td>24</td>\n    </tr>\n    <tr>\n      <th>1257</th>\n      <td>1258</td>\n      <td>Richmonhill</td>\n      <td>23</td>\n    </tr>\n  </tbody>\n</table>\n<p>1258 rows × 3 columns</p>\n</div>"
     },
     "metadata": {},
     "execution_count": 287
    }
   ],
   "source": [
    "city_table = locations[[\"city\", \"state_id\"]].drop_duplicates()\n",
    "city_table = city_table.reset_index()\n",
    "del city_table[\"index\"]\n",
    "city_table.index += 1\n",
    "city_table = city_table.reset_index()\n",
    "city_table = city_table.rename(columns={\"index\":\"id\", \"city\":\"name\"})\n",
    "city_table"
   ]
  },
  {
   "cell_type": "code",
   "execution_count": 288,
   "metadata": {},
   "outputs": [],
   "source": [
    "city_dict = city_table.set_index([\"name\", \"state_id\"])[\"id\"].to_dict()"
   ]
  },
  {
   "cell_type": "code",
   "execution_count": 289,
   "metadata": {},
   "outputs": [
    {
     "output_type": "stream",
     "name": "stderr",
     "text": "100%|██████████| 192609/192609 [00:08<00:00, 23230.99it/s]\n"
    },
    {
     "output_type": "execute_result",
     "data": {
      "text/plain": "        business_id                                   address   latitude  \\\n0                 1               2818 E Camino Acequia Drive  33.522143   \n1                 2                      30 Eglinton Avenue W  43.605499   \n2                 3              1210 8th Street SW, Unit 220  51.041771   \n3                 4               6955 N Durango Dr, Ste 1116  36.287312   \n4                 5                         4 E University Dr  33.422192   \n...             ...                                       ...        ...   \n192604       192605                521 St. Catherine Street W  45.504597   \n192605       192606                       244 Victoria Street  43.655290   \n192606       192607                       10210 South 50th Pl  33.354284   \n192607       192608  6670 S Tenaya Way, Ste 120, The Body Spa  36.066952   \n192608       192609                 14050 N 83rd Ave, Ste 290  33.612226   \n\n         longitude postal_code  city_id  \n0      -112.018481       85016        1  \n1       -79.652289     L5R 3E7        2  \n2      -114.081109     T2R 1L3        3  \n3      -115.289540       89149        4  \n4      -111.939615       85281        5  \n...            ...         ...      ...  \n192604  -73.568456     H3B 1A6        7  \n192605  -79.379541     M5B 1V8       23  \n192606 -111.975538       85044        1  \n192607 -115.251008       89113        4  \n192608 -112.238145       85381       35  \n\n[192609 rows x 6 columns]",
      "text/html": "<div>\n<style scoped>\n    .dataframe tbody tr th:only-of-type {\n        vertical-align: middle;\n    }\n\n    .dataframe tbody tr th {\n        vertical-align: top;\n    }\n\n    .dataframe thead th {\n        text-align: right;\n    }\n</style>\n<table border=\"1\" class=\"dataframe\">\n  <thead>\n    <tr style=\"text-align: right;\">\n      <th></th>\n      <th>business_id</th>\n      <th>address</th>\n      <th>latitude</th>\n      <th>longitude</th>\n      <th>postal_code</th>\n      <th>city_id</th>\n    </tr>\n  </thead>\n  <tbody>\n    <tr>\n      <th>0</th>\n      <td>1</td>\n      <td>2818 E Camino Acequia Drive</td>\n      <td>33.522143</td>\n      <td>-112.018481</td>\n      <td>85016</td>\n      <td>1</td>\n    </tr>\n    <tr>\n      <th>1</th>\n      <td>2</td>\n      <td>30 Eglinton Avenue W</td>\n      <td>43.605499</td>\n      <td>-79.652289</td>\n      <td>L5R 3E7</td>\n      <td>2</td>\n    </tr>\n    <tr>\n      <th>2</th>\n      <td>3</td>\n      <td>1210 8th Street SW, Unit 220</td>\n      <td>51.041771</td>\n      <td>-114.081109</td>\n      <td>T2R 1L3</td>\n      <td>3</td>\n    </tr>\n    <tr>\n      <th>3</th>\n      <td>4</td>\n      <td>6955 N Durango Dr, Ste 1116</td>\n      <td>36.287312</td>\n      <td>-115.289540</td>\n      <td>89149</td>\n      <td>4</td>\n    </tr>\n    <tr>\n      <th>4</th>\n      <td>5</td>\n      <td>4 E University Dr</td>\n      <td>33.422192</td>\n      <td>-111.939615</td>\n      <td>85281</td>\n      <td>5</td>\n    </tr>\n    <tr>\n      <th>...</th>\n      <td>...</td>\n      <td>...</td>\n      <td>...</td>\n      <td>...</td>\n      <td>...</td>\n      <td>...</td>\n    </tr>\n    <tr>\n      <th>192604</th>\n      <td>192605</td>\n      <td>521 St. Catherine Street W</td>\n      <td>45.504597</td>\n      <td>-73.568456</td>\n      <td>H3B 1A6</td>\n      <td>7</td>\n    </tr>\n    <tr>\n      <th>192605</th>\n      <td>192606</td>\n      <td>244 Victoria Street</td>\n      <td>43.655290</td>\n      <td>-79.379541</td>\n      <td>M5B 1V8</td>\n      <td>23</td>\n    </tr>\n    <tr>\n      <th>192606</th>\n      <td>192607</td>\n      <td>10210 South 50th Pl</td>\n      <td>33.354284</td>\n      <td>-111.975538</td>\n      <td>85044</td>\n      <td>1</td>\n    </tr>\n    <tr>\n      <th>192607</th>\n      <td>192608</td>\n      <td>6670 S Tenaya Way, Ste 120, The Body Spa</td>\n      <td>36.066952</td>\n      <td>-115.251008</td>\n      <td>89113</td>\n      <td>4</td>\n    </tr>\n    <tr>\n      <th>192608</th>\n      <td>192609</td>\n      <td>14050 N 83rd Ave, Ste 290</td>\n      <td>33.612226</td>\n      <td>-112.238145</td>\n      <td>85381</td>\n      <td>35</td>\n    </tr>\n  </tbody>\n</table>\n<p>192609 rows × 6 columns</p>\n</div>"
     },
     "metadata": {},
     "execution_count": 289
    }
   ],
   "source": [
    "locations[\"city_id\"] = locations[[\"city\", \"state_id\"]].progress_apply(lambda row: city_dict[(row[0], row[1])], axis=1, raw=True)\n",
    "del locations[\"state_id\"]\n",
    "del locations[\"city\"]\n",
    "locations"
   ]
  },
  {
   "cell_type": "markdown",
   "metadata": {},
   "source": [
    "## Postal codes"
   ]
  },
  {
   "cell_type": "code",
   "execution_count": 290,
   "metadata": {},
   "outputs": [
    {
     "output_type": "execute_result",
     "data": {
      "text/plain": "          id  city_id postal_code\n0          1        1       85016\n1          2        2     L5R 3E7\n2          3        3     T2R 1L3\n3          4        4       89149\n4          5        5       85281\n...      ...      ...         ...\n20436  20437      164       44128\n20437  20438       16     M1E 4P7\n20438  20439      536     J7Y 3L8\n20439  20440        7     H3H 1Y2\n20440  20441      695     J3V 6H1\n\n[20441 rows x 3 columns]",
      "text/html": "<div>\n<style scoped>\n    .dataframe tbody tr th:only-of-type {\n        vertical-align: middle;\n    }\n\n    .dataframe tbody tr th {\n        vertical-align: top;\n    }\n\n    .dataframe thead th {\n        text-align: right;\n    }\n</style>\n<table border=\"1\" class=\"dataframe\">\n  <thead>\n    <tr style=\"text-align: right;\">\n      <th></th>\n      <th>id</th>\n      <th>city_id</th>\n      <th>postal_code</th>\n    </tr>\n  </thead>\n  <tbody>\n    <tr>\n      <th>0</th>\n      <td>1</td>\n      <td>1</td>\n      <td>85016</td>\n    </tr>\n    <tr>\n      <th>1</th>\n      <td>2</td>\n      <td>2</td>\n      <td>L5R 3E7</td>\n    </tr>\n    <tr>\n      <th>2</th>\n      <td>3</td>\n      <td>3</td>\n      <td>T2R 1L3</td>\n    </tr>\n    <tr>\n      <th>3</th>\n      <td>4</td>\n      <td>4</td>\n      <td>89149</td>\n    </tr>\n    <tr>\n      <th>4</th>\n      <td>5</td>\n      <td>5</td>\n      <td>85281</td>\n    </tr>\n    <tr>\n      <th>...</th>\n      <td>...</td>\n      <td>...</td>\n      <td>...</td>\n    </tr>\n    <tr>\n      <th>20436</th>\n      <td>20437</td>\n      <td>164</td>\n      <td>44128</td>\n    </tr>\n    <tr>\n      <th>20437</th>\n      <td>20438</td>\n      <td>16</td>\n      <td>M1E 4P7</td>\n    </tr>\n    <tr>\n      <th>20438</th>\n      <td>20439</td>\n      <td>536</td>\n      <td>J7Y 3L8</td>\n    </tr>\n    <tr>\n      <th>20439</th>\n      <td>20440</td>\n      <td>7</td>\n      <td>H3H 1Y2</td>\n    </tr>\n    <tr>\n      <th>20440</th>\n      <td>20441</td>\n      <td>695</td>\n      <td>J3V 6H1</td>\n    </tr>\n  </tbody>\n</table>\n<p>20441 rows × 3 columns</p>\n</div>"
     },
     "metadata": {},
     "execution_count": 290
    }
   ],
   "source": [
    "postal_codes_table = locations[[\"city_id\", \"postal_code\"]].drop_duplicates()\n",
    "postal_codes_table = postal_codes_table.reset_index()\n",
    "del postal_codes_table[\"index\"]\n",
    "postal_codes_table.index += 1\n",
    "postal_codes_table = postal_codes_table.reset_index().rename(columns={\"index\":\"id\"})\n",
    "postal_codes_table"
   ]
  },
  {
   "cell_type": "code",
   "execution_count": 291,
   "metadata": {},
   "outputs": [],
   "source": [
    "postal_code_dict = postal_codes_table.set_index([\"postal_code\", \"city_id\"])[\"id\"].to_dict()"
   ]
  },
  {
   "cell_type": "code",
   "execution_count": 292,
   "metadata": {},
   "outputs": [
    {
     "output_type": "stream",
     "name": "stderr",
     "text": "100%|██████████| 192609/192609 [00:08<00:00, 23009.72it/s]\n"
    },
    {
     "output_type": "execute_result",
     "data": {
      "text/plain": "        business_id                                   address   latitude  \\\n0                 1               2818 E Camino Acequia Drive  33.522143   \n1                 2                      30 Eglinton Avenue W  43.605499   \n2                 3              1210 8th Street SW, Unit 220  51.041771   \n3                 4               6955 N Durango Dr, Ste 1116  36.287312   \n4                 5                         4 E University Dr  33.422192   \n...             ...                                       ...        ...   \n192604       192605                521 St. Catherine Street W  45.504597   \n192605       192606                       244 Victoria Street  43.655290   \n192606       192607                       10210 South 50th Pl  33.354284   \n192607       192608  6670 S Tenaya Way, Ste 120, The Body Spa  36.066952   \n192608       192609                 14050 N 83rd Ave, Ste 290  33.612226   \n\n         longitude  postal_code_id  \n0      -112.018481               1  \n1       -79.652289               2  \n2      -114.081109               3  \n3      -115.289540               4  \n4      -111.939615               5  \n...            ...             ...  \n192604  -73.568456            5513  \n192605  -79.379541           13246  \n192606 -111.975538             205  \n192607 -115.251008             260  \n192608 -112.238145             123  \n\n[192609 rows x 5 columns]",
      "text/html": "<div>\n<style scoped>\n    .dataframe tbody tr th:only-of-type {\n        vertical-align: middle;\n    }\n\n    .dataframe tbody tr th {\n        vertical-align: top;\n    }\n\n    .dataframe thead th {\n        text-align: right;\n    }\n</style>\n<table border=\"1\" class=\"dataframe\">\n  <thead>\n    <tr style=\"text-align: right;\">\n      <th></th>\n      <th>business_id</th>\n      <th>address</th>\n      <th>latitude</th>\n      <th>longitude</th>\n      <th>postal_code_id</th>\n    </tr>\n  </thead>\n  <tbody>\n    <tr>\n      <th>0</th>\n      <td>1</td>\n      <td>2818 E Camino Acequia Drive</td>\n      <td>33.522143</td>\n      <td>-112.018481</td>\n      <td>1</td>\n    </tr>\n    <tr>\n      <th>1</th>\n      <td>2</td>\n      <td>30 Eglinton Avenue W</td>\n      <td>43.605499</td>\n      <td>-79.652289</td>\n      <td>2</td>\n    </tr>\n    <tr>\n      <th>2</th>\n      <td>3</td>\n      <td>1210 8th Street SW, Unit 220</td>\n      <td>51.041771</td>\n      <td>-114.081109</td>\n      <td>3</td>\n    </tr>\n    <tr>\n      <th>3</th>\n      <td>4</td>\n      <td>6955 N Durango Dr, Ste 1116</td>\n      <td>36.287312</td>\n      <td>-115.289540</td>\n      <td>4</td>\n    </tr>\n    <tr>\n      <th>4</th>\n      <td>5</td>\n      <td>4 E University Dr</td>\n      <td>33.422192</td>\n      <td>-111.939615</td>\n      <td>5</td>\n    </tr>\n    <tr>\n      <th>...</th>\n      <td>...</td>\n      <td>...</td>\n      <td>...</td>\n      <td>...</td>\n      <td>...</td>\n    </tr>\n    <tr>\n      <th>192604</th>\n      <td>192605</td>\n      <td>521 St. Catherine Street W</td>\n      <td>45.504597</td>\n      <td>-73.568456</td>\n      <td>5513</td>\n    </tr>\n    <tr>\n      <th>192605</th>\n      <td>192606</td>\n      <td>244 Victoria Street</td>\n      <td>43.655290</td>\n      <td>-79.379541</td>\n      <td>13246</td>\n    </tr>\n    <tr>\n      <th>192606</th>\n      <td>192607</td>\n      <td>10210 South 50th Pl</td>\n      <td>33.354284</td>\n      <td>-111.975538</td>\n      <td>205</td>\n    </tr>\n    <tr>\n      <th>192607</th>\n      <td>192608</td>\n      <td>6670 S Tenaya Way, Ste 120, The Body Spa</td>\n      <td>36.066952</td>\n      <td>-115.251008</td>\n      <td>260</td>\n    </tr>\n    <tr>\n      <th>192608</th>\n      <td>192609</td>\n      <td>14050 N 83rd Ave, Ste 290</td>\n      <td>33.612226</td>\n      <td>-112.238145</td>\n      <td>123</td>\n    </tr>\n  </tbody>\n</table>\n<p>192609 rows × 5 columns</p>\n</div>"
     },
     "metadata": {},
     "execution_count": 292
    }
   ],
   "source": [
    "locations[\"postal_code_id\"] = locations[[\"postal_code\", \"city_id\"]].progress_apply(lambda row: postal_code_dict[(row[0], row[1])], axis=1, raw=True)\n",
    "del locations[\"city_id\"]\n",
    "del locations[\"postal_code\"]\n",
    "locations"
   ]
  },
  {
   "cell_type": "markdown",
   "metadata": {},
   "source": [
    "# Parse categories"
   ]
  },
  {
   "cell_type": "code",
   "execution_count": 293,
   "metadata": {},
   "outputs": [
    {
     "output_type": "stream",
     "name": "stderr",
     "text": "100%|██████████| 192609/192609 [00:00<00:00, 519959.26it/s]\n100%|██████████| 192127/192127 [00:00<00:00, 296098.34it/s]\n"
    },
    {
     "output_type": "execute_result",
     "data": {
      "text/plain": "            id                                         categories\n0            1                                [Golf, Active Life]\n1            2  [Specialty Food, Restaurants, Dim Sum, Importe...\n2            3  [Local Services, Professional Services, Comput...\n3            4                       [Beauty & Spas, Hair Salons]\n4            5              [American (Traditional), Restaurants]\n...        ...                                                ...\n192604  192605          [Restaurants, Venezuelan, Latin American]\n192605  192606            [Arts & Entertainment, Performing Arts]\n192606  192607         [Education, Middle Schools & High Schools]\n192607  192608  [Beauty & Spas, Eyelash Service, Waxing, Esthe...\n192608  192609  [Professional Services, Wills, Trusts, & Proba...\n\n[192127 rows x 2 columns]",
      "text/html": "<div>\n<style scoped>\n    .dataframe tbody tr th:only-of-type {\n        vertical-align: middle;\n    }\n\n    .dataframe tbody tr th {\n        vertical-align: top;\n    }\n\n    .dataframe thead th {\n        text-align: right;\n    }\n</style>\n<table border=\"1\" class=\"dataframe\">\n  <thead>\n    <tr style=\"text-align: right;\">\n      <th></th>\n      <th>id</th>\n      <th>categories</th>\n    </tr>\n  </thead>\n  <tbody>\n    <tr>\n      <th>0</th>\n      <td>1</td>\n      <td>[Golf, Active Life]</td>\n    </tr>\n    <tr>\n      <th>1</th>\n      <td>2</td>\n      <td>[Specialty Food, Restaurants, Dim Sum, Importe...</td>\n    </tr>\n    <tr>\n      <th>2</th>\n      <td>3</td>\n      <td>[Local Services, Professional Services, Comput...</td>\n    </tr>\n    <tr>\n      <th>3</th>\n      <td>4</td>\n      <td>[Beauty &amp; Spas, Hair Salons]</td>\n    </tr>\n    <tr>\n      <th>4</th>\n      <td>5</td>\n      <td>[American (Traditional), Restaurants]</td>\n    </tr>\n    <tr>\n      <th>...</th>\n      <td>...</td>\n      <td>...</td>\n    </tr>\n    <tr>\n      <th>192604</th>\n      <td>192605</td>\n      <td>[Restaurants, Venezuelan, Latin American]</td>\n    </tr>\n    <tr>\n      <th>192605</th>\n      <td>192606</td>\n      <td>[Arts &amp; Entertainment, Performing Arts]</td>\n    </tr>\n    <tr>\n      <th>192606</th>\n      <td>192607</td>\n      <td>[Education, Middle Schools &amp; High Schools]</td>\n    </tr>\n    <tr>\n      <th>192607</th>\n      <td>192608</td>\n      <td>[Beauty &amp; Spas, Eyelash Service, Waxing, Esthe...</td>\n    </tr>\n    <tr>\n      <th>192608</th>\n      <td>192609</td>\n      <td>[Professional Services, Wills, Trusts, &amp; Proba...</td>\n    </tr>\n  </tbody>\n</table>\n<p>192127 rows × 2 columns</p>\n</div>"
     },
     "metadata": {},
     "execution_count": 293
    }
   ],
   "source": [
    "business_categories_temp = business_table[[\"id\", \"categories\"]][business_table[\"categories\"].progress_map(lambda x: type(x) == str)]\n",
    "business_categories_temp[\"categories\"] = business_categories_temp[\"categories\"].progress_map(lambda cats: list(map(str.strip, cats.split(\",\"))))\n",
    "\n",
    "business_categories_temp"
   ]
  },
  {
   "cell_type": "code",
   "execution_count": 294,
   "metadata": {},
   "outputs": [
    {
     "output_type": "stream",
     "name": "stderr",
     "text": "100%|██████████| 192127/192127 [00:56<00:00, 3412.95it/s]\n"
    },
    {
     "output_type": "execute_result",
     "data": {
      "text/plain": "                 categories      id\n0                      Golf       1\n0               Active Life       1\n1            Specialty Food       2\n1               Restaurants       2\n1                   Dim Sum       2\n...                     ...     ...\n192608               Trusts  192609\n192608           & Probates  192609\n192608              Lawyers  192609\n192608       Legal Services  192609\n192608  Estate Planning Law  192609\n\n[788359 rows x 2 columns]",
      "text/html": "<div>\n<style scoped>\n    .dataframe tbody tr th:only-of-type {\n        vertical-align: middle;\n    }\n\n    .dataframe tbody tr th {\n        vertical-align: top;\n    }\n\n    .dataframe thead th {\n        text-align: right;\n    }\n</style>\n<table border=\"1\" class=\"dataframe\">\n  <thead>\n    <tr style=\"text-align: right;\">\n      <th></th>\n      <th>categories</th>\n      <th>id</th>\n    </tr>\n  </thead>\n  <tbody>\n    <tr>\n      <th>0</th>\n      <td>Golf</td>\n      <td>1</td>\n    </tr>\n    <tr>\n      <th>0</th>\n      <td>Active Life</td>\n      <td>1</td>\n    </tr>\n    <tr>\n      <th>1</th>\n      <td>Specialty Food</td>\n      <td>2</td>\n    </tr>\n    <tr>\n      <th>1</th>\n      <td>Restaurants</td>\n      <td>2</td>\n    </tr>\n    <tr>\n      <th>1</th>\n      <td>Dim Sum</td>\n      <td>2</td>\n    </tr>\n    <tr>\n      <th>...</th>\n      <td>...</td>\n      <td>...</td>\n    </tr>\n    <tr>\n      <th>192608</th>\n      <td>Trusts</td>\n      <td>192609</td>\n    </tr>\n    <tr>\n      <th>192608</th>\n      <td>&amp; Probates</td>\n      <td>192609</td>\n    </tr>\n    <tr>\n      <th>192608</th>\n      <td>Lawyers</td>\n      <td>192609</td>\n    </tr>\n    <tr>\n      <th>192608</th>\n      <td>Legal Services</td>\n      <td>192609</td>\n    </tr>\n    <tr>\n      <th>192608</th>\n      <td>Estate Planning Law</td>\n      <td>192609</td>\n    </tr>\n  </tbody>\n</table>\n<p>788359 rows × 2 columns</p>\n</div>"
     },
     "metadata": {},
     "execution_count": 294
    }
   ],
   "source": [
    "business_categories = (business_categories_temp['categories']\n",
    "    .progress_apply(lambda x: pd.Series(x))\n",
    "    .stack()\n",
    "    .reset_index(level=1, drop=True)\n",
    "    .to_frame('categories')\n",
    "    .join(business_categories_temp[['id']], how='left'))\n",
    "business_categories"
   ]
  },
  {
   "cell_type": "code",
   "execution_count": 295,
   "metadata": {},
   "outputs": [
    {
     "output_type": "execute_result",
     "data": {
      "text/plain": "        id               name\n0        1               Golf\n1        2        Active Life\n2        3     Specialty Food\n3        4        Restaurants\n4        5            Dim Sum\n...    ...                ...\n1295  1296         Island Pub\n1296  1297        Homeopathic\n1297  1298  Medical Foot Care\n1298  1299        Geneticists\n1299  1300        Calligraphy\n\n[1300 rows x 2 columns]",
      "text/html": "<div>\n<style scoped>\n    .dataframe tbody tr th:only-of-type {\n        vertical-align: middle;\n    }\n\n    .dataframe tbody tr th {\n        vertical-align: top;\n    }\n\n    .dataframe thead th {\n        text-align: right;\n    }\n</style>\n<table border=\"1\" class=\"dataframe\">\n  <thead>\n    <tr style=\"text-align: right;\">\n      <th></th>\n      <th>id</th>\n      <th>name</th>\n    </tr>\n  </thead>\n  <tbody>\n    <tr>\n      <th>0</th>\n      <td>1</td>\n      <td>Golf</td>\n    </tr>\n    <tr>\n      <th>1</th>\n      <td>2</td>\n      <td>Active Life</td>\n    </tr>\n    <tr>\n      <th>2</th>\n      <td>3</td>\n      <td>Specialty Food</td>\n    </tr>\n    <tr>\n      <th>3</th>\n      <td>4</td>\n      <td>Restaurants</td>\n    </tr>\n    <tr>\n      <th>4</th>\n      <td>5</td>\n      <td>Dim Sum</td>\n    </tr>\n    <tr>\n      <th>...</th>\n      <td>...</td>\n      <td>...</td>\n    </tr>\n    <tr>\n      <th>1295</th>\n      <td>1296</td>\n      <td>Island Pub</td>\n    </tr>\n    <tr>\n      <th>1296</th>\n      <td>1297</td>\n      <td>Homeopathic</td>\n    </tr>\n    <tr>\n      <th>1297</th>\n      <td>1298</td>\n      <td>Medical Foot Care</td>\n    </tr>\n    <tr>\n      <th>1298</th>\n      <td>1299</td>\n      <td>Geneticists</td>\n    </tr>\n    <tr>\n      <th>1299</th>\n      <td>1300</td>\n      <td>Calligraphy</td>\n    </tr>\n  </tbody>\n</table>\n<p>1300 rows × 2 columns</p>\n</div>"
     },
     "metadata": {},
     "execution_count": 295
    }
   ],
   "source": [
    "categories = business_categories[\"categories\"]\n",
    "categories = categories.drop_duplicates().reset_index()\n",
    "del categories[\"index\"]\n",
    "categories.index += 1\n",
    "categories = categories.reset_index().rename(columns={\"index\":\"id\", \"categories\": \"name\"})\n",
    "categories"
   ]
  },
  {
   "cell_type": "code",
   "execution_count": 296,
   "metadata": {},
   "outputs": [
    {
     "output_type": "stream",
     "name": "stderr",
     "text": "100%|██████████| 788359/788359 [00:01<00:00, 580858.01it/s]\n"
    },
    {
     "output_type": "execute_result",
     "data": {
      "text/plain": "        business_id  categorie_id\n0                 1             0\n0                 1             1\n1                 2             2\n1                 2             3\n1                 2             4\n...             ...           ...\n192608       192609           479\n192608       192609           480\n192608       192609            58\n192608       192609            59\n192608       192609           481\n\n[788359 rows x 2 columns]",
      "text/html": "<div>\n<style scoped>\n    .dataframe tbody tr th:only-of-type {\n        vertical-align: middle;\n    }\n\n    .dataframe tbody tr th {\n        vertical-align: top;\n    }\n\n    .dataframe thead th {\n        text-align: right;\n    }\n</style>\n<table border=\"1\" class=\"dataframe\">\n  <thead>\n    <tr style=\"text-align: right;\">\n      <th></th>\n      <th>business_id</th>\n      <th>categorie_id</th>\n    </tr>\n  </thead>\n  <tbody>\n    <tr>\n      <th>0</th>\n      <td>1</td>\n      <td>0</td>\n    </tr>\n    <tr>\n      <th>0</th>\n      <td>1</td>\n      <td>1</td>\n    </tr>\n    <tr>\n      <th>1</th>\n      <td>2</td>\n      <td>2</td>\n    </tr>\n    <tr>\n      <th>1</th>\n      <td>2</td>\n      <td>3</td>\n    </tr>\n    <tr>\n      <th>1</th>\n      <td>2</td>\n      <td>4</td>\n    </tr>\n    <tr>\n      <th>...</th>\n      <td>...</td>\n      <td>...</td>\n    </tr>\n    <tr>\n      <th>192608</th>\n      <td>192609</td>\n      <td>479</td>\n    </tr>\n    <tr>\n      <th>192608</th>\n      <td>192609</td>\n      <td>480</td>\n    </tr>\n    <tr>\n      <th>192608</th>\n      <td>192609</td>\n      <td>58</td>\n    </tr>\n    <tr>\n      <th>192608</th>\n      <td>192609</td>\n      <td>59</td>\n    </tr>\n    <tr>\n      <th>192608</th>\n      <td>192609</td>\n      <td>481</td>\n    </tr>\n  </tbody>\n</table>\n<p>788359 rows × 2 columns</p>\n</div>"
     },
     "metadata": {},
     "execution_count": 296
    }
   ],
   "source": [
    "categories_dict = categories.reset_index().set_index(\"name\")[\"index\"].to_dict()\n",
    "business_categories[\"categorie_id\"] = business_categories[\"categories\"].progress_map(lambda cat: categories_dict[cat])\n",
    "del business_categories[\"categories\"]\n",
    "del business_table[\"categories\"]\n",
    "business_categories = business_categories.rename(columns={\"id\":\"business_id\"})\n",
    "business_categories"
   ]
  },
  {
   "cell_type": "markdown",
   "metadata": {},
   "source": [
    "# Parse attributes"
   ]
  },
  {
   "cell_type": "code",
   "execution_count": 297,
   "metadata": {},
   "outputs": [
    {
     "output_type": "stream",
     "name": "stderr",
     "text": "100%|██████████| 163773/163773 [00:02<00:00, 60199.60it/s]\n"
    },
    {
     "output_type": "execute_result",
     "data": {
      "text/plain": "1                                                        {}\n2         {'GoodForMeal': '{'dessert': False, 'latenight...\n3         {'BusinessParking': '{'garage': False, 'street...\n4         {'BusinessParking': '{'garage': False, 'street...\n5                                                        {}\n                                ...                        \n192602                                                   {}\n192604                                                   {}\n192605    {'Ambience': '{'romantic': False, 'intimate': ...\n192606                                                   {}\n192608    {'BusinessParking': '{'garage': False, 'street...\nName: attributes, Length: 163773, dtype: object"
     },
     "metadata": {},
     "execution_count": 297
    }
   ],
   "source": [
    "attributes = business_raw[business_raw[\"attributes\"].map(lambda x: type(x)==str)][\"attributes\"].progress_apply(eval)\n",
    "del business_table[\"attributes\"]\n",
    "attributes"
   ]
  },
  {
   "cell_type": "markdown",
   "metadata": {},
   "source": [
    "## Noise level"
   ]
  },
  {
   "cell_type": "code",
   "execution_count": 298,
   "metadata": {},
   "outputs": [
    {
     "output_type": "execute_result",
     "data": {
      "text/plain": "   id      level\n0   1       loud\n1   2    average\n2   3      quiet\n3   4  very_loud\n4   5       None",
      "text/html": "<div>\n<style scoped>\n    .dataframe tbody tr th:only-of-type {\n        vertical-align: middle;\n    }\n\n    .dataframe tbody tr th {\n        vertical-align: top;\n    }\n\n    .dataframe thead th {\n        text-align: right;\n    }\n</style>\n<table border=\"1\" class=\"dataframe\">\n  <thead>\n    <tr style=\"text-align: right;\">\n      <th></th>\n      <th>id</th>\n      <th>level</th>\n    </tr>\n  </thead>\n  <tbody>\n    <tr>\n      <th>0</th>\n      <td>1</td>\n      <td>loud</td>\n    </tr>\n    <tr>\n      <th>1</th>\n      <td>2</td>\n      <td>average</td>\n    </tr>\n    <tr>\n      <th>2</th>\n      <td>3</td>\n      <td>quiet</td>\n    </tr>\n    <tr>\n      <th>3</th>\n      <td>4</td>\n      <td>very_loud</td>\n    </tr>\n    <tr>\n      <th>4</th>\n      <td>5</td>\n      <td>None</td>\n    </tr>\n  </tbody>\n</table>\n</div>"
     },
     "metadata": {},
     "execution_count": 298
    }
   ],
   "source": [
    "noise_level_temp = attributes[attributes.map(lambda x: \"NoiseLevel\" in x)].map(lambda x: eval(x[\"NoiseLevel\"]))\n",
    "noise_level = noise_level_temp.drop_duplicates().reset_index()\n",
    "del noise_level[\"index\"]\n",
    "noise_level.index += 1\n",
    "noise_level = noise_level.reset_index().rename(columns={\"index\":\"id\", \"attributes\":\"level\"})\n",
    "noise_level"
   ]
  },
  {
   "cell_type": "code",
   "execution_count": 299,
   "metadata": {},
   "outputs": [
    {
     "output_type": "execute_result",
     "data": {
      "text/plain": "            id                                              hours  is_open  \\\n0            1                                                NaN        0   \n1            2  {'Monday': '9:0-0:0', 'Tuesday': '9:0-0:0', 'W...        1   \n2            3  {'Monday': '9:0-17:0', 'Tuesday': '9:0-17:0', ...        1   \n3            4  {'Monday': '8:30-20:0', 'Tuesday': '8:30-20:0'...        1   \n4            5                                                NaN        0   \n...        ...                                                ...      ...   \n192604  192605                                                NaN        0   \n192605  192606                                                NaN        1   \n192606  192607  {'Monday': '7:30-17:30', 'Tuesday': '7:30-17:3...        1   \n192607  192608  {'Monday': '0:0-0:0', 'Tuesday': '9:0-19:0', '...        1   \n192608  192609  {'Monday': '8:0-18:0', 'Tuesday': '8:0-18:0', ...        1   \n\n                               name  review_count  stars  noise_level_id  \n0        Arizona Biltmore Golf Club             5    3.0             NaN  \n1        Emerald Chinese Restaurant           128    2.5             NaN  \n2       Nucleus Information Service             5    2.0             1.0  \n3                      Amazing Cuts           116    4.5             NaN  \n4                      Ruby Tuesday             9    2.5             NaN  \n...                             ...           ...    ...             ...  \n192604                       Arepas            15    3.5             NaN  \n192605           Ed Mirvish Theatre            58    4.0             2.0  \n192606              BASIS Ahwatukee             3    2.5             NaN  \n192607              Brows Redefined            15    5.0             NaN  \n192608   Affordable Estate Planning             3    5.0             NaN  \n\n[192609 rows x 7 columns]",
      "text/html": "<div>\n<style scoped>\n    .dataframe tbody tr th:only-of-type {\n        vertical-align: middle;\n    }\n\n    .dataframe tbody tr th {\n        vertical-align: top;\n    }\n\n    .dataframe thead th {\n        text-align: right;\n    }\n</style>\n<table border=\"1\" class=\"dataframe\">\n  <thead>\n    <tr style=\"text-align: right;\">\n      <th></th>\n      <th>id</th>\n      <th>hours</th>\n      <th>is_open</th>\n      <th>name</th>\n      <th>review_count</th>\n      <th>stars</th>\n      <th>noise_level_id</th>\n    </tr>\n  </thead>\n  <tbody>\n    <tr>\n      <th>0</th>\n      <td>1</td>\n      <td>NaN</td>\n      <td>0</td>\n      <td>Arizona Biltmore Golf Club</td>\n      <td>5</td>\n      <td>3.0</td>\n      <td>NaN</td>\n    </tr>\n    <tr>\n      <th>1</th>\n      <td>2</td>\n      <td>{'Monday': '9:0-0:0', 'Tuesday': '9:0-0:0', 'W...</td>\n      <td>1</td>\n      <td>Emerald Chinese Restaurant</td>\n      <td>128</td>\n      <td>2.5</td>\n      <td>NaN</td>\n    </tr>\n    <tr>\n      <th>2</th>\n      <td>3</td>\n      <td>{'Monday': '9:0-17:0', 'Tuesday': '9:0-17:0', ...</td>\n      <td>1</td>\n      <td>Nucleus Information Service</td>\n      <td>5</td>\n      <td>2.0</td>\n      <td>1.0</td>\n    </tr>\n    <tr>\n      <th>3</th>\n      <td>4</td>\n      <td>{'Monday': '8:30-20:0', 'Tuesday': '8:30-20:0'...</td>\n      <td>1</td>\n      <td>Amazing Cuts</td>\n      <td>116</td>\n      <td>4.5</td>\n      <td>NaN</td>\n    </tr>\n    <tr>\n      <th>4</th>\n      <td>5</td>\n      <td>NaN</td>\n      <td>0</td>\n      <td>Ruby Tuesday</td>\n      <td>9</td>\n      <td>2.5</td>\n      <td>NaN</td>\n    </tr>\n    <tr>\n      <th>...</th>\n      <td>...</td>\n      <td>...</td>\n      <td>...</td>\n      <td>...</td>\n      <td>...</td>\n      <td>...</td>\n      <td>...</td>\n    </tr>\n    <tr>\n      <th>192604</th>\n      <td>192605</td>\n      <td>NaN</td>\n      <td>0</td>\n      <td>Arepas</td>\n      <td>15</td>\n      <td>3.5</td>\n      <td>NaN</td>\n    </tr>\n    <tr>\n      <th>192605</th>\n      <td>192606</td>\n      <td>NaN</td>\n      <td>1</td>\n      <td>Ed Mirvish Theatre</td>\n      <td>58</td>\n      <td>4.0</td>\n      <td>2.0</td>\n    </tr>\n    <tr>\n      <th>192606</th>\n      <td>192607</td>\n      <td>{'Monday': '7:30-17:30', 'Tuesday': '7:30-17:3...</td>\n      <td>1</td>\n      <td>BASIS Ahwatukee</td>\n      <td>3</td>\n      <td>2.5</td>\n      <td>NaN</td>\n    </tr>\n    <tr>\n      <th>192607</th>\n      <td>192608</td>\n      <td>{'Monday': '0:0-0:0', 'Tuesday': '9:0-19:0', '...</td>\n      <td>1</td>\n      <td>Brows Redefined</td>\n      <td>15</td>\n      <td>5.0</td>\n      <td>NaN</td>\n    </tr>\n    <tr>\n      <th>192608</th>\n      <td>192609</td>\n      <td>{'Monday': '8:0-18:0', 'Tuesday': '8:0-18:0', ...</td>\n      <td>1</td>\n      <td>Affordable Estate Planning</td>\n      <td>3</td>\n      <td>5.0</td>\n      <td>NaN</td>\n    </tr>\n  </tbody>\n</table>\n<p>192609 rows × 7 columns</p>\n</div>"
     },
     "metadata": {},
     "execution_count": 299
    }
   ],
   "source": [
    "noise_level_dict = noise_level.set_index(\"level\")[\"id\"].to_dict()\n",
    "business_table[\"noise_level_id\"] = noise_level_temp.map(lambda x: noise_level_dict[x])\n",
    "business_table"
   ]
  },
  {
   "cell_type": "markdown",
   "metadata": {},
   "source": [
    "## Music"
   ]
  },
  {
   "cell_type": "code",
   "execution_count": 300,
   "metadata": {},
   "outputs": [
    {
     "output_type": "stream",
     "name": "stderr",
     "text": "100%|██████████| 5181/5181 [00:00<00:00, 338384.11it/s]\n"
    },
    {
     "output_type": "execute_result",
     "data": {
      "text/plain": "      business_id                       name\n0              94                  [jukebox]\n1             140                       [dj]\n2             164  [background_music, video]\n3             207         [background_music]\n4             255         [background_music]\n...           ...                        ...\n2376       192154         [background_music]\n2377       192182                  [karaoke]\n2378       192394         [background_music]\n2379       192408                  [jukebox]\n2380       192595                     [live]\n\n[2381 rows x 2 columns]",
      "text/html": "<div>\n<style scoped>\n    .dataframe tbody tr th:only-of-type {\n        vertical-align: middle;\n    }\n\n    .dataframe tbody tr th {\n        vertical-align: top;\n    }\n\n    .dataframe thead th {\n        text-align: right;\n    }\n</style>\n<table border=\"1\" class=\"dataframe\">\n  <thead>\n    <tr style=\"text-align: right;\">\n      <th></th>\n      <th>business_id</th>\n      <th>name</th>\n    </tr>\n  </thead>\n  <tbody>\n    <tr>\n      <th>0</th>\n      <td>94</td>\n      <td>[jukebox]</td>\n    </tr>\n    <tr>\n      <th>1</th>\n      <td>140</td>\n      <td>[dj]</td>\n    </tr>\n    <tr>\n      <th>2</th>\n      <td>164</td>\n      <td>[background_music, video]</td>\n    </tr>\n    <tr>\n      <th>3</th>\n      <td>207</td>\n      <td>[background_music]</td>\n    </tr>\n    <tr>\n      <th>4</th>\n      <td>255</td>\n      <td>[background_music]</td>\n    </tr>\n    <tr>\n      <th>...</th>\n      <td>...</td>\n      <td>...</td>\n    </tr>\n    <tr>\n      <th>2376</th>\n      <td>192154</td>\n      <td>[background_music]</td>\n    </tr>\n    <tr>\n      <th>2377</th>\n      <td>192182</td>\n      <td>[karaoke]</td>\n    </tr>\n    <tr>\n      <th>2378</th>\n      <td>192394</td>\n      <td>[background_music]</td>\n    </tr>\n    <tr>\n      <th>2379</th>\n      <td>192408</td>\n      <td>[jukebox]</td>\n    </tr>\n    <tr>\n      <th>2380</th>\n      <td>192595</td>\n      <td>[live]</td>\n    </tr>\n  </tbody>\n</table>\n<p>2381 rows × 2 columns</p>\n</div>"
     },
     "metadata": {},
     "execution_count": 300
    }
   ],
   "source": [
    "music_temp = attributes[attributes.map(lambda x: \"Music\" in x)].map(lambda x: eval(x[\"Music\"]))\n",
    "music_temp = music_temp[music_temp.map(lambda x: x != None)]\n",
    "music_temp = music_temp.progress_map(lambda m: [key for key in m.keys() if m[key]])\n",
    "music_temp = music_temp[music_temp.map(lambda l: len(l) > 0)].reset_index().rename(columns={\"index\":\"business_id\", \"attributes\":\"name\"})\n",
    "music_temp"
   ]
  },
  {
   "cell_type": "code",
   "execution_count": 301,
   "metadata": {},
   "outputs": [
    {
     "output_type": "stream",
     "name": "stderr",
     "text": "100%|██████████| 2381/2381 [00:00<00:00, 3575.90it/s]\n"
    },
    {
     "output_type": "execute_result",
     "data": {
      "text/plain": "                  name  business_id\n0              jukebox           94\n1                   dj          140\n2     background_music          164\n2                video          164\n3     background_music          207\n...                ...          ...\n2376  background_music       192154\n2377           karaoke       192182\n2378  background_music       192394\n2379           jukebox       192408\n2380              live       192595\n\n[2759 rows x 2 columns]",
      "text/html": "<div>\n<style scoped>\n    .dataframe tbody tr th:only-of-type {\n        vertical-align: middle;\n    }\n\n    .dataframe tbody tr th {\n        vertical-align: top;\n    }\n\n    .dataframe thead th {\n        text-align: right;\n    }\n</style>\n<table border=\"1\" class=\"dataframe\">\n  <thead>\n    <tr style=\"text-align: right;\">\n      <th></th>\n      <th>name</th>\n      <th>business_id</th>\n    </tr>\n  </thead>\n  <tbody>\n    <tr>\n      <th>0</th>\n      <td>jukebox</td>\n      <td>94</td>\n    </tr>\n    <tr>\n      <th>1</th>\n      <td>dj</td>\n      <td>140</td>\n    </tr>\n    <tr>\n      <th>2</th>\n      <td>background_music</td>\n      <td>164</td>\n    </tr>\n    <tr>\n      <th>2</th>\n      <td>video</td>\n      <td>164</td>\n    </tr>\n    <tr>\n      <th>3</th>\n      <td>background_music</td>\n      <td>207</td>\n    </tr>\n    <tr>\n      <th>...</th>\n      <td>...</td>\n      <td>...</td>\n    </tr>\n    <tr>\n      <th>2376</th>\n      <td>background_music</td>\n      <td>192154</td>\n    </tr>\n    <tr>\n      <th>2377</th>\n      <td>karaoke</td>\n      <td>192182</td>\n    </tr>\n    <tr>\n      <th>2378</th>\n      <td>background_music</td>\n      <td>192394</td>\n    </tr>\n    <tr>\n      <th>2379</th>\n      <td>jukebox</td>\n      <td>192408</td>\n    </tr>\n    <tr>\n      <th>2380</th>\n      <td>live</td>\n      <td>192595</td>\n    </tr>\n  </tbody>\n</table>\n<p>2759 rows × 2 columns</p>\n</div>"
     },
     "metadata": {},
     "execution_count": 301
    }
   ],
   "source": [
    "music_business_relation_table = (music_temp['name']\n",
    "    .progress_apply(lambda x: pd.Series(x))\n",
    "    .stack()\n",
    "    .reset_index(level=1, drop=True)\n",
    "    .to_frame('name')\n",
    "    .join(music_temp[['business_id']], how='left'))\n",
    "music_business_relation_table"
   ]
  },
  {
   "cell_type": "code",
   "execution_count": 302,
   "metadata": {},
   "outputs": [
    {
     "output_type": "execute_result",
     "data": {
      "text/plain": "   id              name\n0   1           jukebox\n1   2                dj\n2   3  background_music\n3   4             video\n4   5              live\n5   6           karaoke",
      "text/html": "<div>\n<style scoped>\n    .dataframe tbody tr th:only-of-type {\n        vertical-align: middle;\n    }\n\n    .dataframe tbody tr th {\n        vertical-align: top;\n    }\n\n    .dataframe thead th {\n        text-align: right;\n    }\n</style>\n<table border=\"1\" class=\"dataframe\">\n  <thead>\n    <tr style=\"text-align: right;\">\n      <th></th>\n      <th>id</th>\n      <th>name</th>\n    </tr>\n  </thead>\n  <tbody>\n    <tr>\n      <th>0</th>\n      <td>1</td>\n      <td>jukebox</td>\n    </tr>\n    <tr>\n      <th>1</th>\n      <td>2</td>\n      <td>dj</td>\n    </tr>\n    <tr>\n      <th>2</th>\n      <td>3</td>\n      <td>background_music</td>\n    </tr>\n    <tr>\n      <th>3</th>\n      <td>4</td>\n      <td>video</td>\n    </tr>\n    <tr>\n      <th>4</th>\n      <td>5</td>\n      <td>live</td>\n    </tr>\n    <tr>\n      <th>5</th>\n      <td>6</td>\n      <td>karaoke</td>\n    </tr>\n  </tbody>\n</table>\n</div>"
     },
     "metadata": {},
     "execution_count": 302
    }
   ],
   "source": [
    "music_table = music_business_relation_table[\"name\"].drop_duplicates().reset_index()\n",
    "del music_table[\"index\"]\n",
    "music_table.index += 1\n",
    "music_table = music_table.reset_index().rename(columns={\"index\":\"id\"})\n",
    "music_table"
   ]
  },
  {
   "cell_type": "code",
   "execution_count": 303,
   "metadata": {},
   "outputs": [
    {
     "output_type": "execute_result",
     "data": {
      "text/plain": "      business_id  music_id\n0              94         1\n1             140         2\n2             164         3\n2             164         4\n3             207         3\n...           ...       ...\n2376       192154         3\n2377       192182         6\n2378       192394         3\n2379       192408         1\n2380       192595         5\n\n[2759 rows x 2 columns]",
      "text/html": "<div>\n<style scoped>\n    .dataframe tbody tr th:only-of-type {\n        vertical-align: middle;\n    }\n\n    .dataframe tbody tr th {\n        vertical-align: top;\n    }\n\n    .dataframe thead th {\n        text-align: right;\n    }\n</style>\n<table border=\"1\" class=\"dataframe\">\n  <thead>\n    <tr style=\"text-align: right;\">\n      <th></th>\n      <th>business_id</th>\n      <th>music_id</th>\n    </tr>\n  </thead>\n  <tbody>\n    <tr>\n      <th>0</th>\n      <td>94</td>\n      <td>1</td>\n    </tr>\n    <tr>\n      <th>1</th>\n      <td>140</td>\n      <td>2</td>\n    </tr>\n    <tr>\n      <th>2</th>\n      <td>164</td>\n      <td>3</td>\n    </tr>\n    <tr>\n      <th>2</th>\n      <td>164</td>\n      <td>4</td>\n    </tr>\n    <tr>\n      <th>3</th>\n      <td>207</td>\n      <td>3</td>\n    </tr>\n    <tr>\n      <th>...</th>\n      <td>...</td>\n      <td>...</td>\n    </tr>\n    <tr>\n      <th>2376</th>\n      <td>192154</td>\n      <td>3</td>\n    </tr>\n    <tr>\n      <th>2377</th>\n      <td>192182</td>\n      <td>6</td>\n    </tr>\n    <tr>\n      <th>2378</th>\n      <td>192394</td>\n      <td>3</td>\n    </tr>\n    <tr>\n      <th>2379</th>\n      <td>192408</td>\n      <td>1</td>\n    </tr>\n    <tr>\n      <th>2380</th>\n      <td>192595</td>\n      <td>5</td>\n    </tr>\n  </tbody>\n</table>\n<p>2759 rows × 2 columns</p>\n</div>"
     },
     "metadata": {},
     "execution_count": 303
    }
   ],
   "source": [
    "music_dict = music_table.set_index(\"name\")[\"id\"].to_dict()\n",
    "music_business_relation_table[\"music_id\"] = music_business_relation_table[\"name\"].map(lambda x: music_dict[x])\n",
    "del music_business_relation_table[\"name\"]\n",
    "music_business_relation_table"
   ]
  },
  {
   "cell_type": "markdown",
   "metadata": {},
   "source": [
    "## Business parking "
   ]
  },
  {
   "cell_type": "code",
   "execution_count": 304,
   "metadata": {},
   "outputs": [
    {
     "output_type": "stream",
     "name": "stderr",
     "text": "100%|██████████| 101478/101478 [00:00<00:00, 420830.85it/s]\n"
    },
    {
     "output_type": "execute_result",
     "data": {
      "text/plain": "       business_id      name\n0                2     [lot]\n1                3  [street]\n2                4     [lot]\n3               12     [lot]\n4               22     [lot]\n...            ...       ...\n61241       192594     [lot]\n61242       192599  [garage]\n61243       192600     [lot]\n61244       192601  [street]\n61245       192608     [lot]\n\n[61246 rows x 2 columns]",
      "text/html": "<div>\n<style scoped>\n    .dataframe tbody tr th:only-of-type {\n        vertical-align: middle;\n    }\n\n    .dataframe tbody tr th {\n        vertical-align: top;\n    }\n\n    .dataframe thead th {\n        text-align: right;\n    }\n</style>\n<table border=\"1\" class=\"dataframe\">\n  <thead>\n    <tr style=\"text-align: right;\">\n      <th></th>\n      <th>business_id</th>\n      <th>name</th>\n    </tr>\n  </thead>\n  <tbody>\n    <tr>\n      <th>0</th>\n      <td>2</td>\n      <td>[lot]</td>\n    </tr>\n    <tr>\n      <th>1</th>\n      <td>3</td>\n      <td>[street]</td>\n    </tr>\n    <tr>\n      <th>2</th>\n      <td>4</td>\n      <td>[lot]</td>\n    </tr>\n    <tr>\n      <th>3</th>\n      <td>12</td>\n      <td>[lot]</td>\n    </tr>\n    <tr>\n      <th>4</th>\n      <td>22</td>\n      <td>[lot]</td>\n    </tr>\n    <tr>\n      <th>...</th>\n      <td>...</td>\n      <td>...</td>\n    </tr>\n    <tr>\n      <th>61241</th>\n      <td>192594</td>\n      <td>[lot]</td>\n    </tr>\n    <tr>\n      <th>61242</th>\n      <td>192599</td>\n      <td>[garage]</td>\n    </tr>\n    <tr>\n      <th>61243</th>\n      <td>192600</td>\n      <td>[lot]</td>\n    </tr>\n    <tr>\n      <th>61244</th>\n      <td>192601</td>\n      <td>[street]</td>\n    </tr>\n    <tr>\n      <th>61245</th>\n      <td>192608</td>\n      <td>[lot]</td>\n    </tr>\n  </tbody>\n</table>\n<p>61246 rows × 2 columns</p>\n</div>"
     },
     "metadata": {},
     "execution_count": 304
    }
   ],
   "source": [
    "parking_temp = attributes[attributes.map(lambda x: \"BusinessParking\" in x)].map(lambda x: eval(x[\"BusinessParking\"]))\n",
    "parking_temp = parking_temp[parking_temp.map(lambda x: x != None)]\n",
    "parking_temp = parking_temp.progress_map(lambda m: [key for key in m.keys() if m[key]])\n",
    "parking_temp = parking_temp[parking_temp.map(lambda l: len(l) > 0)].reset_index().rename(columns={\"index\":\"business_id\", \"attributes\":\"name\"})\n",
    "parking_temp"
   ]
  },
  {
   "cell_type": "code",
   "execution_count": 305,
   "metadata": {},
   "outputs": [
    {
     "output_type": "stream",
     "name": "stderr",
     "text": "100%|██████████| 61246/61246 [00:16<00:00, 3822.60it/s]\n"
    },
    {
     "output_type": "execute_result",
     "data": {
      "text/plain": "         name  business_id\n0         lot            2\n1      street            3\n2         lot            4\n3         lot           12\n4         lot           22\n...       ...          ...\n61241     lot       192594\n61242  garage       192599\n61243     lot       192600\n61244  street       192601\n61245     lot       192608\n\n[69363 rows x 2 columns]",
      "text/html": "<div>\n<style scoped>\n    .dataframe tbody tr th:only-of-type {\n        vertical-align: middle;\n    }\n\n    .dataframe tbody tr th {\n        vertical-align: top;\n    }\n\n    .dataframe thead th {\n        text-align: right;\n    }\n</style>\n<table border=\"1\" class=\"dataframe\">\n  <thead>\n    <tr style=\"text-align: right;\">\n      <th></th>\n      <th>name</th>\n      <th>business_id</th>\n    </tr>\n  </thead>\n  <tbody>\n    <tr>\n      <th>0</th>\n      <td>lot</td>\n      <td>2</td>\n    </tr>\n    <tr>\n      <th>1</th>\n      <td>street</td>\n      <td>3</td>\n    </tr>\n    <tr>\n      <th>2</th>\n      <td>lot</td>\n      <td>4</td>\n    </tr>\n    <tr>\n      <th>3</th>\n      <td>lot</td>\n      <td>12</td>\n    </tr>\n    <tr>\n      <th>4</th>\n      <td>lot</td>\n      <td>22</td>\n    </tr>\n    <tr>\n      <th>...</th>\n      <td>...</td>\n      <td>...</td>\n    </tr>\n    <tr>\n      <th>61241</th>\n      <td>lot</td>\n      <td>192594</td>\n    </tr>\n    <tr>\n      <th>61242</th>\n      <td>garage</td>\n      <td>192599</td>\n    </tr>\n    <tr>\n      <th>61243</th>\n      <td>lot</td>\n      <td>192600</td>\n    </tr>\n    <tr>\n      <th>61244</th>\n      <td>street</td>\n      <td>192601</td>\n    </tr>\n    <tr>\n      <th>61245</th>\n      <td>lot</td>\n      <td>192608</td>\n    </tr>\n  </tbody>\n</table>\n<p>69363 rows × 2 columns</p>\n</div>"
     },
     "metadata": {},
     "execution_count": 305
    }
   ],
   "source": [
    "parking_business_relation_table = (parking_temp['name']\n",
    "    .progress_apply(lambda x: pd.Series(x))\n",
    "    .stack()\n",
    "    .reset_index(level=1, drop=True)\n",
    "    .to_frame('name')\n",
    "    .join(parking_temp[['business_id']], how='left'))\n",
    "parking_business_relation_table"
   ]
  },
  {
   "cell_type": "code",
   "execution_count": 306,
   "metadata": {},
   "outputs": [
    {
     "output_type": "execute_result",
     "data": {
      "text/plain": "   id       name\n0   1        lot\n1   2     street\n2   3     garage\n3   4      valet\n4   5  validated",
      "text/html": "<div>\n<style scoped>\n    .dataframe tbody tr th:only-of-type {\n        vertical-align: middle;\n    }\n\n    .dataframe tbody tr th {\n        vertical-align: top;\n    }\n\n    .dataframe thead th {\n        text-align: right;\n    }\n</style>\n<table border=\"1\" class=\"dataframe\">\n  <thead>\n    <tr style=\"text-align: right;\">\n      <th></th>\n      <th>id</th>\n      <th>name</th>\n    </tr>\n  </thead>\n  <tbody>\n    <tr>\n      <th>0</th>\n      <td>1</td>\n      <td>lot</td>\n    </tr>\n    <tr>\n      <th>1</th>\n      <td>2</td>\n      <td>street</td>\n    </tr>\n    <tr>\n      <th>2</th>\n      <td>3</td>\n      <td>garage</td>\n    </tr>\n    <tr>\n      <th>3</th>\n      <td>4</td>\n      <td>valet</td>\n    </tr>\n    <tr>\n      <th>4</th>\n      <td>5</td>\n      <td>validated</td>\n    </tr>\n  </tbody>\n</table>\n</div>"
     },
     "metadata": {},
     "execution_count": 306
    }
   ],
   "source": [
    "business_parking_table = parking_business_relation_table[\"name\"].drop_duplicates().reset_index()\n",
    "business_parking_table.index += 1\n",
    "del business_parking_table[\"index\"]\n",
    "business_parking_table = business_parking_table.reset_index().rename(columns={\"index\":\"id\"})\n",
    "business_parking_table"
   ]
  },
  {
   "cell_type": "code",
   "execution_count": 307,
   "metadata": {},
   "outputs": [
    {
     "output_type": "execute_result",
     "data": {
      "text/plain": "       business_id  parking_id\n0                2           1\n1                3           2\n2                4           1\n3               12           1\n4               22           1\n...            ...         ...\n61241       192594           1\n61242       192599           3\n61243       192600           1\n61244       192601           2\n61245       192608           1\n\n[69363 rows x 2 columns]",
      "text/html": "<div>\n<style scoped>\n    .dataframe tbody tr th:only-of-type {\n        vertical-align: middle;\n    }\n\n    .dataframe tbody tr th {\n        vertical-align: top;\n    }\n\n    .dataframe thead th {\n        text-align: right;\n    }\n</style>\n<table border=\"1\" class=\"dataframe\">\n  <thead>\n    <tr style=\"text-align: right;\">\n      <th></th>\n      <th>business_id</th>\n      <th>parking_id</th>\n    </tr>\n  </thead>\n  <tbody>\n    <tr>\n      <th>0</th>\n      <td>2</td>\n      <td>1</td>\n    </tr>\n    <tr>\n      <th>1</th>\n      <td>3</td>\n      <td>2</td>\n    </tr>\n    <tr>\n      <th>2</th>\n      <td>4</td>\n      <td>1</td>\n    </tr>\n    <tr>\n      <th>3</th>\n      <td>12</td>\n      <td>1</td>\n    </tr>\n    <tr>\n      <th>4</th>\n      <td>22</td>\n      <td>1</td>\n    </tr>\n    <tr>\n      <th>...</th>\n      <td>...</td>\n      <td>...</td>\n    </tr>\n    <tr>\n      <th>61241</th>\n      <td>192594</td>\n      <td>1</td>\n    </tr>\n    <tr>\n      <th>61242</th>\n      <td>192599</td>\n      <td>3</td>\n    </tr>\n    <tr>\n      <th>61243</th>\n      <td>192600</td>\n      <td>1</td>\n    </tr>\n    <tr>\n      <th>61244</th>\n      <td>192601</td>\n      <td>2</td>\n    </tr>\n    <tr>\n      <th>61245</th>\n      <td>192608</td>\n      <td>1</td>\n    </tr>\n  </tbody>\n</table>\n<p>69363 rows × 2 columns</p>\n</div>"
     },
     "metadata": {},
     "execution_count": 307
    }
   ],
   "source": [
    "parking_dict = business_parking_table.set_index(\"name\")[\"id\"].to_dict()\n",
    "parking_business_relation_table[\"parking_id\"] = parking_business_relation_table[\"name\"].map(lambda x: parking_dict[x])\n",
    "del parking_business_relation_table[\"name\"]\n",
    "parking_business_relation_table"
   ]
  },
  {
   "cell_type": "markdown",
   "metadata": {},
   "source": [
    "## Ambience"
   ]
  },
  {
   "cell_type": "code",
   "execution_count": 308,
   "metadata": {},
   "outputs": [
    {
     "output_type": "stream",
     "name": "stderr",
     "text": "100%|██████████| 47547/47547 [00:00<00:00, 353638.36it/s]\n"
    },
    {
     "output_type": "execute_result",
     "data": {
      "text/plain": "       business_id                name\n0                2            [casual]\n1               19            [casual]\n2               32            [casual]\n3               50            [casual]\n4               59            [casual]\n...            ...                 ...\n26701       192567  [touristy, casual]\n26702       192571            [casual]\n26703       192580            [casual]\n26704       192593            [casual]\n26705       192596            [casual]\n\n[26706 rows x 2 columns]",
      "text/html": "<div>\n<style scoped>\n    .dataframe tbody tr th:only-of-type {\n        vertical-align: middle;\n    }\n\n    .dataframe tbody tr th {\n        vertical-align: top;\n    }\n\n    .dataframe thead th {\n        text-align: right;\n    }\n</style>\n<table border=\"1\" class=\"dataframe\">\n  <thead>\n    <tr style=\"text-align: right;\">\n      <th></th>\n      <th>business_id</th>\n      <th>name</th>\n    </tr>\n  </thead>\n  <tbody>\n    <tr>\n      <th>0</th>\n      <td>2</td>\n      <td>[casual]</td>\n    </tr>\n    <tr>\n      <th>1</th>\n      <td>19</td>\n      <td>[casual]</td>\n    </tr>\n    <tr>\n      <th>2</th>\n      <td>32</td>\n      <td>[casual]</td>\n    </tr>\n    <tr>\n      <th>3</th>\n      <td>50</td>\n      <td>[casual]</td>\n    </tr>\n    <tr>\n      <th>4</th>\n      <td>59</td>\n      <td>[casual]</td>\n    </tr>\n    <tr>\n      <th>...</th>\n      <td>...</td>\n      <td>...</td>\n    </tr>\n    <tr>\n      <th>26701</th>\n      <td>192567</td>\n      <td>[touristy, casual]</td>\n    </tr>\n    <tr>\n      <th>26702</th>\n      <td>192571</td>\n      <td>[casual]</td>\n    </tr>\n    <tr>\n      <th>26703</th>\n      <td>192580</td>\n      <td>[casual]</td>\n    </tr>\n    <tr>\n      <th>26704</th>\n      <td>192593</td>\n      <td>[casual]</td>\n    </tr>\n    <tr>\n      <th>26705</th>\n      <td>192596</td>\n      <td>[casual]</td>\n    </tr>\n  </tbody>\n</table>\n<p>26706 rows × 2 columns</p>\n</div>"
     },
     "metadata": {},
     "execution_count": 308
    }
   ],
   "source": [
    "ambience_temp = attributes[attributes.map(lambda x: \"Ambience\" in x)].map(lambda x: eval(x[\"Ambience\"]))\n",
    "ambience_temp = ambience_temp[ambience_temp.map(lambda x: x != None)]\n",
    "ambience_temp = ambience_temp.progress_map(lambda m: [key for key in m.keys() if m[key]])\n",
    "ambience_temp = ambience_temp[ambience_temp.map(lambda l: len(l) > 0)].reset_index().rename(columns={\"index\":\"business_id\", \"attributes\":\"name\"})\n",
    "ambience_temp"
   ]
  },
  {
   "cell_type": "code",
   "execution_count": 309,
   "metadata": {},
   "outputs": [
    {
     "output_type": "stream",
     "name": "stderr",
     "text": "100%|██████████| 26706/26706 [00:07<00:00, 3606.45it/s]\n"
    },
    {
     "output_type": "execute_result",
     "data": {
      "text/plain": "         name  business_id\n0      casual            2\n1      casual           19\n2      casual           32\n3      casual           50\n4      casual           59\n...       ...          ...\n26701  casual       192567\n26702  casual       192571\n26703  casual       192580\n26704  casual       192593\n26705  casual       192596\n\n[30739 rows x 2 columns]",
      "text/html": "<div>\n<style scoped>\n    .dataframe tbody tr th:only-of-type {\n        vertical-align: middle;\n    }\n\n    .dataframe tbody tr th {\n        vertical-align: top;\n    }\n\n    .dataframe thead th {\n        text-align: right;\n    }\n</style>\n<table border=\"1\" class=\"dataframe\">\n  <thead>\n    <tr style=\"text-align: right;\">\n      <th></th>\n      <th>name</th>\n      <th>business_id</th>\n    </tr>\n  </thead>\n  <tbody>\n    <tr>\n      <th>0</th>\n      <td>casual</td>\n      <td>2</td>\n    </tr>\n    <tr>\n      <th>1</th>\n      <td>casual</td>\n      <td>19</td>\n    </tr>\n    <tr>\n      <th>2</th>\n      <td>casual</td>\n      <td>32</td>\n    </tr>\n    <tr>\n      <th>3</th>\n      <td>casual</td>\n      <td>50</td>\n    </tr>\n    <tr>\n      <th>4</th>\n      <td>casual</td>\n      <td>59</td>\n    </tr>\n    <tr>\n      <th>...</th>\n      <td>...</td>\n      <td>...</td>\n    </tr>\n    <tr>\n      <th>26701</th>\n      <td>casual</td>\n      <td>192567</td>\n    </tr>\n    <tr>\n      <th>26702</th>\n      <td>casual</td>\n      <td>192571</td>\n    </tr>\n    <tr>\n      <th>26703</th>\n      <td>casual</td>\n      <td>192580</td>\n    </tr>\n    <tr>\n      <th>26704</th>\n      <td>casual</td>\n      <td>192593</td>\n    </tr>\n    <tr>\n      <th>26705</th>\n      <td>casual</td>\n      <td>192596</td>\n    </tr>\n  </tbody>\n</table>\n<p>30739 rows × 2 columns</p>\n</div>"
     },
     "metadata": {},
     "execution_count": 309
    }
   ],
   "source": [
    "ambience_business_relation_table = (ambience_temp['name']\n",
    "    .progress_apply(lambda x: pd.Series(x))\n",
    "    .stack()\n",
    "    .reset_index(level=1, drop=True)\n",
    "    .to_frame('name')\n",
    "    .join(ambience_temp[['business_id']], how='left'))\n",
    "ambience_business_relation_table"
   ]
  },
  {
   "cell_type": "code",
   "execution_count": 310,
   "metadata": {},
   "outputs": [
    {
     "output_type": "execute_result",
     "data": {
      "text/plain": "   id      name\n0   1    casual\n1   2   hipster\n2   3    trendy\n3   4  romantic\n4   5  intimate\n5   6    classy\n6   7     divey\n7   8  touristy\n8   9   upscale",
      "text/html": "<div>\n<style scoped>\n    .dataframe tbody tr th:only-of-type {\n        vertical-align: middle;\n    }\n\n    .dataframe tbody tr th {\n        vertical-align: top;\n    }\n\n    .dataframe thead th {\n        text-align: right;\n    }\n</style>\n<table border=\"1\" class=\"dataframe\">\n  <thead>\n    <tr style=\"text-align: right;\">\n      <th></th>\n      <th>id</th>\n      <th>name</th>\n    </tr>\n  </thead>\n  <tbody>\n    <tr>\n      <th>0</th>\n      <td>1</td>\n      <td>casual</td>\n    </tr>\n    <tr>\n      <th>1</th>\n      <td>2</td>\n      <td>hipster</td>\n    </tr>\n    <tr>\n      <th>2</th>\n      <td>3</td>\n      <td>trendy</td>\n    </tr>\n    <tr>\n      <th>3</th>\n      <td>4</td>\n      <td>romantic</td>\n    </tr>\n    <tr>\n      <th>4</th>\n      <td>5</td>\n      <td>intimate</td>\n    </tr>\n    <tr>\n      <th>5</th>\n      <td>6</td>\n      <td>classy</td>\n    </tr>\n    <tr>\n      <th>6</th>\n      <td>7</td>\n      <td>divey</td>\n    </tr>\n    <tr>\n      <th>7</th>\n      <td>8</td>\n      <td>touristy</td>\n    </tr>\n    <tr>\n      <th>8</th>\n      <td>9</td>\n      <td>upscale</td>\n    </tr>\n  </tbody>\n</table>\n</div>"
     },
     "metadata": {},
     "execution_count": 310
    }
   ],
   "source": [
    "ambience_table = ambience_business_relation_table[\"name\"].drop_duplicates().reset_index()\n",
    "ambience_table.index += 1\n",
    "del ambience_table[\"index\"]\n",
    "ambience_table = ambience_table.reset_index().rename(columns={\"index\":\"id\"})\n",
    "ambience_table"
   ]
  },
  {
   "cell_type": "code",
   "execution_count": 311,
   "metadata": {},
   "outputs": [
    {
     "output_type": "execute_result",
     "data": {
      "text/plain": "       business_id  ambience_id\n0                2            1\n1               19            1\n2               32            1\n3               50            1\n4               59            1\n...            ...          ...\n26701       192567            1\n26702       192571            1\n26703       192580            1\n26704       192593            1\n26705       192596            1\n\n[30739 rows x 2 columns]",
      "text/html": "<div>\n<style scoped>\n    .dataframe tbody tr th:only-of-type {\n        vertical-align: middle;\n    }\n\n    .dataframe tbody tr th {\n        vertical-align: top;\n    }\n\n    .dataframe thead th {\n        text-align: right;\n    }\n</style>\n<table border=\"1\" class=\"dataframe\">\n  <thead>\n    <tr style=\"text-align: right;\">\n      <th></th>\n      <th>business_id</th>\n      <th>ambience_id</th>\n    </tr>\n  </thead>\n  <tbody>\n    <tr>\n      <th>0</th>\n      <td>2</td>\n      <td>1</td>\n    </tr>\n    <tr>\n      <th>1</th>\n      <td>19</td>\n      <td>1</td>\n    </tr>\n    <tr>\n      <th>2</th>\n      <td>32</td>\n      <td>1</td>\n    </tr>\n    <tr>\n      <th>3</th>\n      <td>50</td>\n      <td>1</td>\n    </tr>\n    <tr>\n      <th>4</th>\n      <td>59</td>\n      <td>1</td>\n    </tr>\n    <tr>\n      <th>...</th>\n      <td>...</td>\n      <td>...</td>\n    </tr>\n    <tr>\n      <th>26701</th>\n      <td>192567</td>\n      <td>1</td>\n    </tr>\n    <tr>\n      <th>26702</th>\n      <td>192571</td>\n      <td>1</td>\n    </tr>\n    <tr>\n      <th>26703</th>\n      <td>192580</td>\n      <td>1</td>\n    </tr>\n    <tr>\n      <th>26704</th>\n      <td>192593</td>\n      <td>1</td>\n    </tr>\n    <tr>\n      <th>26705</th>\n      <td>192596</td>\n      <td>1</td>\n    </tr>\n  </tbody>\n</table>\n<p>30739 rows × 2 columns</p>\n</div>"
     },
     "metadata": {},
     "execution_count": 311
    }
   ],
   "source": [
    "ambience_dict = ambience_table.set_index(\"name\")[\"id\"].to_dict()\n",
    "ambience_business_relation_table[\"ambience_id\"] = ambience_business_relation_table[\"name\"].map(lambda x: ambience_dict[x])\n",
    "del ambience_business_relation_table[\"name\"]\n",
    "ambience_business_relation_table"
   ]
  },
  {
   "cell_type": "markdown",
   "metadata": {},
   "source": [
    "## Good for meal"
   ]
  },
  {
   "cell_type": "code",
   "execution_count": 312,
   "metadata": {},
   "outputs": [
    {
     "output_type": "stream",
     "name": "stderr",
     "text": "100%|██████████| 29715/29715 [00:00<00:00, 309637.51it/s]\n"
    },
    {
     "output_type": "execute_result",
     "data": {
      "text/plain": "       business_id                        name\n0                2             [lunch, dinner]\n1               19             [lunch, dinner]\n2               32             [lunch, dinner]\n3               59    [dessert, lunch, dinner]\n4               64  [lunch, brunch, breakfast]\n...            ...                         ...\n21251       192548                    [dinner]\n21252       192567             [lunch, brunch]\n21253       192571                     [lunch]\n21254       192580             [lunch, dinner]\n21255       192596                 [breakfast]\n\n[21256 rows x 2 columns]",
      "text/html": "<div>\n<style scoped>\n    .dataframe tbody tr th:only-of-type {\n        vertical-align: middle;\n    }\n\n    .dataframe tbody tr th {\n        vertical-align: top;\n    }\n\n    .dataframe thead th {\n        text-align: right;\n    }\n</style>\n<table border=\"1\" class=\"dataframe\">\n  <thead>\n    <tr style=\"text-align: right;\">\n      <th></th>\n      <th>business_id</th>\n      <th>name</th>\n    </tr>\n  </thead>\n  <tbody>\n    <tr>\n      <th>0</th>\n      <td>2</td>\n      <td>[lunch, dinner]</td>\n    </tr>\n    <tr>\n      <th>1</th>\n      <td>19</td>\n      <td>[lunch, dinner]</td>\n    </tr>\n    <tr>\n      <th>2</th>\n      <td>32</td>\n      <td>[lunch, dinner]</td>\n    </tr>\n    <tr>\n      <th>3</th>\n      <td>59</td>\n      <td>[dessert, lunch, dinner]</td>\n    </tr>\n    <tr>\n      <th>4</th>\n      <td>64</td>\n      <td>[lunch, brunch, breakfast]</td>\n    </tr>\n    <tr>\n      <th>...</th>\n      <td>...</td>\n      <td>...</td>\n    </tr>\n    <tr>\n      <th>21251</th>\n      <td>192548</td>\n      <td>[dinner]</td>\n    </tr>\n    <tr>\n      <th>21252</th>\n      <td>192567</td>\n      <td>[lunch, brunch]</td>\n    </tr>\n    <tr>\n      <th>21253</th>\n      <td>192571</td>\n      <td>[lunch]</td>\n    </tr>\n    <tr>\n      <th>21254</th>\n      <td>192580</td>\n      <td>[lunch, dinner]</td>\n    </tr>\n    <tr>\n      <th>21255</th>\n      <td>192596</td>\n      <td>[breakfast]</td>\n    </tr>\n  </tbody>\n</table>\n<p>21256 rows × 2 columns</p>\n</div>"
     },
     "metadata": {},
     "execution_count": 312
    }
   ],
   "source": [
    "good_for_meal_temp = attributes[attributes.map(lambda x: \"GoodForMeal\" in x)].map(lambda x: eval(x[\"GoodForMeal\"]))\n",
    "good_for_meal_temp = good_for_meal_temp[good_for_meal_temp.map(lambda x: x != None)]\n",
    "good_for_meal_temp = good_for_meal_temp.progress_map(lambda m: [key for key in m.keys() if m[key]])\n",
    "good_for_meal_temp = good_for_meal_temp[good_for_meal_temp.map(lambda l: len(l) > 0)].reset_index().rename(columns={\"index\":\"business_id\", \"attributes\":\"name\"})\n",
    "good_for_meal_temp"
   ]
  },
  {
   "cell_type": "code",
   "execution_count": 313,
   "metadata": {},
   "outputs": [
    {
     "output_type": "stream",
     "name": "stderr",
     "text": "100%|██████████| 21256/21256 [00:05<00:00, 3707.29it/s]\n"
    },
    {
     "output_type": "execute_result",
     "data": {
      "text/plain": "            name  business_id\n0          lunch            2\n0         dinner            2\n1          lunch           19\n1         dinner           19\n2          lunch           32\n...          ...          ...\n21252     brunch       192567\n21253      lunch       192571\n21254      lunch       192580\n21254     dinner       192580\n21255  breakfast       192596\n\n[41047 rows x 2 columns]",
      "text/html": "<div>\n<style scoped>\n    .dataframe tbody tr th:only-of-type {\n        vertical-align: middle;\n    }\n\n    .dataframe tbody tr th {\n        vertical-align: top;\n    }\n\n    .dataframe thead th {\n        text-align: right;\n    }\n</style>\n<table border=\"1\" class=\"dataframe\">\n  <thead>\n    <tr style=\"text-align: right;\">\n      <th></th>\n      <th>name</th>\n      <th>business_id</th>\n    </tr>\n  </thead>\n  <tbody>\n    <tr>\n      <th>0</th>\n      <td>lunch</td>\n      <td>2</td>\n    </tr>\n    <tr>\n      <th>0</th>\n      <td>dinner</td>\n      <td>2</td>\n    </tr>\n    <tr>\n      <th>1</th>\n      <td>lunch</td>\n      <td>19</td>\n    </tr>\n    <tr>\n      <th>1</th>\n      <td>dinner</td>\n      <td>19</td>\n    </tr>\n    <tr>\n      <th>2</th>\n      <td>lunch</td>\n      <td>32</td>\n    </tr>\n    <tr>\n      <th>...</th>\n      <td>...</td>\n      <td>...</td>\n    </tr>\n    <tr>\n      <th>21252</th>\n      <td>brunch</td>\n      <td>192567</td>\n    </tr>\n    <tr>\n      <th>21253</th>\n      <td>lunch</td>\n      <td>192571</td>\n    </tr>\n    <tr>\n      <th>21254</th>\n      <td>lunch</td>\n      <td>192580</td>\n    </tr>\n    <tr>\n      <th>21254</th>\n      <td>dinner</td>\n      <td>192580</td>\n    </tr>\n    <tr>\n      <th>21255</th>\n      <td>breakfast</td>\n      <td>192596</td>\n    </tr>\n  </tbody>\n</table>\n<p>41047 rows × 2 columns</p>\n</div>"
     },
     "metadata": {},
     "execution_count": 313
    }
   ],
   "source": [
    "good_for_meal_business_relation_table = (good_for_meal_temp['name']\n",
    "    .progress_apply(lambda x: pd.Series(x))\n",
    "    .stack()\n",
    "    .reset_index(level=1, drop=True)\n",
    "    .to_frame('name')\n",
    "    .join(good_for_meal_temp[['business_id']], how='left'))\n",
    "good_for_meal_business_relation_table"
   ]
  },
  {
   "cell_type": "code",
   "execution_count": 314,
   "metadata": {},
   "outputs": [
    {
     "output_type": "execute_result",
     "data": {
      "text/plain": "   id       name\n0   1      lunch\n1   2     dinner\n2   3    dessert\n3   4     brunch\n4   5  breakfast\n5   6  latenight",
      "text/html": "<div>\n<style scoped>\n    .dataframe tbody tr th:only-of-type {\n        vertical-align: middle;\n    }\n\n    .dataframe tbody tr th {\n        vertical-align: top;\n    }\n\n    .dataframe thead th {\n        text-align: right;\n    }\n</style>\n<table border=\"1\" class=\"dataframe\">\n  <thead>\n    <tr style=\"text-align: right;\">\n      <th></th>\n      <th>id</th>\n      <th>name</th>\n    </tr>\n  </thead>\n  <tbody>\n    <tr>\n      <th>0</th>\n      <td>1</td>\n      <td>lunch</td>\n    </tr>\n    <tr>\n      <th>1</th>\n      <td>2</td>\n      <td>dinner</td>\n    </tr>\n    <tr>\n      <th>2</th>\n      <td>3</td>\n      <td>dessert</td>\n    </tr>\n    <tr>\n      <th>3</th>\n      <td>4</td>\n      <td>brunch</td>\n    </tr>\n    <tr>\n      <th>4</th>\n      <td>5</td>\n      <td>breakfast</td>\n    </tr>\n    <tr>\n      <th>5</th>\n      <td>6</td>\n      <td>latenight</td>\n    </tr>\n  </tbody>\n</table>\n</div>"
     },
     "metadata": {},
     "execution_count": 314
    }
   ],
   "source": [
    "good_for_meal_table = good_for_meal_business_relation_table[\"name\"].drop_duplicates().reset_index()\n",
    "good_for_meal_table.index += 1\n",
    "del good_for_meal_table[\"index\"]\n",
    "good_for_meal_table = good_for_meal_table.reset_index().rename(columns={\"index\":\"id\"})\n",
    "good_for_meal_table"
   ]
  },
  {
   "cell_type": "code",
   "execution_count": 315,
   "metadata": {},
   "outputs": [
    {
     "output_type": "execute_result",
     "data": {
      "text/plain": "       business_id  ambience_id\n0                2            1\n0                2            2\n1               19            1\n1               19            2\n2               32            1\n...            ...          ...\n21252       192567            4\n21253       192571            1\n21254       192580            1\n21254       192580            2\n21255       192596            5\n\n[41047 rows x 2 columns]",
      "text/html": "<div>\n<style scoped>\n    .dataframe tbody tr th:only-of-type {\n        vertical-align: middle;\n    }\n\n    .dataframe tbody tr th {\n        vertical-align: top;\n    }\n\n    .dataframe thead th {\n        text-align: right;\n    }\n</style>\n<table border=\"1\" class=\"dataframe\">\n  <thead>\n    <tr style=\"text-align: right;\">\n      <th></th>\n      <th>business_id</th>\n      <th>ambience_id</th>\n    </tr>\n  </thead>\n  <tbody>\n    <tr>\n      <th>0</th>\n      <td>2</td>\n      <td>1</td>\n    </tr>\n    <tr>\n      <th>0</th>\n      <td>2</td>\n      <td>2</td>\n    </tr>\n    <tr>\n      <th>1</th>\n      <td>19</td>\n      <td>1</td>\n    </tr>\n    <tr>\n      <th>1</th>\n      <td>19</td>\n      <td>2</td>\n    </tr>\n    <tr>\n      <th>2</th>\n      <td>32</td>\n      <td>1</td>\n    </tr>\n    <tr>\n      <th>...</th>\n      <td>...</td>\n      <td>...</td>\n    </tr>\n    <tr>\n      <th>21252</th>\n      <td>192567</td>\n      <td>4</td>\n    </tr>\n    <tr>\n      <th>21253</th>\n      <td>192571</td>\n      <td>1</td>\n    </tr>\n    <tr>\n      <th>21254</th>\n      <td>192580</td>\n      <td>1</td>\n    </tr>\n    <tr>\n      <th>21254</th>\n      <td>192580</td>\n      <td>2</td>\n    </tr>\n    <tr>\n      <th>21255</th>\n      <td>192596</td>\n      <td>5</td>\n    </tr>\n  </tbody>\n</table>\n<p>41047 rows × 2 columns</p>\n</div>"
     },
     "metadata": {},
     "execution_count": 315
    }
   ],
   "source": [
    "good_for_meal_dict = good_for_meal_table.set_index(\"name\")[\"id\"].to_dict()\n",
    "good_for_meal_business_relation_table[\"ambience_id\"] = good_for_meal_business_relation_table[\"name\"].map(lambda x: good_for_meal_dict[x])\n",
    "del good_for_meal_business_relation_table[\"name\"]\n",
    "good_for_meal_business_relation_table"
   ]
  },
  {
   "cell_type": "markdown",
   "metadata": {},
   "source": [
    "## dietary restrictions"
   ]
  },
  {
   "cell_type": "code",
   "execution_count": 316,
   "metadata": {},
   "outputs": [
    {
     "output_type": "stream",
     "name": "stderr",
     "text": "100%|██████████| 52/52 [00:00<00:00, 72532.03it/s]\n"
    },
    {
     "output_type": "execute_result",
     "data": {
      "text/plain": "    business_id                                               name\n0           963                                      [gluten-free]\n1          2091                                            [halal]\n2          3777                                      [gluten-free]\n3         10048                                            [vegan]\n4         12861                                       [vegetarian]\n5         13187                    [dairy-free, vegan, vegetarian]\n6         14766                               [gluten-free, vegan]\n7         16687  [dairy-free, gluten-free, vegan, soy-free, veg...\n8         16942                          [gluten-free, vegetarian]\n9         22468                                      [gluten-free]\n10        25002                                       [vegetarian]\n11        25557                                       [vegetarian]\n12        26647                                       [vegetarian]\n13        45225                                      [gluten-free]\n14        45630                                            [vegan]\n15        47167                                      [gluten-free]\n16        47902                                      [gluten-free]\n17        49442                          [gluten-free, vegetarian]\n18        49508                                [vegan, vegetarian]\n19        51681                               [gluten-free, vegan]\n20        75365                   [gluten-free, vegan, vegetarian]\n21        77006                                      [gluten-free]\n22        89597                                            [vegan]\n23        91065                                      [gluten-free]\n24        91489                                      [gluten-free]\n25        95328                                [vegan, vegetarian]\n26        95706                                            [halal]\n27        98370                               [gluten-free, vegan]\n28        99039                               [gluten-free, vegan]\n29       100229                                            [halal]\n30       101232                   [gluten-free, vegan, vegetarian]\n31       107730                                       [vegetarian]\n32       114489                                            [vegan]\n33       121881                                            [vegan]\n34       123351                                            [vegan]\n35       123653                                            [vegan]\n36       124378                                      [gluten-free]\n37       125085                                            [vegan]\n38       125435                                            [vegan]\n39       126357                                      [gluten-free]\n40       129980                                      [gluten-free]\n41       133448                                       [vegetarian]\n42       139543                               [gluten-free, vegan]\n43       139557                                            [vegan]\n44       150309                                [vegan, vegetarian]\n45       152386                               [gluten-free, vegan]\n46       154652                                            [vegan]\n47       158370                                       [vegetarian]\n48       158889                                            [vegan]\n49       161767                                [vegan, vegetarian]\n50       177625                                      [gluten-free]\n51       183531                                            [vegan]",
      "text/html": "<div>\n<style scoped>\n    .dataframe tbody tr th:only-of-type {\n        vertical-align: middle;\n    }\n\n    .dataframe tbody tr th {\n        vertical-align: top;\n    }\n\n    .dataframe thead th {\n        text-align: right;\n    }\n</style>\n<table border=\"1\" class=\"dataframe\">\n  <thead>\n    <tr style=\"text-align: right;\">\n      <th></th>\n      <th>business_id</th>\n      <th>name</th>\n    </tr>\n  </thead>\n  <tbody>\n    <tr>\n      <th>0</th>\n      <td>963</td>\n      <td>[gluten-free]</td>\n    </tr>\n    <tr>\n      <th>1</th>\n      <td>2091</td>\n      <td>[halal]</td>\n    </tr>\n    <tr>\n      <th>2</th>\n      <td>3777</td>\n      <td>[gluten-free]</td>\n    </tr>\n    <tr>\n      <th>3</th>\n      <td>10048</td>\n      <td>[vegan]</td>\n    </tr>\n    <tr>\n      <th>4</th>\n      <td>12861</td>\n      <td>[vegetarian]</td>\n    </tr>\n    <tr>\n      <th>5</th>\n      <td>13187</td>\n      <td>[dairy-free, vegan, vegetarian]</td>\n    </tr>\n    <tr>\n      <th>6</th>\n      <td>14766</td>\n      <td>[gluten-free, vegan]</td>\n    </tr>\n    <tr>\n      <th>7</th>\n      <td>16687</td>\n      <td>[dairy-free, gluten-free, vegan, soy-free, veg...</td>\n    </tr>\n    <tr>\n      <th>8</th>\n      <td>16942</td>\n      <td>[gluten-free, vegetarian]</td>\n    </tr>\n    <tr>\n      <th>9</th>\n      <td>22468</td>\n      <td>[gluten-free]</td>\n    </tr>\n    <tr>\n      <th>10</th>\n      <td>25002</td>\n      <td>[vegetarian]</td>\n    </tr>\n    <tr>\n      <th>11</th>\n      <td>25557</td>\n      <td>[vegetarian]</td>\n    </tr>\n    <tr>\n      <th>12</th>\n      <td>26647</td>\n      <td>[vegetarian]</td>\n    </tr>\n    <tr>\n      <th>13</th>\n      <td>45225</td>\n      <td>[gluten-free]</td>\n    </tr>\n    <tr>\n      <th>14</th>\n      <td>45630</td>\n      <td>[vegan]</td>\n    </tr>\n    <tr>\n      <th>15</th>\n      <td>47167</td>\n      <td>[gluten-free]</td>\n    </tr>\n    <tr>\n      <th>16</th>\n      <td>47902</td>\n      <td>[gluten-free]</td>\n    </tr>\n    <tr>\n      <th>17</th>\n      <td>49442</td>\n      <td>[gluten-free, vegetarian]</td>\n    </tr>\n    <tr>\n      <th>18</th>\n      <td>49508</td>\n      <td>[vegan, vegetarian]</td>\n    </tr>\n    <tr>\n      <th>19</th>\n      <td>51681</td>\n      <td>[gluten-free, vegan]</td>\n    </tr>\n    <tr>\n      <th>20</th>\n      <td>75365</td>\n      <td>[gluten-free, vegan, vegetarian]</td>\n    </tr>\n    <tr>\n      <th>21</th>\n      <td>77006</td>\n      <td>[gluten-free]</td>\n    </tr>\n    <tr>\n      <th>22</th>\n      <td>89597</td>\n      <td>[vegan]</td>\n    </tr>\n    <tr>\n      <th>23</th>\n      <td>91065</td>\n      <td>[gluten-free]</td>\n    </tr>\n    <tr>\n      <th>24</th>\n      <td>91489</td>\n      <td>[gluten-free]</td>\n    </tr>\n    <tr>\n      <th>25</th>\n      <td>95328</td>\n      <td>[vegan, vegetarian]</td>\n    </tr>\n    <tr>\n      <th>26</th>\n      <td>95706</td>\n      <td>[halal]</td>\n    </tr>\n    <tr>\n      <th>27</th>\n      <td>98370</td>\n      <td>[gluten-free, vegan]</td>\n    </tr>\n    <tr>\n      <th>28</th>\n      <td>99039</td>\n      <td>[gluten-free, vegan]</td>\n    </tr>\n    <tr>\n      <th>29</th>\n      <td>100229</td>\n      <td>[halal]</td>\n    </tr>\n    <tr>\n      <th>30</th>\n      <td>101232</td>\n      <td>[gluten-free, vegan, vegetarian]</td>\n    </tr>\n    <tr>\n      <th>31</th>\n      <td>107730</td>\n      <td>[vegetarian]</td>\n    </tr>\n    <tr>\n      <th>32</th>\n      <td>114489</td>\n      <td>[vegan]</td>\n    </tr>\n    <tr>\n      <th>33</th>\n      <td>121881</td>\n      <td>[vegan]</td>\n    </tr>\n    <tr>\n      <th>34</th>\n      <td>123351</td>\n      <td>[vegan]</td>\n    </tr>\n    <tr>\n      <th>35</th>\n      <td>123653</td>\n      <td>[vegan]</td>\n    </tr>\n    <tr>\n      <th>36</th>\n      <td>124378</td>\n      <td>[gluten-free]</td>\n    </tr>\n    <tr>\n      <th>37</th>\n      <td>125085</td>\n      <td>[vegan]</td>\n    </tr>\n    <tr>\n      <th>38</th>\n      <td>125435</td>\n      <td>[vegan]</td>\n    </tr>\n    <tr>\n      <th>39</th>\n      <td>126357</td>\n      <td>[gluten-free]</td>\n    </tr>\n    <tr>\n      <th>40</th>\n      <td>129980</td>\n      <td>[gluten-free]</td>\n    </tr>\n    <tr>\n      <th>41</th>\n      <td>133448</td>\n      <td>[vegetarian]</td>\n    </tr>\n    <tr>\n      <th>42</th>\n      <td>139543</td>\n      <td>[gluten-free, vegan]</td>\n    </tr>\n    <tr>\n      <th>43</th>\n      <td>139557</td>\n      <td>[vegan]</td>\n    </tr>\n    <tr>\n      <th>44</th>\n      <td>150309</td>\n      <td>[vegan, vegetarian]</td>\n    </tr>\n    <tr>\n      <th>45</th>\n      <td>152386</td>\n      <td>[gluten-free, vegan]</td>\n    </tr>\n    <tr>\n      <th>46</th>\n      <td>154652</td>\n      <td>[vegan]</td>\n    </tr>\n    <tr>\n      <th>47</th>\n      <td>158370</td>\n      <td>[vegetarian]</td>\n    </tr>\n    <tr>\n      <th>48</th>\n      <td>158889</td>\n      <td>[vegan]</td>\n    </tr>\n    <tr>\n      <th>49</th>\n      <td>161767</td>\n      <td>[vegan, vegetarian]</td>\n    </tr>\n    <tr>\n      <th>50</th>\n      <td>177625</td>\n      <td>[gluten-free]</td>\n    </tr>\n    <tr>\n      <th>51</th>\n      <td>183531</td>\n      <td>[vegan]</td>\n    </tr>\n  </tbody>\n</table>\n</div>"
     },
     "metadata": {},
     "execution_count": 316
    }
   ],
   "source": [
    "dietary_restrictions_temp = attributes[attributes.map(lambda x: \"DietaryRestrictions\" in x)].map(lambda x: eval(x[\"DietaryRestrictions\"]))\n",
    "dietary_restrictions_temp = dietary_restrictions_temp[dietary_restrictions_temp.map(lambda x: x != None)]\n",
    "dietary_restrictions_temp = dietary_restrictions_temp.progress_map(lambda m: [key for key in m.keys() if m[key]])\n",
    "dietary_restrictions_temp = dietary_restrictions_temp[dietary_restrictions_temp.map(lambda l: len(l) > 0)].reset_index().rename(columns={\"index\":\"business_id\", \"attributes\":\"name\"})\n",
    "dietary_restrictions_temp"
   ]
  },
  {
   "cell_type": "code",
   "execution_count": 317,
   "metadata": {},
   "outputs": [
    {
     "output_type": "stream",
     "name": "stderr",
     "text": "100%|██████████| 52/52 [00:00<00:00, 3218.01it/s]\n"
    },
    {
     "output_type": "execute_result",
     "data": {
      "text/plain": "           name  business_id\n0   gluten-free          963\n1         halal         2091\n2   gluten-free         3777\n3         vegan        10048\n4    vegetarian        12861\n..          ...          ...\n48        vegan       158889\n49        vegan       161767\n49   vegetarian       161767\n50  gluten-free       177625\n51        vegan       183531\n\n[74 rows x 2 columns]",
      "text/html": "<div>\n<style scoped>\n    .dataframe tbody tr th:only-of-type {\n        vertical-align: middle;\n    }\n\n    .dataframe tbody tr th {\n        vertical-align: top;\n    }\n\n    .dataframe thead th {\n        text-align: right;\n    }\n</style>\n<table border=\"1\" class=\"dataframe\">\n  <thead>\n    <tr style=\"text-align: right;\">\n      <th></th>\n      <th>name</th>\n      <th>business_id</th>\n    </tr>\n  </thead>\n  <tbody>\n    <tr>\n      <th>0</th>\n      <td>gluten-free</td>\n      <td>963</td>\n    </tr>\n    <tr>\n      <th>1</th>\n      <td>halal</td>\n      <td>2091</td>\n    </tr>\n    <tr>\n      <th>2</th>\n      <td>gluten-free</td>\n      <td>3777</td>\n    </tr>\n    <tr>\n      <th>3</th>\n      <td>vegan</td>\n      <td>10048</td>\n    </tr>\n    <tr>\n      <th>4</th>\n      <td>vegetarian</td>\n      <td>12861</td>\n    </tr>\n    <tr>\n      <th>...</th>\n      <td>...</td>\n      <td>...</td>\n    </tr>\n    <tr>\n      <th>48</th>\n      <td>vegan</td>\n      <td>158889</td>\n    </tr>\n    <tr>\n      <th>49</th>\n      <td>vegan</td>\n      <td>161767</td>\n    </tr>\n    <tr>\n      <th>49</th>\n      <td>vegetarian</td>\n      <td>161767</td>\n    </tr>\n    <tr>\n      <th>50</th>\n      <td>gluten-free</td>\n      <td>177625</td>\n    </tr>\n    <tr>\n      <th>51</th>\n      <td>vegan</td>\n      <td>183531</td>\n    </tr>\n  </tbody>\n</table>\n<p>74 rows × 2 columns</p>\n</div>"
     },
     "metadata": {},
     "execution_count": 317
    }
   ],
   "source": [
    "dietary_restrictions_business_relation_table = (dietary_restrictions_temp['name']\n",
    "    .progress_apply(lambda x: pd.Series(x))\n",
    "    .stack()\n",
    "    .reset_index(level=1, drop=True)\n",
    "    .to_frame('name')\n",
    "    .join(dietary_restrictions_temp[['business_id']], how='left'))\n",
    "dietary_restrictions_business_relation_table"
   ]
  },
  {
   "cell_type": "code",
   "execution_count": 318,
   "metadata": {},
   "outputs": [
    {
     "output_type": "execute_result",
     "data": {
      "text/plain": "   id         name\n0   1  gluten-free\n1   2        halal\n2   3        vegan\n3   4   vegetarian\n4   5   dairy-free\n5   6     soy-free",
      "text/html": "<div>\n<style scoped>\n    .dataframe tbody tr th:only-of-type {\n        vertical-align: middle;\n    }\n\n    .dataframe tbody tr th {\n        vertical-align: top;\n    }\n\n    .dataframe thead th {\n        text-align: right;\n    }\n</style>\n<table border=\"1\" class=\"dataframe\">\n  <thead>\n    <tr style=\"text-align: right;\">\n      <th></th>\n      <th>id</th>\n      <th>name</th>\n    </tr>\n  </thead>\n  <tbody>\n    <tr>\n      <th>0</th>\n      <td>1</td>\n      <td>gluten-free</td>\n    </tr>\n    <tr>\n      <th>1</th>\n      <td>2</td>\n      <td>halal</td>\n    </tr>\n    <tr>\n      <th>2</th>\n      <td>3</td>\n      <td>vegan</td>\n    </tr>\n    <tr>\n      <th>3</th>\n      <td>4</td>\n      <td>vegetarian</td>\n    </tr>\n    <tr>\n      <th>4</th>\n      <td>5</td>\n      <td>dairy-free</td>\n    </tr>\n    <tr>\n      <th>5</th>\n      <td>6</td>\n      <td>soy-free</td>\n    </tr>\n  </tbody>\n</table>\n</div>"
     },
     "metadata": {},
     "execution_count": 318
    }
   ],
   "source": [
    "dietary_restrictions_table = dietary_restrictions_business_relation_table[\"name\"].drop_duplicates().reset_index()\n",
    "dietary_restrictions_table.index += 1\n",
    "del dietary_restrictions_table[\"index\"]\n",
    "dietary_restrictions_table = dietary_restrictions_table.reset_index().rename(columns={\"index\":\"id\"})\n",
    "dietary_restrictions_table"
   ]
  },
  {
   "cell_type": "code",
   "execution_count": 319,
   "metadata": {},
   "outputs": [
    {
     "output_type": "execute_result",
     "data": {
      "text/plain": "    business_id  dietary_restrictions_id\n0           963                        1\n1          2091                        2\n2          3777                        1\n3         10048                        3\n4         12861                        4\n..          ...                      ...\n48       158889                        3\n49       161767                        3\n49       161767                        4\n50       177625                        1\n51       183531                        3\n\n[74 rows x 2 columns]",
      "text/html": "<div>\n<style scoped>\n    .dataframe tbody tr th:only-of-type {\n        vertical-align: middle;\n    }\n\n    .dataframe tbody tr th {\n        vertical-align: top;\n    }\n\n    .dataframe thead th {\n        text-align: right;\n    }\n</style>\n<table border=\"1\" class=\"dataframe\">\n  <thead>\n    <tr style=\"text-align: right;\">\n      <th></th>\n      <th>business_id</th>\n      <th>dietary_restrictions_id</th>\n    </tr>\n  </thead>\n  <tbody>\n    <tr>\n      <th>0</th>\n      <td>963</td>\n      <td>1</td>\n    </tr>\n    <tr>\n      <th>1</th>\n      <td>2091</td>\n      <td>2</td>\n    </tr>\n    <tr>\n      <th>2</th>\n      <td>3777</td>\n      <td>1</td>\n    </tr>\n    <tr>\n      <th>3</th>\n      <td>10048</td>\n      <td>3</td>\n    </tr>\n    <tr>\n      <th>4</th>\n      <td>12861</td>\n      <td>4</td>\n    </tr>\n    <tr>\n      <th>...</th>\n      <td>...</td>\n      <td>...</td>\n    </tr>\n    <tr>\n      <th>48</th>\n      <td>158889</td>\n      <td>3</td>\n    </tr>\n    <tr>\n      <th>49</th>\n      <td>161767</td>\n      <td>3</td>\n    </tr>\n    <tr>\n      <th>49</th>\n      <td>161767</td>\n      <td>4</td>\n    </tr>\n    <tr>\n      <th>50</th>\n      <td>177625</td>\n      <td>1</td>\n    </tr>\n    <tr>\n      <th>51</th>\n      <td>183531</td>\n      <td>3</td>\n    </tr>\n  </tbody>\n</table>\n<p>74 rows × 2 columns</p>\n</div>"
     },
     "metadata": {},
     "execution_count": 319
    }
   ],
   "source": [
    "dietary_restrictions_dict = dietary_restrictions_table.set_index(\"name\")[\"id\"].to_dict()\n",
    "dietary_restrictions_business_relation_table[\"dietary_restrictions_id\"] = dietary_restrictions_business_relation_table[\"name\"].map(lambda x: dietary_restrictions_dict[x])\n",
    "del dietary_restrictions_business_relation_table[\"name\"]\n",
    "dietary_restrictions_business_relation_table"
   ]
  },
  {
   "cell_type": "markdown",
   "metadata": {},
   "source": [
    "# Parse schedule"
   ]
  },
  {
   "cell_type": "code",
   "execution_count": 320,
   "metadata": {},
   "outputs": [
    {
     "output_type": "stream",
     "name": "stderr",
     "text": "100%|██████████| 147779/147779 [00:05<00:00, 26152.42it/s]\n"
    },
    {
     "output_type": "execute_result",
     "data": {
      "text/plain": "2         {'Monday': '9:0-0:0', 'Tuesday': '9:0-0:0', 'W...\n3         {'Monday': '9:0-17:0', 'Tuesday': '9:0-17:0', ...\n4         {'Monday': '8:30-20:0', 'Tuesday': '8:30-20:0'...\n6         {'Monday': '10:0-21:0', 'Tuesday': '10:0-21:0'...\n7         {'Monday': '9:0-18:0', 'Tuesday': '9:0-18:0', ...\n                                ...                        \n192603    {'Monday': '8:0-17:0', 'Tuesday': '8:0-20:0', ...\n192604    {'Monday': '7:0-17:0', 'Tuesday': '7:0-17:0', ...\n192607    {'Monday': '7:30-17:30', 'Tuesday': '7:30-17:3...\n192608    {'Monday': '0:0-0:0', 'Tuesday': '9:0-19:0', '...\n192609    {'Monday': '8:0-18:0', 'Tuesday': '8:0-18:0', ...\nName: hours, Length: 147779, dtype: object"
     },
     "metadata": {},
     "execution_count": 320
    }
   ],
   "source": [
    "schedule_temp = business_raw[\"hours\"]\n",
    "del business_table[\"hours\"]\n",
    "schedule_temp = schedule_temp[schedule_temp.map(lambda x: type(x) == str)].progress_map(eval)\n",
    "schedule_temp"
   ]
  },
  {
   "cell_type": "code",
   "execution_count": 338,
   "metadata": {},
   "outputs": [
    {
     "output_type": "execute_result",
     "data": {
      "text/plain": "   id       name\n0   1     Monday\n1   2    Tuesday\n2   3  Wednesday\n3   4   Thursday\n4   5     Friday\n5   6   Saturday\n6   7     Sunday",
      "text/html": "<div>\n<style scoped>\n    .dataframe tbody tr th:only-of-type {\n        vertical-align: middle;\n    }\n\n    .dataframe tbody tr th {\n        vertical-align: top;\n    }\n\n    .dataframe thead th {\n        text-align: right;\n    }\n</style>\n<table border=\"1\" class=\"dataframe\">\n  <thead>\n    <tr style=\"text-align: right;\">\n      <th></th>\n      <th>id</th>\n      <th>name</th>\n    </tr>\n  </thead>\n  <tbody>\n    <tr>\n      <th>0</th>\n      <td>1</td>\n      <td>Monday</td>\n    </tr>\n    <tr>\n      <th>1</th>\n      <td>2</td>\n      <td>Tuesday</td>\n    </tr>\n    <tr>\n      <th>2</th>\n      <td>3</td>\n      <td>Wednesday</td>\n    </tr>\n    <tr>\n      <th>3</th>\n      <td>4</td>\n      <td>Thursday</td>\n    </tr>\n    <tr>\n      <th>4</th>\n      <td>5</td>\n      <td>Friday</td>\n    </tr>\n    <tr>\n      <th>5</th>\n      <td>6</td>\n      <td>Saturday</td>\n    </tr>\n    <tr>\n      <th>6</th>\n      <td>7</td>\n      <td>Sunday</td>\n    </tr>\n  </tbody>\n</table>\n</div>"
     },
     "metadata": {},
     "execution_count": 338
    }
   ],
   "source": [
    "days = [\"Monday\", \"Tuesday\", \"Wednesday\", \"Thursday\", \"Friday\", \"Saturday\", \"Sunday\"]\n",
    "day_table = pd.DataFrame(days, columns=[\"name\"])\n",
    "day_table.index += 1\n",
    "day_table = day_table.reset_index().rename(columns={\"index\": \"id\"})\n",
    "day_dict = day_table.set_index(\"name\")[\"id\"].to_dict()\n",
    "day_table"
   ]
  },
  {
   "cell_type": "code",
   "execution_count": 342,
   "metadata": {},
   "outputs": [
    {
     "output_type": "stream",
     "name": "stderr",
     "text": "100%|██████████| 135767/135767 [00:00<00:00, 611970.87it/s]\n100%|██████████| 143428/143428 [00:00<00:00, 622693.04it/s]\n100%|██████████| 145157/145157 [00:00<00:00, 623545.13it/s]\n100%|██████████| 145903/145903 [00:00<00:00, 662058.87it/s]\n100%|██████████| 145174/145174 [00:00<00:00, 647471.16it/s]\n100%|██████████| 125861/125861 [00:00<00:00, 642817.75it/s]\n100%|██████████| 91336/91336 [00:00<00:00, 609027.28it/s]\n"
    }
   ],
   "source": [
    "def schedules_on(day):\n",
    "    temp = schedule_temp[schedule_temp.map(lambda m: day in m)].progress_map(lambda m: m[day]).reset_index().rename(columns={\"index\": \"business_id\"})\n",
    "    temp[\"day_id\"] = day_dict[day]\n",
    "    temp[\"start_at\"] = temp[\"hours\"].map(lambda s: s.split(\"-\")[0])\n",
    "    temp[\"end_at\"] = temp[\"hours\"].map(lambda s: s.split(\"-\")[1])\n",
    "    del temp[\"hours\"]\n",
    "    return temp"
   ]
  },
  {
   "cell_type": "code",
   "execution_count": 344,
   "metadata": {},
   "outputs": [
    {
     "output_type": "stream",
     "name": "stderr",
     "text": "100%|██████████| 135767/135767 [00:00<00:00, 618275.11it/s]\n100%|██████████| 143428/143428 [00:00<00:00, 616539.11it/s]\n100%|██████████| 145157/145157 [00:00<00:00, 658024.53it/s]\n100%|██████████| 145903/145903 [00:00<00:00, 663852.93it/s]\n100%|██████████| 145174/145174 [00:00<00:00, 642178.36it/s]\n100%|██████████| 125861/125861 [00:00<00:00, 636372.10it/s]\n100%|██████████| 91336/91336 [00:00<00:00, 564161.36it/s]\n"
    },
    {
     "output_type": "execute_result",
     "data": {
      "text/plain": "       business_id  day_id start_at end_at\n0                2       1      9:0    0:0\n1                3       1      9:0   17:0\n2                4       1     8:30   20:0\n3                6       1     10:0   21:0\n4                7       1      9:0   18:0\n...            ...     ...      ...    ...\n91331       192594       7     12:0   16:0\n91332       192596       7      0:0    0:0\n91333       192601       7     11:0   17:0\n91334       192602       7      0:0    0:0\n91335       192603       7     7:30   19:0\n\n[932626 rows x 4 columns]",
      "text/html": "<div>\n<style scoped>\n    .dataframe tbody tr th:only-of-type {\n        vertical-align: middle;\n    }\n\n    .dataframe tbody tr th {\n        vertical-align: top;\n    }\n\n    .dataframe thead th {\n        text-align: right;\n    }\n</style>\n<table border=\"1\" class=\"dataframe\">\n  <thead>\n    <tr style=\"text-align: right;\">\n      <th></th>\n      <th>business_id</th>\n      <th>day_id</th>\n      <th>start_at</th>\n      <th>end_at</th>\n    </tr>\n  </thead>\n  <tbody>\n    <tr>\n      <th>0</th>\n      <td>2</td>\n      <td>1</td>\n      <td>9:0</td>\n      <td>0:0</td>\n    </tr>\n    <tr>\n      <th>1</th>\n      <td>3</td>\n      <td>1</td>\n      <td>9:0</td>\n      <td>17:0</td>\n    </tr>\n    <tr>\n      <th>2</th>\n      <td>4</td>\n      <td>1</td>\n      <td>8:30</td>\n      <td>20:0</td>\n    </tr>\n    <tr>\n      <th>3</th>\n      <td>6</td>\n      <td>1</td>\n      <td>10:0</td>\n      <td>21:0</td>\n    </tr>\n    <tr>\n      <th>4</th>\n      <td>7</td>\n      <td>1</td>\n      <td>9:0</td>\n      <td>18:0</td>\n    </tr>\n    <tr>\n      <th>...</th>\n      <td>...</td>\n      <td>...</td>\n      <td>...</td>\n      <td>...</td>\n    </tr>\n    <tr>\n      <th>91331</th>\n      <td>192594</td>\n      <td>7</td>\n      <td>12:0</td>\n      <td>16:0</td>\n    </tr>\n    <tr>\n      <th>91332</th>\n      <td>192596</td>\n      <td>7</td>\n      <td>0:0</td>\n      <td>0:0</td>\n    </tr>\n    <tr>\n      <th>91333</th>\n      <td>192601</td>\n      <td>7</td>\n      <td>11:0</td>\n      <td>17:0</td>\n    </tr>\n    <tr>\n      <th>91334</th>\n      <td>192602</td>\n      <td>7</td>\n      <td>0:0</td>\n      <td>0:0</td>\n    </tr>\n    <tr>\n      <th>91335</th>\n      <td>192603</td>\n      <td>7</td>\n      <td>7:30</td>\n      <td>19:0</td>\n    </tr>\n  </tbody>\n</table>\n<p>932626 rows × 4 columns</p>\n</div>"
     },
     "metadata": {},
     "execution_count": 344
    }
   ],
   "source": [
    "schedule_table = pd.concat([schedules_on(day) for day in days])\n",
    "schedule_table"
   ]
  },
  {
   "cell_type": "code",
   "execution_count": null,
   "metadata": {},
   "outputs": [],
   "source": [
    "business_raw[business_raw[\"city\"] == \"New York city\"]"
   ]
  },
  {
   "cell_type": "code",
   "execution_count": null,
   "metadata": {},
   "outputs": [],
   "source": [
    "locations.loc[119357]"
   ]
  },
  {
   "cell_type": "code",
   "execution_count": null,
   "metadata": {},
   "outputs": [],
   "source": [
    "postal_codes_table[postal_codes_table[\"id\"] == 119358]"
   ]
  },
  {
   "cell_type": "code",
   "execution_count": null,
   "metadata": {},
   "outputs": [],
   "source": [
    "city_table[city_table[\"id\"] == 119358]"
   ]
  },
  {
   "cell_type": "code",
   "execution_count": null,
   "metadata": {},
   "outputs": [],
   "source": [
    "business_raw"
   ]
  },
  {
   "cell_type": "code",
   "execution_count": null,
   "metadata": {},
   "outputs": [],
   "source": [
    "business_table"
   ]
  },
  {
   "cell_type": "markdown",
   "metadata": {},
   "source": [
    "# Store results"
   ]
  },
  {
   "cell_type": "code",
   "execution_count": 347,
   "metadata": {},
   "outputs": [],
   "source": [
    "def store_table(table, file_name):\n",
    "    table.to_csv(\"generated/{}.csv\".format(file_name), index=False)\n",
    "store_table(state_table, \"state\")\n",
    "store_table(city_table, \"city\")\n",
    "store_table(postal_codes_table, \"postal_code\")\n",
    "store_table(business_table, \"business\")\n",
    "store_table(locations, \"business_locations\")\n",
    "store_table(categories, \"categorie\")\n",
    "store_table(business_categories, \"business_categorie\")\n",
    "store_table(noise_level, \"noise_level\")\n",
    "store_table(music_table, \"music\")\n",
    "store_table(music_business_relation_table, \"music_business_relation\")\n",
    "store_table(business_parking_table, \"business_parking\")\n",
    "store_table(parking_business_relation_table, \"parking_business_relation\")\n",
    "store_table(ambience_table, \"ambience\")\n",
    "store_table(ambience_business_relation_table, \"ambience_business_relation\")\n",
    "store_table(good_for_meal_table, \"good_for_meal\")\n",
    "store_table(good_for_meal_business_relation_table, \"good_for_meal_business_relation\")\n",
    "store_table(dietary_restrictions_table, \"dietary_restrictions\")\n",
    "store_table(dietary_restrictions_business_relation_table, \"dietary_restrictions_business_relation\")\n",
    "store_table(day_table, \"day\")\n",
    "store_table(schedule_table, \"schedule\")"
   ]
  },
  {
   "cell_type": "code",
   "execution_count": null,
   "metadata": {},
   "outputs": [],
   "source": []
  }
 ],
 "metadata": {
  "file_extension": ".py",
  "kernelspec": {
   "display_name": "Python 3.8.0 64-bit",
   "language": "python",
   "name": "python38064bitf8d63df2eb2b4b21a6db407d9e8351c7"
  },
  "language_info": {
   "codemirror_mode": {
    "name": "ipython",
    "version": 3
   },
   "file_extension": ".py",
   "mimetype": "text/x-python",
   "name": "python",
   "nbconvert_exporter": "python",
   "pygments_lexer": "ipython3",
   "version": "3.8.0-final"
  },
  "mimetype": "text/x-python",
  "name": "python",
  "npconvert_exporter": "python",
  "pygments_lexer": "ipython3",
  "version": 3
 },
 "nbformat": 4,
 "nbformat_minor": 2
}