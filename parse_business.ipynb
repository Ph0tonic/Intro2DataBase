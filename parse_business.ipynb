{
 "nbformat": 4,
 "nbformat_minor": 2,
 "metadata": {
  "language_info": {
   "name": "python",
   "codemirror_mode": {
    "name": "ipython",
    "version": 3
   },
   "version": "3.8.0-final"
  },
  "orig_nbformat": 2,
  "file_extension": ".py",
  "mimetype": "text/x-python",
  "name": "python",
  "npconvert_exporter": "python",
  "pygments_lexer": "ipython3",
  "version": 3,
  "kernelspec": {
   "name": "python38064bitf8d63df2eb2b4b21a6db407d9e8351c7",
   "display_name": "Python 3.8.0 64-bit"
  }
 },
 "cells": [
  {
   "cell_type": "code",
   "execution_count": 1,
   "metadata": {},
   "outputs": [],
   "source": [
    "import pandas as pd\n",
    "import psycopg2\n",
    "import json"
   ]
  },
  {
   "cell_type": "code",
   "execution_count": 2,
   "metadata": {},
   "outputs": [],
   "source": [
    "business_raw = pd.read_csv('csv_files/yelp_academic_dataset_business.csv')\n",
    "business_raw.index +=1"
   ]
  },
  {
   "cell_type": "code",
   "execution_count": 3,
   "metadata": {},
   "outputs": [
    {
     "output_type": "execute_result",
     "data": {
      "text/plain": "                        address  \\\n1   2818 E Camino Acequia Drive   \n2          30 Eglinton Avenue W   \n3  1210 8th Street SW, Unit 220   \n4   6955 N Durango Dr, Ste 1116   \n5             4 E University Dr   \n\n                                          attributes             business_id  \\\n1                                                 {}  1SWheh84yJXfytovILXOAQ   \n2  {'GoodForMeal': \"{'dessert': False, 'latenight...  QXAEGFB4oINsVuTFxEYKFQ   \n3  {'BusinessParking': \"{'garage': False, 'street...  fcXOEZdXYeZqnQ3lGlOXmg   \n4  {'BusinessParking': \"{'garage': False, 'street...  f2ZWZPENViL92BrFsIgR6w   \n5                                                 {}  6KgGE8B1RsR7jc9R5nuH0Q   \n\n                                          categories         city  \\\n1                                  Golf, Active Life      Phoenix   \n2  Specialty Food, Restaurants, Dim Sum, Imported...  Mississauga   \n3  Local Services, Professional Services, Compute...      Calgary   \n4                         Beauty & Spas, Hair Salons    Las Vegas   \n5                American (Traditional), Restaurants        Tempe   \n\n                                               hours  is_open   latitude  \\\n1                                                NaN        0  33.522143   \n2  {'Monday': '9:0-0:0', 'Tuesday': '9:0-0:0', 'W...        1  43.605499   \n3  {'Monday': '9:0-17:0', 'Tuesday': '9:0-17:0', ...        1  51.041771   \n4  {'Monday': '8:30-20:0', 'Tuesday': '8:30-20:0'...        1  36.287312   \n5                                                NaN        0  33.422192   \n\n    longitude                         name postal_code  review_count  stars  \\\n1 -112.018481   Arizona Biltmore Golf Club       85016             5    3.0   \n2  -79.652289   Emerald Chinese Restaurant     L5R 3E7           128    2.5   \n3 -114.081109  Nucleus Information Service     T2R 1L3             5    2.0   \n4 -115.289540                 Amazing Cuts       89149           116    4.5   \n5 -111.939615                 Ruby Tuesday       85281             9    2.5   \n\n  state  \n1    AZ  \n2    ON  \n3    AB  \n4    NV  \n5    AZ  ",
      "text/html": "<div>\n<style scoped>\n    .dataframe tbody tr th:only-of-type {\n        vertical-align: middle;\n    }\n\n    .dataframe tbody tr th {\n        vertical-align: top;\n    }\n\n    .dataframe thead th {\n        text-align: right;\n    }\n</style>\n<table border=\"1\" class=\"dataframe\">\n  <thead>\n    <tr style=\"text-align: right;\">\n      <th></th>\n      <th>address</th>\n      <th>attributes</th>\n      <th>business_id</th>\n      <th>categories</th>\n      <th>city</th>\n      <th>hours</th>\n      <th>is_open</th>\n      <th>latitude</th>\n      <th>longitude</th>\n      <th>name</th>\n      <th>postal_code</th>\n      <th>review_count</th>\n      <th>stars</th>\n      <th>state</th>\n    </tr>\n  </thead>\n  <tbody>\n    <tr>\n      <th>1</th>\n      <td>2818 E Camino Acequia Drive</td>\n      <td>{}</td>\n      <td>1SWheh84yJXfytovILXOAQ</td>\n      <td>Golf, Active Life</td>\n      <td>Phoenix</td>\n      <td>NaN</td>\n      <td>0</td>\n      <td>33.522143</td>\n      <td>-112.018481</td>\n      <td>Arizona Biltmore Golf Club</td>\n      <td>85016</td>\n      <td>5</td>\n      <td>3.0</td>\n      <td>AZ</td>\n    </tr>\n    <tr>\n      <th>2</th>\n      <td>30 Eglinton Avenue W</td>\n      <td>{'GoodForMeal': \"{'dessert': False, 'latenight...</td>\n      <td>QXAEGFB4oINsVuTFxEYKFQ</td>\n      <td>Specialty Food, Restaurants, Dim Sum, Imported...</td>\n      <td>Mississauga</td>\n      <td>{'Monday': '9:0-0:0', 'Tuesday': '9:0-0:0', 'W...</td>\n      <td>1</td>\n      <td>43.605499</td>\n      <td>-79.652289</td>\n      <td>Emerald Chinese Restaurant</td>\n      <td>L5R 3E7</td>\n      <td>128</td>\n      <td>2.5</td>\n      <td>ON</td>\n    </tr>\n    <tr>\n      <th>3</th>\n      <td>1210 8th Street SW, Unit 220</td>\n      <td>{'BusinessParking': \"{'garage': False, 'street...</td>\n      <td>fcXOEZdXYeZqnQ3lGlOXmg</td>\n      <td>Local Services, Professional Services, Compute...</td>\n      <td>Calgary</td>\n      <td>{'Monday': '9:0-17:0', 'Tuesday': '9:0-17:0', ...</td>\n      <td>1</td>\n      <td>51.041771</td>\n      <td>-114.081109</td>\n      <td>Nucleus Information Service</td>\n      <td>T2R 1L3</td>\n      <td>5</td>\n      <td>2.0</td>\n      <td>AB</td>\n    </tr>\n    <tr>\n      <th>4</th>\n      <td>6955 N Durango Dr, Ste 1116</td>\n      <td>{'BusinessParking': \"{'garage': False, 'street...</td>\n      <td>f2ZWZPENViL92BrFsIgR6w</td>\n      <td>Beauty &amp; Spas, Hair Salons</td>\n      <td>Las Vegas</td>\n      <td>{'Monday': '8:30-20:0', 'Tuesday': '8:30-20:0'...</td>\n      <td>1</td>\n      <td>36.287312</td>\n      <td>-115.289540</td>\n      <td>Amazing Cuts</td>\n      <td>89149</td>\n      <td>116</td>\n      <td>4.5</td>\n      <td>NV</td>\n    </tr>\n    <tr>\n      <th>5</th>\n      <td>4 E University Dr</td>\n      <td>{}</td>\n      <td>6KgGE8B1RsR7jc9R5nuH0Q</td>\n      <td>American (Traditional), Restaurants</td>\n      <td>Tempe</td>\n      <td>NaN</td>\n      <td>0</td>\n      <td>33.422192</td>\n      <td>-111.939615</td>\n      <td>Ruby Tuesday</td>\n      <td>85281</td>\n      <td>9</td>\n      <td>2.5</td>\n      <td>AZ</td>\n    </tr>\n  </tbody>\n</table>\n</div>"
     },
     "metadata": {},
     "execution_count": 3
    }
   ],
   "source": [
    "business_raw.head()"
   ]
  },
  {
   "cell_type": "code",
   "execution_count": 74,
   "metadata": {},
   "outputs": [
    {
     "output_type": "execute_result",
     "data": {
      "text/plain": "{'GoodForMeal': \"{'dessert': False, 'latenight': False, 'lunch': True, 'dinner': True, 'brunch': False, 'breakfast': False}\",\n 'BusinessParking': \"{'garage': False, 'street': False, 'validated': False, 'lot': True, 'valet': False}\",\n 'NoiseLevel': \"u'loud'\",\n 'Ambience': \"{'romantic': False, 'intimate': False, 'classy': False, 'hipster': False, 'divey': False, 'touristy': False, 'trendy': False, 'upscale': False, 'casual': True}\"}"
     },
     "metadata": {},
     "execution_count": 74
    }
   ],
   "source": [
    "eval(business_raw[\"attributes\"][2])"
   ]
  },
  {
   "cell_type": "markdown",
   "metadata": {},
   "source": [
    "# Parse businesses ids"
   ],
   "execution_count": null,
   "outputs": []
  },
  {
   "cell_type": "code",
   "execution_count": 4,
   "metadata": {
    "tags": [
     "outputPrepend"
    ]
   },
   "outputs": [
    {
     "output_type": "execute_result",
     "data": {
      "text/plain": "                        address  \\\n1   2818 E Camino Acequia Drive   \n2          30 Eglinton Avenue W   \n3  1210 8th Street SW, Unit 220   \n4   6955 N Durango Dr, Ste 1116   \n5             4 E University Dr   \n\n                                          attributes  \\\n1                                                 {}   \n2  {'GoodForMeal': \"{'dessert': False, 'latenight...   \n3  {'BusinessParking': \"{'garage': False, 'street...   \n4  {'BusinessParking': \"{'garage': False, 'street...   \n5                                                 {}   \n\n                                          categories         city  \\\n1                                  Golf, Active Life      Phoenix   \n2  Specialty Food, Restaurants, Dim Sum, Imported...  Mississauga   \n3  Local Services, Professional Services, Compute...      Calgary   \n4                         Beauty & Spas, Hair Salons    Las Vegas   \n5                American (Traditional), Restaurants        Tempe   \n\n                                               hours  is_open   latitude  \\\n1                                                NaN        0  33.522143   \n2  {'Monday': '9:0-0:0', 'Tuesday': '9:0-0:0', 'W...        1  43.605499   \n3  {'Monday': '9:0-17:0', 'Tuesday': '9:0-17:0', ...        1  51.041771   \n4  {'Monday': '8:30-20:0', 'Tuesday': '8:30-20:0'...        1  36.287312   \n5                                                NaN        0  33.422192   \n\n    longitude                         name postal_code  review_count  stars  \\\n1 -112.018481   Arizona Biltmore Golf Club       85016             5    3.0   \n2  -79.652289   Emerald Chinese Restaurant     L5R 3E7           128    2.5   \n3 -114.081109  Nucleus Information Service     T2R 1L3             5    2.0   \n4 -115.289540                 Amazing Cuts       89149           116    4.5   \n5 -111.939615                 Ruby Tuesday       85281             9    2.5   \n\n  state  \n1    AZ  \n2    ON  \n3    AB  \n4    NV  \n5    AZ  ",
      "text/html": "<div>\n<style scoped>\n    .dataframe tbody tr th:only-of-type {\n        vertical-align: middle;\n    }\n\n    .dataframe tbody tr th {\n        vertical-align: top;\n    }\n\n    .dataframe thead th {\n        text-align: right;\n    }\n</style>\n<table border=\"1\" class=\"dataframe\">\n  <thead>\n    <tr style=\"text-align: right;\">\n      <th></th>\n      <th>address</th>\n      <th>attributes</th>\n      <th>categories</th>\n      <th>city</th>\n      <th>hours</th>\n      <th>is_open</th>\n      <th>latitude</th>\n      <th>longitude</th>\n      <th>name</th>\n      <th>postal_code</th>\n      <th>review_count</th>\n      <th>stars</th>\n      <th>state</th>\n    </tr>\n  </thead>\n  <tbody>\n    <tr>\n      <th>1</th>\n      <td>2818 E Camino Acequia Drive</td>\n      <td>{}</td>\n      <td>Golf, Active Life</td>\n      <td>Phoenix</td>\n      <td>NaN</td>\n      <td>0</td>\n      <td>33.522143</td>\n      <td>-112.018481</td>\n      <td>Arizona Biltmore Golf Club</td>\n      <td>85016</td>\n      <td>5</td>\n      <td>3.0</td>\n      <td>AZ</td>\n    </tr>\n    <tr>\n      <th>2</th>\n      <td>30 Eglinton Avenue W</td>\n      <td>{'GoodForMeal': \"{'dessert': False, 'latenight...</td>\n      <td>Specialty Food, Restaurants, Dim Sum, Imported...</td>\n      <td>Mississauga</td>\n      <td>{'Monday': '9:0-0:0', 'Tuesday': '9:0-0:0', 'W...</td>\n      <td>1</td>\n      <td>43.605499</td>\n      <td>-79.652289</td>\n      <td>Emerald Chinese Restaurant</td>\n      <td>L5R 3E7</td>\n      <td>128</td>\n      <td>2.5</td>\n      <td>ON</td>\n    </tr>\n    <tr>\n      <th>3</th>\n      <td>1210 8th Street SW, Unit 220</td>\n      <td>{'BusinessParking': \"{'garage': False, 'street...</td>\n      <td>Local Services, Professional Services, Compute...</td>\n      <td>Calgary</td>\n      <td>{'Monday': '9:0-17:0', 'Tuesday': '9:0-17:0', ...</td>\n      <td>1</td>\n      <td>51.041771</td>\n      <td>-114.081109</td>\n      <td>Nucleus Information Service</td>\n      <td>T2R 1L3</td>\n      <td>5</td>\n      <td>2.0</td>\n      <td>AB</td>\n    </tr>\n    <tr>\n      <th>4</th>\n      <td>6955 N Durango Dr, Ste 1116</td>\n      <td>{'BusinessParking': \"{'garage': False, 'street...</td>\n      <td>Beauty &amp; Spas, Hair Salons</td>\n      <td>Las Vegas</td>\n      <td>{'Monday': '8:30-20:0', 'Tuesday': '8:30-20:0'...</td>\n      <td>1</td>\n      <td>36.287312</td>\n      <td>-115.289540</td>\n      <td>Amazing Cuts</td>\n      <td>89149</td>\n      <td>116</td>\n      <td>4.5</td>\n      <td>NV</td>\n    </tr>\n    <tr>\n      <th>5</th>\n      <td>4 E University Dr</td>\n      <td>{}</td>\n      <td>American (Traditional), Restaurants</td>\n      <td>Tempe</td>\n      <td>NaN</td>\n      <td>0</td>\n      <td>33.422192</td>\n      <td>-111.939615</td>\n      <td>Ruby Tuesday</td>\n      <td>85281</td>\n      <td>9</td>\n      <td>2.5</td>\n      <td>AZ</td>\n    </tr>\n  </tbody>\n</table>\n</div>"
     },
     "metadata": {},
     "execution_count": 4
    }
   ],
   "source": [
    "business_ids = business_raw[\"business_id\"].reset_index().set_index(\"business_id\")[\"index\"].to_dict()\n",
    "del business_raw[\"business_id\"]\n",
    "business_raw.head()"
   ]
  },
  {
   "cell_type": "markdown",
   "metadata": {},
   "source": [
    "# Parse states"
   ],
   "execution_count": null,
   "outputs": []
  },
  {
   "cell_type": "code",
   "execution_count": 76,
   "metadata": {},
   "outputs": [
    {
     "output_type": "execute_result",
     "data": {
      "text/plain": "                        address  \\\n1   2818 E Camino Acequia Drive   \n2          30 Eglinton Avenue W   \n3  1210 8th Street SW, Unit 220   \n4   6955 N Durango Dr, Ste 1116   \n5             4 E University Dr   \n\n                                          attributes  \\\n1                                                 {}   \n2  {'GoodForMeal': \"{'dessert': False, 'latenight...   \n3  {'BusinessParking': \"{'garage': False, 'street...   \n4  {'BusinessParking': \"{'garage': False, 'street...   \n5                                                 {}   \n\n                                          categories         city  \\\n1                                  Golf, Active Life      Phoenix   \n2  Specialty Food, Restaurants, Dim Sum, Imported...  Mississauga   \n3  Local Services, Professional Services, Compute...      Calgary   \n4                         Beauty & Spas, Hair Salons    Las Vegas   \n5                American (Traditional), Restaurants        Tempe   \n\n                                               hours  is_open   latitude  \\\n1                                                NaN        0  33.522143   \n2  {'Monday': '9:0-0:0', 'Tuesday': '9:0-0:0', 'W...        1  43.605499   \n3  {'Monday': '9:0-17:0', 'Tuesday': '9:0-17:0', ...        1  51.041771   \n4  {'Monday': '8:30-20:0', 'Tuesday': '8:30-20:0'...        1  36.287312   \n5                                                NaN        0  33.422192   \n\n    longitude                         name postal_code  review_count  stars  \\\n1 -112.018481   Arizona Biltmore Golf Club       85016             5    3.0   \n2  -79.652289   Emerald Chinese Restaurant     L5R 3E7           128    2.5   \n3 -114.081109  Nucleus Information Service     T2R 1L3             5    2.0   \n4 -115.289540                 Amazing Cuts       89149           116    4.5   \n5 -111.939615                 Ruby Tuesday       85281             9    2.5   \n\n   state  \n1      1  \n2      2  \n3      3  \n4      4  \n5      1  ",
      "text/html": "<div>\n<style scoped>\n    .dataframe tbody tr th:only-of-type {\n        vertical-align: middle;\n    }\n\n    .dataframe tbody tr th {\n        vertical-align: top;\n    }\n\n    .dataframe thead th {\n        text-align: right;\n    }\n</style>\n<table border=\"1\" class=\"dataframe\">\n  <thead>\n    <tr style=\"text-align: right;\">\n      <th></th>\n      <th>address</th>\n      <th>attributes</th>\n      <th>categories</th>\n      <th>city</th>\n      <th>hours</th>\n      <th>is_open</th>\n      <th>latitude</th>\n      <th>longitude</th>\n      <th>name</th>\n      <th>postal_code</th>\n      <th>review_count</th>\n      <th>stars</th>\n      <th>state</th>\n    </tr>\n  </thead>\n  <tbody>\n    <tr>\n      <th>1</th>\n      <td>2818 E Camino Acequia Drive</td>\n      <td>{}</td>\n      <td>Golf, Active Life</td>\n      <td>Phoenix</td>\n      <td>NaN</td>\n      <td>0</td>\n      <td>33.522143</td>\n      <td>-112.018481</td>\n      <td>Arizona Biltmore Golf Club</td>\n      <td>85016</td>\n      <td>5</td>\n      <td>3.0</td>\n      <td>1</td>\n    </tr>\n    <tr>\n      <th>2</th>\n      <td>30 Eglinton Avenue W</td>\n      <td>{'GoodForMeal': \"{'dessert': False, 'latenight...</td>\n      <td>Specialty Food, Restaurants, Dim Sum, Imported...</td>\n      <td>Mississauga</td>\n      <td>{'Monday': '9:0-0:0', 'Tuesday': '9:0-0:0', 'W...</td>\n      <td>1</td>\n      <td>43.605499</td>\n      <td>-79.652289</td>\n      <td>Emerald Chinese Restaurant</td>\n      <td>L5R 3E7</td>\n      <td>128</td>\n      <td>2.5</td>\n      <td>2</td>\n    </tr>\n    <tr>\n      <th>3</th>\n      <td>1210 8th Street SW, Unit 220</td>\n      <td>{'BusinessParking': \"{'garage': False, 'street...</td>\n      <td>Local Services, Professional Services, Compute...</td>\n      <td>Calgary</td>\n      <td>{'Monday': '9:0-17:0', 'Tuesday': '9:0-17:0', ...</td>\n      <td>1</td>\n      <td>51.041771</td>\n      <td>-114.081109</td>\n      <td>Nucleus Information Service</td>\n      <td>T2R 1L3</td>\n      <td>5</td>\n      <td>2.0</td>\n      <td>3</td>\n    </tr>\n    <tr>\n      <th>4</th>\n      <td>6955 N Durango Dr, Ste 1116</td>\n      <td>{'BusinessParking': \"{'garage': False, 'street...</td>\n      <td>Beauty &amp; Spas, Hair Salons</td>\n      <td>Las Vegas</td>\n      <td>{'Monday': '8:30-20:0', 'Tuesday': '8:30-20:0'...</td>\n      <td>1</td>\n      <td>36.287312</td>\n      <td>-115.289540</td>\n      <td>Amazing Cuts</td>\n      <td>89149</td>\n      <td>116</td>\n      <td>4.5</td>\n      <td>4</td>\n    </tr>\n    <tr>\n      <th>5</th>\n      <td>4 E University Dr</td>\n      <td>{}</td>\n      <td>American (Traditional), Restaurants</td>\n      <td>Tempe</td>\n      <td>NaN</td>\n      <td>0</td>\n      <td>33.422192</td>\n      <td>-111.939615</td>\n      <td>Ruby Tuesday</td>\n      <td>85281</td>\n      <td>9</td>\n      <td>2.5</td>\n      <td>1</td>\n    </tr>\n  </tbody>\n</table>\n</div>"
     },
     "metadata": {},
     "execution_count": 76
    }
   ],
   "source": [
    "state_table = pd.Series(business_raw[\"state\"].unique(), name=\"state\")\n",
    "state_table.index += 1\n",
    "state_dict = state_table.reset_index().set_index(\"state\")[\"index\"].to_dict()\n",
    "business_raw[\"state\"] = business_raw[\"state\"].apply(lambda s: state_dict[s])\n",
    "business_raw.head()"
   ]
  },
  {
   "cell_type": "markdown",
   "metadata": {},
   "source": [
    "# Parse cities"
   ],
   "execution_count": null,
   "outputs": []
  },
  {
   "cell_type": "code",
   "execution_count": 77,
   "metadata": {},
   "outputs": [
    {
     "output_type": "execute_result",
     "data": {
      "text/plain": "                        address  \\\n1   2818 E Camino Acequia Drive   \n2          30 Eglinton Avenue W   \n3  1210 8th Street SW, Unit 220   \n4   6955 N Durango Dr, Ste 1116   \n5             4 E University Dr   \n\n                                          attributes  \\\n1                                                 {}   \n2  {'GoodForMeal': \"{'dessert': False, 'latenight...   \n3  {'BusinessParking': \"{'garage': False, 'street...   \n4  {'BusinessParking': \"{'garage': False, 'street...   \n5                                                 {}   \n\n                                          categories  city  \\\n1                                  Golf, Active Life     1   \n2  Specialty Food, Restaurants, Dim Sum, Imported...     2   \n3  Local Services, Professional Services, Compute...     3   \n4                         Beauty & Spas, Hair Salons     4   \n5                American (Traditional), Restaurants     5   \n\n                                               hours  is_open   latitude  \\\n1                                                NaN        0  33.522143   \n2  {'Monday': '9:0-0:0', 'Tuesday': '9:0-0:0', 'W...        1  43.605499   \n3  {'Monday': '9:0-17:0', 'Tuesday': '9:0-17:0', ...        1  51.041771   \n4  {'Monday': '8:30-20:0', 'Tuesday': '8:30-20:0'...        1  36.287312   \n5                                                NaN        0  33.422192   \n\n    longitude                         name postal_code  review_count  stars  \n1 -112.018481   Arizona Biltmore Golf Club       85016             5    3.0  \n2  -79.652289   Emerald Chinese Restaurant     L5R 3E7           128    2.5  \n3 -114.081109  Nucleus Information Service     T2R 1L3             5    2.0  \n4 -115.289540                 Amazing Cuts       89149           116    4.5  \n5 -111.939615                 Ruby Tuesday       85281             9    2.5  ",
      "text/html": "<div>\n<style scoped>\n    .dataframe tbody tr th:only-of-type {\n        vertical-align: middle;\n    }\n\n    .dataframe tbody tr th {\n        vertical-align: top;\n    }\n\n    .dataframe thead th {\n        text-align: right;\n    }\n</style>\n<table border=\"1\" class=\"dataframe\">\n  <thead>\n    <tr style=\"text-align: right;\">\n      <th></th>\n      <th>address</th>\n      <th>attributes</th>\n      <th>categories</th>\n      <th>city</th>\n      <th>hours</th>\n      <th>is_open</th>\n      <th>latitude</th>\n      <th>longitude</th>\n      <th>name</th>\n      <th>postal_code</th>\n      <th>review_count</th>\n      <th>stars</th>\n    </tr>\n  </thead>\n  <tbody>\n    <tr>\n      <th>1</th>\n      <td>2818 E Camino Acequia Drive</td>\n      <td>{}</td>\n      <td>Golf, Active Life</td>\n      <td>1</td>\n      <td>NaN</td>\n      <td>0</td>\n      <td>33.522143</td>\n      <td>-112.018481</td>\n      <td>Arizona Biltmore Golf Club</td>\n      <td>85016</td>\n      <td>5</td>\n      <td>3.0</td>\n    </tr>\n    <tr>\n      <th>2</th>\n      <td>30 Eglinton Avenue W</td>\n      <td>{'GoodForMeal': \"{'dessert': False, 'latenight...</td>\n      <td>Specialty Food, Restaurants, Dim Sum, Imported...</td>\n      <td>2</td>\n      <td>{'Monday': '9:0-0:0', 'Tuesday': '9:0-0:0', 'W...</td>\n      <td>1</td>\n      <td>43.605499</td>\n      <td>-79.652289</td>\n      <td>Emerald Chinese Restaurant</td>\n      <td>L5R 3E7</td>\n      <td>128</td>\n      <td>2.5</td>\n    </tr>\n    <tr>\n      <th>3</th>\n      <td>1210 8th Street SW, Unit 220</td>\n      <td>{'BusinessParking': \"{'garage': False, 'street...</td>\n      <td>Local Services, Professional Services, Compute...</td>\n      <td>3</td>\n      <td>{'Monday': '9:0-17:0', 'Tuesday': '9:0-17:0', ...</td>\n      <td>1</td>\n      <td>51.041771</td>\n      <td>-114.081109</td>\n      <td>Nucleus Information Service</td>\n      <td>T2R 1L3</td>\n      <td>5</td>\n      <td>2.0</td>\n    </tr>\n    <tr>\n      <th>4</th>\n      <td>6955 N Durango Dr, Ste 1116</td>\n      <td>{'BusinessParking': \"{'garage': False, 'street...</td>\n      <td>Beauty &amp; Spas, Hair Salons</td>\n      <td>4</td>\n      <td>{'Monday': '8:30-20:0', 'Tuesday': '8:30-20:0'...</td>\n      <td>1</td>\n      <td>36.287312</td>\n      <td>-115.289540</td>\n      <td>Amazing Cuts</td>\n      <td>89149</td>\n      <td>116</td>\n      <td>4.5</td>\n    </tr>\n    <tr>\n      <th>5</th>\n      <td>4 E University Dr</td>\n      <td>{}</td>\n      <td>American (Traditional), Restaurants</td>\n      <td>5</td>\n      <td>NaN</td>\n      <td>0</td>\n      <td>33.422192</td>\n      <td>-111.939615</td>\n      <td>Ruby Tuesday</td>\n      <td>85281</td>\n      <td>9</td>\n      <td>2.5</td>\n    </tr>\n  </tbody>\n</table>\n</div>"
     },
     "metadata": {},
     "execution_count": 77
    }
   ],
   "source": [
    "city_table = pd.Series(business_raw[\"city\"].unique(), name=\"city\")\n",
    "city_table.index += 1\n",
    "city_dict = city_table.reset_index().set_index(\"city\")[\"index\"].to_dict()\n",
    "city_state_table = business_raw[[\"state\", \"city\"]].apply(lambda row: (city_dict[row[\"city\"]], row[\"state\"]), axis=1).unique()\n",
    "del business_raw[\"state\"]\n",
    "business_raw[\"city\"] = business_raw[\"city\"].apply(lambda city: city_dict[city])\n",
    "business_raw.head()"
   ]
  },
  {
   "cell_type": "markdown",
   "metadata": {},
   "source": [
    "# Store in data base"
   ],
   "execution_count": null,
   "outputs": []
  },
  {
   "cell_type": "code",
   "execution_count": null,
   "metadata": {},
   "outputs": [],
   "source": [
    "con = psycopg2.connect(database=\"introdb\")\n",
    "print(\"Connection opened\")\n",
    "cur = con.cursor()\n",
    "\n",
    "# stores states\n",
    "for name, id in state_dict.items():\n",
    "    cur.execute(\"insert into state (id, name) values ({id}, '{name}')\".format(id=id, name=name))\n",
    "con.commit()\n",
    "\n",
    "cur.execute(\"select * from state\")\n",
    "print(cur.fetchall())\n",
    "\n",
    "con.close()\n",
    "print(\"Connection closed\")"
   ]
  },
  {
   "cell_type": "code",
   "execution_count": null,
   "metadata": {},
   "outputs": [],
   "source": [
    "con = psycopg2.connect(database=\"introdb\")\n",
    "print(\"Connection opened\")\n",
    "cur = con.cursor()\n",
    "\n",
    "cur.execute(\"select * from state\")\n",
    "print(cur.fetchall())\n",
    "\n",
    "con.close()\n",
    "print(\"Connection closed\")"
   ]
  },
  {
   "cell_type": "code",
   "execution_count": null,
   "metadata": {},
   "outputs": [],
   "source": []
  }
 ]
}