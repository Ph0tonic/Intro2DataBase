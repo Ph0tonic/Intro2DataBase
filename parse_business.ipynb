{
 "cells": [
  {
   "cell_type": "code",
   "execution_count": null,
   "metadata": {},
   "outputs": [],
   "source": [
    "import pandas as pd\n",
    "import psycopg2\n",
    "import json"
   ]
  },
  {
   "cell_type": "code",
   "execution_count": null,
   "metadata": {},
   "outputs": [],
   "source": [
    "business_raw = pd.read_csv('csv_files/yelp_academic_dataset_business.csv')\n",
    "business_raw.index +=1"
   ]
  },
  {
   "cell_type": "code",
   "execution_count": null,
   "metadata": {},
   "outputs": [],
   "source": [
    "business_raw.head()"
   ]
  },
  {
   "cell_type": "code",
   "execution_count": null,
   "metadata": {},
   "outputs": [],
   "source": [
    "business_raw[\"attributes\"][2]"
   ]
  },
  {
   "cell_type": "code",
   "execution_count": null,
   "metadata": {},
   "outputs": [],
   "source": [
    "eval(business_raw[\"attributes\"][2])"
   ]
  },
  {
   "cell_type": "markdown",
   "metadata": {},
   "source": [
    "# Parse businesses"
   ]
  },
  {
   "cell_type": "code",
   "execution_count": null,
   "metadata": {
    "tags": [
     "outputPrepend"
    ]
   },
   "outputs": [],
   "source": [
    "business_ids = business_raw[\"business_id\"].reset_index().set_index(\"business_id\")[\"index\"].to_dict()\n",
    "del business_raw[\"business_id\"]\n",
    "business_raw.head()"
   ]
  },
  {
   "cell_type": "markdown",
   "metadata": {},
   "source": [
    "# Parse states"
   ]
  },
  {
   "cell_type": "code",
   "execution_count": null,
   "metadata": {},
   "outputs": [],
   "source": [
    "state_table = pd.Series(business_raw[\"state\"].unique(), name=\"state\")\n",
    "state_table.index += 1\n",
    "state_dict = state_table.reset_index().set_index(\"state\")[\"index\"].to_dict()\n",
    "business_raw[\"state\"] = business_raw[\"state\"].apply(lambda s: state_dict[s])"
   ]
  },
  {
   "cell_type": "code",
   "execution_count": null,
   "metadata": {},
   "outputs": [],
   "source": [
    "business_raw.head()"
   ]
  },
  {
   "cell_type": "markdown",
   "metadata": {},
   "source": [
    "# Parse cities"
   ]
  },
  {
   "cell_type": "code",
   "execution_count": null,
   "metadata": {},
   "outputs": [],
   "source": [
    "city_table = pd.Series(business_raw[\"city\"].unique(), name=\"city\")\n",
    "city_table.index += 1\n",
    "city_dict = city_table.reset_index().set_index(\"city\")[\"index\"].to_dict()\n",
    "city_table.head()\n",
    "business_raw[[\"state\", \"city\"]].apply(lambda (s, c): (s, city_dict[c])).head()"
   ]
  },
  {
   "cell_type": "markdown",
   "metadata": {},
   "source": [
    "# Store in data base"
   ]
  },
  {
   "cell_type": "code",
   "execution_count": null,
   "metadata": {},
   "outputs": [],
   "source": [
    "con = psycopg2.connect(database=\"introdb\")\n",
    "print(\"Connection opened\")\n",
    "cur = con.cursor()\n",
    "\n",
    "# stores states\n",
    "for name, id in state_dict.items():\n",
    "    cur.execute(\"insert into state (id, name) values ({id}, '{name}')\".format(id=id, name=name))\n",
    "con.commit()\n",
    "\n",
    "cur.execute(\"select * from state\")\n",
    "print(cur.fetchall())\n",
    "\n",
    "con.close()\n",
    "print(\"Connection closed\")"
   ]
  },
  {
   "cell_type": "code",
   "execution_count": null,
   "metadata": {},
   "outputs": [],
   "source": [
    "con = psycopg2.connect(database=\"introdb\")\n",
    "print(\"Connection opened\")\n",
    "cur = con.cursor()\n",
    "\n",
    "cur.execute(\"select * from state\")\n",
    "print(cur.fetchall())\n",
    "\n",
    "con.close()\n",
    "print(\"Connection closed\")"
   ]
  },
  {
   "cell_type": "code",
   "execution_count": null,
   "metadata": {},
   "outputs": [],
   "source": []
  }
 ],
 "metadata": {
  "file_extension": ".py",
  "kernelspec": {
   "display_name": "Python 3",
   "language": "python",
   "name": "python3"
  },
  "language_info": {
   "codemirror_mode": {
    "name": "ipython",
    "version": 3
   },
   "file_extension": ".py",
   "mimetype": "text/x-python",
   "name": "python",
   "nbconvert_exporter": "python",
   "pygments_lexer": "ipython3",
   "version": "3.6.9"
  },
  "mimetype": "text/x-python",
  "name": "python",
  "npconvert_exporter": "python",
  "pygments_lexer": "ipython3",
  "version": 3
 },
 "nbformat": 4,
 "nbformat_minor": 2
}
