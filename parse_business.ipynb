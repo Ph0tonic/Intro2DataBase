{
 "cells": [
  {
   "cell_type": "code",
   "execution_count": null,
   "metadata": {},
   "outputs": [],
   "source": [
    "import pandas as pd\n",
    "import psycopg2\n",
    "import json"
   ]
  },
  {
   "cell_type": "code",
   "execution_count": null,
   "metadata": {},
   "outputs": [],
   "source": [
    "business_raw = pd.read_csv('csv_files/yelp_academic_dataset_business.csv')\n",
    "business_raw.index +=1"
   ]
  },
  {
   "cell_type": "code",
   "execution_count": null,
   "metadata": {},
   "outputs": [],
   "source": [
    "business_raw.head()"
   ]
  },
  {
   "cell_type": "code",
   "execution_count": null,
   "metadata": {},
   "outputs": [],
   "source": [
    "eval(business_raw[\"attributes\"][2])"
   ]
  },
  {
   "cell_type": "markdown",
   "metadata": {},
   "source": [
    "\n",
    "# Parse businesses ids"
   ]
  },
  {
   "cell_type": "code",
   "execution_count": null,
   "metadata": {
    "tags": [
     "outputPrepend"
    ]
   },
   "outputs": [],
   "source": [
    "business_ids = business_raw[\"business_id\"].reset_index().set_index(\"business_id\")[\"index\"].to_dict()\n",
    "del business_raw[\"business_id\"]\n",
    "business_table = business_raw.reset_index().rename(columns={'index':'id'})\n",
    "business_table.head()"
   ]
  },
  {
   "cell_type": "markdown",
   "metadata": {},
   "source": [
    "# Parse Locations"
   ]
  },
  {
   "cell_type": "code",
   "execution_count": null,
   "metadata": {},
   "outputs": [],
   "source": [
    "locations = business_table[[\"id\", \"address\", \"city\", \"latitude\", \"longitude\", \"postal_code\", \"state\"]]\n",
    "del business_table[\"id\"]\n",
    "del business_table[\"address\"]\n",
    "del business_table[\"city\"]\n",
    "del business_table[\"latitude\"]\n",
    "del business_table[\"longitude\"]\n",
    "del business_table[\"postal_code\"]\n",
    "del business_table[\"state\"]\n",
    "locations = locations.rename(columns={'id':'business_id'})\n",
    "locations.head()"
   ]
  },
  {
   "cell_type": "code",
   "execution_count": null,
   "metadata": {},
   "outputs": [],
   "source": [
    "locations.head()"
   ]
  },
  {
   "cell_type": "markdown",
   "metadata": {},
   "source": [
    "# Parse states"
   ]
  },
  {
   "cell_type": "code",
   "execution_count": null,
   "metadata": {},
   "outputs": [],
   "source": [
    "states = locations[\"state\"].unique()\n",
    "states.sort()\n",
    "states"
   ]
  },
  {
   "cell_type": "code",
   "execution_count": null,
   "metadata": {},
   "outputs": [],
   "source": [
    "state_table = pd.Series(states, name=\"state\")\n",
    "state_table.index += 1\n",
    "state_table = state_table.reset_index().rename(columns={\"index\":\"id\"})\n",
    "state_table.head()"
   ]
  },
  {
   "cell_type": "code",
   "execution_count": null,
   "metadata": {},
   "outputs": [],
   "source": [
    "state_dict = state_table.set_index(\"state\")[\"id\"].to_dict()\n",
    "locations[\"state\"] = locations[\"state\"].apply(lambda s: state_dict[s])\n",
    "locations = locations.rename(columns={'state':'state_id'})\n",
    "locations.head()"
   ]
  },
  {
   "cell_type": "markdown",
   "metadata": {},
   "source": [
    "# Parse cities"
   ]
  },
  {
   "cell_type": "code",
   "execution_count": null,
   "metadata": {},
   "outputs": [],
   "source": [
    "city_table = locations[[\"city\", \"state_id\"]].drop_duplicates()\n",
    "city_table.index += 1\n",
    "city_table = city_table.reset_index().rename(columns={\"index\":\"id\", \"city\":\"name\"})\n",
    "city_table.head()"
   ]
  },
  {
   "cell_type": "code",
   "execution_count": null,
   "metadata": {},
   "outputs": [],
   "source": [
    "city_dict = city_table.set_index([\"name\", \"state_id\"])[\"id\"].to_dict()"
   ]
  },
  {
   "cell_type": "code",
   "execution_count": null,
   "metadata": {},
   "outputs": [],
   "source": [
    "locations[\"city_id\"] = locations[[\"city\", \"state_id\"]].apply(lambda row: city_dict[(row[0], row[1])], axis=1, raw=True)\n",
    "del locations[\"state_id\"]\n",
    "del locations[\"city\"]\n",
    "locations.head()"
   ]
  },
  {
   "cell_type": "markdown",
   "metadata": {},
   "source": [
    "# Parse postal codes"
   ]
  },
  {
   "cell_type": "code",
   "execution_count": null,
   "metadata": {},
   "outputs": [],
   "source": [
    "postal_codes_table = locations[[\"city_id\", \"postal_code\"]].drop_duplicates()\n",
    "postal_codes_table.index += 1\n",
    "postal_codes_table = postal_codes_table.reset_index().rename(columns={\"index\":\"id\"})\n",
    "postal_codes_table.head()"
   ]
  },
  {
   "cell_type": "code",
   "execution_count": null,
   "metadata": {},
   "outputs": [],
   "source": [
    "postal_code_dict = postal_codes_table.set_index([\"postal_code\", \"city_id\"])[\"id\"].to_dict()"
   ]
  },
  {
   "cell_type": "code",
   "execution_count": null,
   "metadata": {},
   "outputs": [],
   "source": [
    "locations[\"postal_code_id\"] = locations[[\"postal_code\", \"city_id\"]].apply(lambda row: postal_code_dict[(row[0], row[1])], axis=1, raw=True)\n",
    "del locations[\"city_id\"]\n",
    "del locations[\"postal_code\"]\n",
    "locations.head()"
   ]
  },
  {
   "cell_type": "markdown",
   "metadata": {},
   "source": [
    "# Store in data base"
   ]
  },
  {
   "cell_type": "code",
   "execution_count": null,
   "metadata": {},
   "outputs": [],
   "source": [
    "con = psycopg2.connect(database=\"introdb\")\n",
    "print(\"Connection opened\")\n",
    "cur = con.cursor()\n",
    "\n",
    "# stores states\n",
    "for name, id in state_dict.items():\n",
    "    cur.execute(\"insert into state (id, name) values ({id}, '{name}')\".format(id=id, name=name))\n",
    "con.commit()\n",
    "\n",
    "cur.execute(\"select * from state\")\n",
    "print(cur.fetchall())\n",
    "\n",
    "con.close()\n",
    "print(\"Connection closed\")"
   ]
  },
  {
   "cell_type": "code",
   "execution_count": null,
   "metadata": {},
   "outputs": [],
   "source": [
    "con = psycopg2.connect(database=\"introdb\")\n",
    "print(\"Connection opened\")\n",
    "cur = con.cursor()\n",
    "\n",
    "cur.execute(\"select * from state\")\n",
    "print(cur.fetchall())\n",
    "\n",
    "con.close()\n",
    "print(\"Connection closed\")"
   ]
  },
  {
   "cell_type": "code",
   "execution_count": null,
   "metadata": {},
   "outputs": [],
   "source": []
  }
 ],
 "metadata": {
  "file_extension": ".py",
  "kernelspec": {
   "display_name": "Python 3",
   "language": "python",
   "name": "python3"
  },
  "language_info": {
   "codemirror_mode": {
    "name": "ipython",
    "version": 3
   },
   "file_extension": ".py",
   "mimetype": "text/x-python",
   "name": "python",
   "nbconvert_exporter": "python",
   "pygments_lexer": "ipython3",
   "version": "3.8.0-final"
  },
  "mimetype": "text/x-python",
  "name": "python",
  "npconvert_exporter": "python",
  "pygments_lexer": "ipython3",
  "version": 3
 },
 "nbformat": 4,
 "nbformat_minor": 2
}