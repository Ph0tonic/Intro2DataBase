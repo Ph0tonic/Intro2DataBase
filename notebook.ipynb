{
 "cells": [
  {
   "cell_type": "code",
   "execution_count": null,
   "metadata": {},
   "outputs": [],
   "source": [
    "import numpy as np\n",
    "import pandas as pd\n",
    "import ast\n",
    "#import psycopg2"
   ]
  },
  {
   "cell_type": "code",
   "execution_count": null,
   "metadata": {},
   "outputs": [],
   "source": [
    "from tqdm import tqdm\n",
    "tqdm.pandas()"
   ]
  },
  {
   "cell_type": "code",
   "execution_count": null,
   "metadata": {},
   "outputs": [],
   "source": [
    "!ls csv_files"
   ]
  },
  {
   "cell_type": "code",
   "execution_count": null,
   "metadata": {},
   "outputs": [],
   "source": [
    "generic = lambda x: ast.literal_eval(x)\n",
    "conv = {'friends': generic}"
   ]
  },
  {
   "cell_type": "code",
   "execution_count": 104,
   "metadata": {},
   "outputs": [],
   "source": [
    "business = pd.read_csv('csv_files/yelp_academic_dataset_business.csv')\n",
    "review = pd.read_csv('csv_files/yelp_academic_dataset_review.csv')\n",
    "tip = pd.read_csv('csv_files/yelp_academic_dataset_tip_transposed.csv')\n",
    "user = pd.read_csv('csv_files/yelp_academic_dataset_user.csv',converters=conv)"
   ]
  },
  {
   "cell_type": "code",
   "execution_count": 105,
   "metadata": {},
   "outputs": [],
   "source": [
    "business.index += 1\n",
    "review.index += 1\n",
    "tip.index += 1\n",
    "user.index += 1"
   ]
  },
  {
   "cell_type": "markdown",
   "metadata": {},
   "source": [
    "# Parse user"
   ]
  },
  {
   "cell_type": "code",
   "execution_count": 106,
   "metadata": {},
   "outputs": [],
   "source": [
    "excluded_user = user[(user.name.isna())]"
   ]
  },
  {
   "cell_type": "code",
   "execution_count": 107,
   "metadata": {},
   "outputs": [
    {
     "data": {
      "text/html": [
       "<div>\n",
       "<style scoped>\n",
       "    .dataframe tbody tr th:only-of-type {\n",
       "        vertical-align: middle;\n",
       "    }\n",
       "\n",
       "    .dataframe tbody tr th {\n",
       "        vertical-align: top;\n",
       "    }\n",
       "\n",
       "    .dataframe thead th {\n",
       "        text-align: right;\n",
       "    }\n",
       "</style>\n",
       "<table border=\"1\" class=\"dataframe\">\n",
       "  <thead>\n",
       "    <tr style=\"text-align: right;\">\n",
       "      <th></th>\n",
       "      <th>average_stars</th>\n",
       "      <th>compliment_cool</th>\n",
       "      <th>compliment_cute</th>\n",
       "      <th>compliment_funny</th>\n",
       "      <th>compliment_hot</th>\n",
       "      <th>compliment_list</th>\n",
       "      <th>compliment_more</th>\n",
       "      <th>compliment_note</th>\n",
       "      <th>compliment_photos</th>\n",
       "      <th>compliment_plain</th>\n",
       "      <th>...</th>\n",
       "      <th>cool</th>\n",
       "      <th>elite</th>\n",
       "      <th>fans</th>\n",
       "      <th>friends</th>\n",
       "      <th>funny</th>\n",
       "      <th>name</th>\n",
       "      <th>review_count</th>\n",
       "      <th>useful</th>\n",
       "      <th>user_id</th>\n",
       "      <th>yelping_since</th>\n",
       "    </tr>\n",
       "  </thead>\n",
       "  <tbody>\n",
       "    <tr>\n",
       "      <th>452523</th>\n",
       "      <td>5.0</td>\n",
       "      <td>0</td>\n",
       "      <td>0</td>\n",
       "      <td>0</td>\n",
       "      <td>0</td>\n",
       "      <td>0</td>\n",
       "      <td>0</td>\n",
       "      <td>0</td>\n",
       "      <td>0</td>\n",
       "      <td>0</td>\n",
       "      <td>...</td>\n",
       "      <td>0</td>\n",
       "      <td>NaN</td>\n",
       "      <td>2</td>\n",
       "      <td>[LrPLygQg5b5xZ8BwApOE8Q]</td>\n",
       "      <td>0</td>\n",
       "      <td>NaN</td>\n",
       "      <td>1</td>\n",
       "      <td>0</td>\n",
       "      <td>i0fRIsfCefhN_XdpgD9k4A</td>\n",
       "      <td>2016-05-20 21:24:18</td>\n",
       "    </tr>\n",
       "  </tbody>\n",
       "</table>\n",
       "<p>1 rows × 22 columns</p>\n",
       "</div>"
      ],
      "text/plain": [
       "        average_stars  compliment_cool  compliment_cute  compliment_funny  \\\n",
       "452523            5.0                0                0                 0   \n",
       "\n",
       "        compliment_hot  compliment_list  compliment_more  compliment_note  \\\n",
       "452523               0                0                0                0   \n",
       "\n",
       "        compliment_photos  compliment_plain  ...  cool  elite  fans  \\\n",
       "452523                  0                 0  ...     0    NaN     2   \n",
       "\n",
       "                         friends  funny name  review_count useful  \\\n",
       "452523  [LrPLygQg5b5xZ8BwApOE8Q]      0  NaN             1      0   \n",
       "\n",
       "                       user_id        yelping_since  \n",
       "452523  i0fRIsfCefhN_XdpgD9k4A  2016-05-20 21:24:18  \n",
       "\n",
       "[1 rows x 22 columns]"
      ]
     },
     "execution_count": 107,
     "metadata": {},
     "output_type": "execute_result"
    }
   ],
   "source": [
    "excluded_user"
   ]
  },
  {
   "cell_type": "code",
   "execution_count": 108,
   "metadata": {},
   "outputs": [],
   "source": [
    "included_user = user[~(user.name.isna())]"
   ]
  },
  {
   "cell_type": "code",
   "execution_count": 109,
   "metadata": {},
   "outputs": [
    {
     "data": {
      "text/html": [
       "<div>\n",
       "<style scoped>\n",
       "    .dataframe tbody tr th:only-of-type {\n",
       "        vertical-align: middle;\n",
       "    }\n",
       "\n",
       "    .dataframe tbody tr th {\n",
       "        vertical-align: top;\n",
       "    }\n",
       "\n",
       "    .dataframe thead th {\n",
       "        text-align: right;\n",
       "    }\n",
       "</style>\n",
       "<table border=\"1\" class=\"dataframe\">\n",
       "  <thead>\n",
       "    <tr style=\"text-align: right;\">\n",
       "      <th></th>\n",
       "      <th>average_stars</th>\n",
       "      <th>compliment_cool</th>\n",
       "      <th>compliment_cute</th>\n",
       "      <th>compliment_funny</th>\n",
       "      <th>compliment_hot</th>\n",
       "      <th>compliment_list</th>\n",
       "      <th>compliment_more</th>\n",
       "      <th>compliment_note</th>\n",
       "      <th>compliment_photos</th>\n",
       "      <th>compliment_plain</th>\n",
       "      <th>...</th>\n",
       "      <th>cool</th>\n",
       "      <th>elite</th>\n",
       "      <th>fans</th>\n",
       "      <th>friends</th>\n",
       "      <th>funny</th>\n",
       "      <th>name</th>\n",
       "      <th>review_count</th>\n",
       "      <th>useful</th>\n",
       "      <th>user_id</th>\n",
       "      <th>yelping_since</th>\n",
       "    </tr>\n",
       "  </thead>\n",
       "  <tbody>\n",
       "    <tr>\n",
       "      <th>1</th>\n",
       "      <td>4.03</td>\n",
       "      <td>1</td>\n",
       "      <td>0</td>\n",
       "      <td>1</td>\n",
       "      <td>2</td>\n",
       "      <td>0</td>\n",
       "      <td>0</td>\n",
       "      <td>1</td>\n",
       "      <td>0</td>\n",
       "      <td>1</td>\n",
       "      <td>...</td>\n",
       "      <td>25</td>\n",
       "      <td>2015,2016,2017</td>\n",
       "      <td>5</td>\n",
       "      <td>[wSByVbwME4MzgkJaFyfvNg, cpQmAgOWatghp14h1pn1d...</td>\n",
       "      <td>17</td>\n",
       "      <td>Rashmi</td>\n",
       "      <td>95</td>\n",
       "      <td>84</td>\n",
       "      <td>l6BmjZMeQD3rDxWUbiAiow</td>\n",
       "      <td>2013-10-08 23:11:33</td>\n",
       "    </tr>\n",
       "    <tr>\n",
       "      <th>2</th>\n",
       "      <td>3.63</td>\n",
       "      <td>1</td>\n",
       "      <td>0</td>\n",
       "      <td>1</td>\n",
       "      <td>1</td>\n",
       "      <td>0</td>\n",
       "      <td>0</td>\n",
       "      <td>0</td>\n",
       "      <td>0</td>\n",
       "      <td>0</td>\n",
       "      <td>...</td>\n",
       "      <td>16</td>\n",
       "      <td>NaN</td>\n",
       "      <td>4</td>\n",
       "      <td>[xh9VekYUo5CgVBxySQ70Tw, L3Z-WvSvYXvTf-lzSTnxf...</td>\n",
       "      <td>22</td>\n",
       "      <td>Jenna</td>\n",
       "      <td>33</td>\n",
       "      <td>48</td>\n",
       "      <td>4XChL029mKr5hydo79Ljxg</td>\n",
       "      <td>2013-02-21 22:29:06</td>\n",
       "    </tr>\n",
       "    <tr>\n",
       "      <th>3</th>\n",
       "      <td>3.71</td>\n",
       "      <td>0</td>\n",
       "      <td>0</td>\n",
       "      <td>0</td>\n",
       "      <td>0</td>\n",
       "      <td>0</td>\n",
       "      <td>0</td>\n",
       "      <td>1</td>\n",
       "      <td>0</td>\n",
       "      <td>0</td>\n",
       "      <td>...</td>\n",
       "      <td>10</td>\n",
       "      <td>NaN</td>\n",
       "      <td>0</td>\n",
       "      <td>[1IQ_d1RuMj8iIpcF2CDohA, lwhksSpgIyeYZor_HlN93...</td>\n",
       "      <td>8</td>\n",
       "      <td>David</td>\n",
       "      <td>16</td>\n",
       "      <td>28</td>\n",
       "      <td>bc8C_eETBWL0olvFSJJd0w</td>\n",
       "      <td>2013-10-04 00:16:10</td>\n",
       "    </tr>\n",
       "    <tr>\n",
       "      <th>4</th>\n",
       "      <td>4.85</td>\n",
       "      <td>0</td>\n",
       "      <td>0</td>\n",
       "      <td>0</td>\n",
       "      <td>1</td>\n",
       "      <td>0</td>\n",
       "      <td>0</td>\n",
       "      <td>0</td>\n",
       "      <td>0</td>\n",
       "      <td>2</td>\n",
       "      <td>...</td>\n",
       "      <td>14</td>\n",
       "      <td>NaN</td>\n",
       "      <td>5</td>\n",
       "      <td>[mXWEAK4ns5hdsD0b5EW_TQ, _5kP7S0sLG2YNCJ9kMZ1i...</td>\n",
       "      <td>4</td>\n",
       "      <td>Angela</td>\n",
       "      <td>17</td>\n",
       "      <td>30</td>\n",
       "      <td>dD0gZpBctWGdWo9WlGuhlA</td>\n",
       "      <td>2014-05-22 15:57:30</td>\n",
       "    </tr>\n",
       "    <tr>\n",
       "      <th>5</th>\n",
       "      <td>4.08</td>\n",
       "      <td>80</td>\n",
       "      <td>0</td>\n",
       "      <td>80</td>\n",
       "      <td>28</td>\n",
       "      <td>1</td>\n",
       "      <td>1</td>\n",
       "      <td>16</td>\n",
       "      <td>5</td>\n",
       "      <td>57</td>\n",
       "      <td>...</td>\n",
       "      <td>665</td>\n",
       "      <td>2015,2016,2017,2018</td>\n",
       "      <td>39</td>\n",
       "      <td>[Kw4ZuLGWYHlocofX_HFL-g, yuEzhI3PX4CHfCnJslHoD...</td>\n",
       "      <td>279</td>\n",
       "      <td>Nancy</td>\n",
       "      <td>361</td>\n",
       "      <td>1114</td>\n",
       "      <td>MM4RJAeH6yuaN8oZDSt0RA</td>\n",
       "      <td>2013-10-23 07:02:50</td>\n",
       "    </tr>\n",
       "  </tbody>\n",
       "</table>\n",
       "<p>5 rows × 22 columns</p>\n",
       "</div>"
      ],
      "text/plain": [
       "   average_stars  compliment_cool  compliment_cute  compliment_funny  \\\n",
       "1           4.03                1                0                 1   \n",
       "2           3.63                1                0                 1   \n",
       "3           3.71                0                0                 0   \n",
       "4           4.85                0                0                 0   \n",
       "5           4.08               80                0                80   \n",
       "\n",
       "   compliment_hot  compliment_list  compliment_more  compliment_note  \\\n",
       "1               2                0                0                1   \n",
       "2               1                0                0                0   \n",
       "3               0                0                0                1   \n",
       "4               1                0                0                0   \n",
       "5              28                1                1               16   \n",
       "\n",
       "   compliment_photos  compliment_plain  ...  cool                elite  fans  \\\n",
       "1                  0                 1  ...    25       2015,2016,2017     5   \n",
       "2                  0                 0  ...    16                  NaN     4   \n",
       "3                  0                 0  ...    10                  NaN     0   \n",
       "4                  0                 2  ...    14                  NaN     5   \n",
       "5                  5                57  ...   665  2015,2016,2017,2018    39   \n",
       "\n",
       "                                             friends  funny    name  \\\n",
       "1  [wSByVbwME4MzgkJaFyfvNg, cpQmAgOWatghp14h1pn1d...     17  Rashmi   \n",
       "2  [xh9VekYUo5CgVBxySQ70Tw, L3Z-WvSvYXvTf-lzSTnxf...     22   Jenna   \n",
       "3  [1IQ_d1RuMj8iIpcF2CDohA, lwhksSpgIyeYZor_HlN93...      8   David   \n",
       "4  [mXWEAK4ns5hdsD0b5EW_TQ, _5kP7S0sLG2YNCJ9kMZ1i...      4  Angela   \n",
       "5  [Kw4ZuLGWYHlocofX_HFL-g, yuEzhI3PX4CHfCnJslHoD...    279   Nancy   \n",
       "\n",
       "   review_count useful                 user_id        yelping_since  \n",
       "1            95     84  l6BmjZMeQD3rDxWUbiAiow  2013-10-08 23:11:33  \n",
       "2            33     48  4XChL029mKr5hydo79Ljxg  2013-02-21 22:29:06  \n",
       "3            16     28  bc8C_eETBWL0olvFSJJd0w  2013-10-04 00:16:10  \n",
       "4            17     30  dD0gZpBctWGdWo9WlGuhlA  2014-05-22 15:57:30  \n",
       "5           361   1114  MM4RJAeH6yuaN8oZDSt0RA  2013-10-23 07:02:50  \n",
       "\n",
       "[5 rows x 22 columns]"
      ]
     },
     "execution_count": 109,
     "metadata": {},
     "output_type": "execute_result"
    }
   ],
   "source": [
    "included_user.head()"
   ]
  },
  {
   "cell_type": "code",
   "execution_count": 110,
   "metadata": {
    "scrolled": true
   },
   "outputs": [],
   "source": [
    "user_ids = included_user['user_id'].reset_index().set_index('user_id')['index'].to_dict()"
   ]
  },
  {
   "cell_type": "code",
   "execution_count": 111,
   "metadata": {},
   "outputs": [
    {
     "name": "stderr",
     "output_type": "stream",
     "text": [
      "100%|██████████| 778650/778650 [00:31<00:00, 24525.84it/s]\n"
     ]
    }
   ],
   "source": [
    "friends = included_user['friends'].progress_map(lambda friends: list(filter(lambda x: not x is None, map(lambda x: user_ids.get(x,None),friends))))"
   ]
  },
  {
   "cell_type": "code",
   "execution_count": 112,
   "metadata": {},
   "outputs": [
    {
     "name": "stderr",
     "output_type": "stream",
     "text": [
      "100%|██████████| 778650/778650 [00:01<00:00, 568556.79it/s]\n"
     ]
    }
   ],
   "source": [
    "elite = included_user[included_user['elite'].progress_map(lambda x:type(x))==str]['elite'].map(lambda e:list(map(lambda x:int(x),e.split(\",\"))))"
   ]
  },
  {
   "cell_type": "code",
   "execution_count": 113,
   "metadata": {},
   "outputs": [],
   "source": [
    "del included_user[\"user_id\"]\n",
    "del included_user[\"friends\"]\n",
    "del included_user[\"elite\"]\n",
    "user_table = included_user.reset_index().rename(columns={'index':'id'})"
   ]
  },
  {
   "cell_type": "code",
   "execution_count": 114,
   "metadata": {},
   "outputs": [
    {
     "data": {
      "text/html": [
       "<div>\n",
       "<style scoped>\n",
       "    .dataframe tbody tr th:only-of-type {\n",
       "        vertical-align: middle;\n",
       "    }\n",
       "\n",
       "    .dataframe tbody tr th {\n",
       "        vertical-align: top;\n",
       "    }\n",
       "\n",
       "    .dataframe thead th {\n",
       "        text-align: right;\n",
       "    }\n",
       "</style>\n",
       "<table border=\"1\" class=\"dataframe\">\n",
       "  <thead>\n",
       "    <tr style=\"text-align: right;\">\n",
       "      <th></th>\n",
       "      <th>id</th>\n",
       "      <th>average_stars</th>\n",
       "      <th>compliment_cool</th>\n",
       "      <th>compliment_cute</th>\n",
       "      <th>compliment_funny</th>\n",
       "      <th>compliment_hot</th>\n",
       "      <th>compliment_list</th>\n",
       "      <th>compliment_more</th>\n",
       "      <th>compliment_note</th>\n",
       "      <th>compliment_photos</th>\n",
       "      <th>compliment_plain</th>\n",
       "      <th>compliment_profile</th>\n",
       "      <th>compliment_writer</th>\n",
       "      <th>cool</th>\n",
       "      <th>fans</th>\n",
       "      <th>funny</th>\n",
       "      <th>name</th>\n",
       "      <th>review_count</th>\n",
       "      <th>useful</th>\n",
       "      <th>yelping_since</th>\n",
       "    </tr>\n",
       "  </thead>\n",
       "  <tbody>\n",
       "    <tr>\n",
       "      <th>0</th>\n",
       "      <td>1</td>\n",
       "      <td>4.03</td>\n",
       "      <td>1</td>\n",
       "      <td>0</td>\n",
       "      <td>1</td>\n",
       "      <td>2</td>\n",
       "      <td>0</td>\n",
       "      <td>0</td>\n",
       "      <td>1</td>\n",
       "      <td>0</td>\n",
       "      <td>1</td>\n",
       "      <td>0</td>\n",
       "      <td>2</td>\n",
       "      <td>25</td>\n",
       "      <td>5</td>\n",
       "      <td>17</td>\n",
       "      <td>Rashmi</td>\n",
       "      <td>95</td>\n",
       "      <td>84</td>\n",
       "      <td>2013-10-08 23:11:33</td>\n",
       "    </tr>\n",
       "    <tr>\n",
       "      <th>1</th>\n",
       "      <td>2</td>\n",
       "      <td>3.63</td>\n",
       "      <td>1</td>\n",
       "      <td>0</td>\n",
       "      <td>1</td>\n",
       "      <td>1</td>\n",
       "      <td>0</td>\n",
       "      <td>0</td>\n",
       "      <td>0</td>\n",
       "      <td>0</td>\n",
       "      <td>0</td>\n",
       "      <td>0</td>\n",
       "      <td>0</td>\n",
       "      <td>16</td>\n",
       "      <td>4</td>\n",
       "      <td>22</td>\n",
       "      <td>Jenna</td>\n",
       "      <td>33</td>\n",
       "      <td>48</td>\n",
       "      <td>2013-02-21 22:29:06</td>\n",
       "    </tr>\n",
       "    <tr>\n",
       "      <th>2</th>\n",
       "      <td>3</td>\n",
       "      <td>3.71</td>\n",
       "      <td>0</td>\n",
       "      <td>0</td>\n",
       "      <td>0</td>\n",
       "      <td>0</td>\n",
       "      <td>0</td>\n",
       "      <td>0</td>\n",
       "      <td>1</td>\n",
       "      <td>0</td>\n",
       "      <td>0</td>\n",
       "      <td>0</td>\n",
       "      <td>0</td>\n",
       "      <td>10</td>\n",
       "      <td>0</td>\n",
       "      <td>8</td>\n",
       "      <td>David</td>\n",
       "      <td>16</td>\n",
       "      <td>28</td>\n",
       "      <td>2013-10-04 00:16:10</td>\n",
       "    </tr>\n",
       "    <tr>\n",
       "      <th>3</th>\n",
       "      <td>4</td>\n",
       "      <td>4.85</td>\n",
       "      <td>0</td>\n",
       "      <td>0</td>\n",
       "      <td>0</td>\n",
       "      <td>1</td>\n",
       "      <td>0</td>\n",
       "      <td>0</td>\n",
       "      <td>0</td>\n",
       "      <td>0</td>\n",
       "      <td>2</td>\n",
       "      <td>0</td>\n",
       "      <td>1</td>\n",
       "      <td>14</td>\n",
       "      <td>5</td>\n",
       "      <td>4</td>\n",
       "      <td>Angela</td>\n",
       "      <td>17</td>\n",
       "      <td>30</td>\n",
       "      <td>2014-05-22 15:57:30</td>\n",
       "    </tr>\n",
       "    <tr>\n",
       "      <th>4</th>\n",
       "      <td>5</td>\n",
       "      <td>4.08</td>\n",
       "      <td>80</td>\n",
       "      <td>0</td>\n",
       "      <td>80</td>\n",
       "      <td>28</td>\n",
       "      <td>1</td>\n",
       "      <td>1</td>\n",
       "      <td>16</td>\n",
       "      <td>5</td>\n",
       "      <td>57</td>\n",
       "      <td>0</td>\n",
       "      <td>25</td>\n",
       "      <td>665</td>\n",
       "      <td>39</td>\n",
       "      <td>279</td>\n",
       "      <td>Nancy</td>\n",
       "      <td>361</td>\n",
       "      <td>1114</td>\n",
       "      <td>2013-10-23 07:02:50</td>\n",
       "    </tr>\n",
       "  </tbody>\n",
       "</table>\n",
       "</div>"
      ],
      "text/plain": [
       "   id  average_stars  compliment_cool  compliment_cute  compliment_funny  \\\n",
       "0   1           4.03                1                0                 1   \n",
       "1   2           3.63                1                0                 1   \n",
       "2   3           3.71                0                0                 0   \n",
       "3   4           4.85                0                0                 0   \n",
       "4   5           4.08               80                0                80   \n",
       "\n",
       "   compliment_hot  compliment_list  compliment_more  compliment_note  \\\n",
       "0               2                0                0                1   \n",
       "1               1                0                0                0   \n",
       "2               0                0                0                1   \n",
       "3               1                0                0                0   \n",
       "4              28                1                1               16   \n",
       "\n",
       "   compliment_photos  compliment_plain  compliment_profile  compliment_writer  \\\n",
       "0                  0                 1                   0                  2   \n",
       "1                  0                 0                   0                  0   \n",
       "2                  0                 0                   0                  0   \n",
       "3                  0                 2                   0                  1   \n",
       "4                  5                57                   0                 25   \n",
       "\n",
       "   cool  fans  funny    name  review_count  useful        yelping_since  \n",
       "0    25     5     17  Rashmi            95      84  2013-10-08 23:11:33  \n",
       "1    16     4     22   Jenna            33      48  2013-02-21 22:29:06  \n",
       "2    10     0      8   David            16      28  2013-10-04 00:16:10  \n",
       "3    14     5      4  Angela            17      30  2014-05-22 15:57:30  \n",
       "4   665    39    279   Nancy           361    1114  2013-10-23 07:02:50  "
      ]
     },
     "execution_count": 114,
     "metadata": {},
     "output_type": "execute_result"
    }
   ],
   "source": [
    "user_table.head()"
   ]
  },
  {
   "cell_type": "code",
   "execution_count": 115,
   "metadata": {},
   "outputs": [],
   "source": [
    "user_table.to_csv('generated/user.csv', index=False)"
   ]
  },
  {
   "cell_type": "code",
   "execution_count": 116,
   "metadata": {},
   "outputs": [
    {
     "data": {
      "text/plain": [
       "'HMIHCfW-2E4av8vmqM_UUg'"
      ]
     },
     "execution_count": 116,
     "metadata": {},
     "output_type": "execute_result"
    }
   ],
   "source": [
    "list(user_ids.keys())[list(user_ids.values()).index(126)]"
   ]
  },
  {
   "cell_type": "code",
   "execution_count": 117,
   "metadata": {},
   "outputs": [],
   "source": [
    "user_temp2 = pd.read_csv('csv_files/yelp_academic_dataset_user.csv',converters=conv)"
   ]
  },
  {
   "cell_type": "code",
   "execution_count": 118,
   "metadata": {},
   "outputs": [
    {
     "data": {
      "text/plain": [
       "False"
      ]
     },
     "execution_count": 118,
     "metadata": {},
     "output_type": "execute_result"
    }
   ],
   "source": [
    "'HMIHCfW-2E4av8vmqM_UUg' in user_temp2[user_temp2.user_id == 'HMIHCfW-2E4av8vmqM_UUg'].friends.to_list()[0]"
   ]
  },
  {
   "cell_type": "code",
   "execution_count": 119,
   "metadata": {},
   "outputs": [
    {
     "data": {
      "text/plain": [
       "['1bAdV-Aw99tv8KgGQDcNSQ',\n",
       " 'S7lc0O_KRRpvair9B0SQzA',\n",
       " 'i-rLS0U2rBOsOgOKuYnw6Q',\n",
       " 'dJcftOunHy3nN7Qn8YxvvQ',\n",
       " 'xHsdrjXRy-wyiyaKlMhSRg',\n",
       " '68AX3cLv1GtSgb_jPioSSw',\n",
       " 'EIh_Z08Fn4uVM0td_vYnMQ',\n",
       " 'TwE-aWryPrO8rrxAN4UMgw',\n",
       " 'c4RENapN7ZZrTYGR94zNig',\n",
       " 'V2g29gxXgte6JhaP0trZng',\n",
       " 'Bv5qLS1R0UaP0DNm5uoIKw',\n",
       " '0chiFAZ37FB6iNe0V7328A',\n",
       " 'J7De4co8eRl5EWXsKbGltA',\n",
       " 'qTp9N_RgczzZvXSRqWENlQ',\n",
       " 'qyjk_GQ6y1LE4L6xd9SUsw',\n",
       " 'glgo60ooq48Ax-R8YOq-4g',\n",
       " 'jhvreOViehq5zA4p2dgSVg',\n",
       " 'vReK4u2_cvdn3ae63lIDwg',\n",
       " 'ens7LiIE4Cs4RjW5Mz65Mw',\n",
       " 'E8dRSoTQV8gdEX25aT3WUQ',\n",
       " 'jG7130OQWiftvHhtyabsog',\n",
       " 'sA7ekzYCrRYdF7Hxng3l0w',\n",
       " 'DySce4cJ6-tK1cnPCdo7Fw',\n",
       " 'mmWr2oeNtgGraYO80GYrpA',\n",
       " '7OtDbSRMRg8BCHbecahCNQ',\n",
       " 'dBJ3vMEGUjJNsGnTPr-m8Q',\n",
       " '2gn4aopN1v7UHm6S6YQzXg',\n",
       " 'ooHF-vRzlkyN9UEVMKocAQ',\n",
       " 'G_w30n14JNuoYF91gxGrhA',\n",
       " '6KMNbWi6McSzmRnWs9jj9A',\n",
       " 'peuxbSQwXed-81cSqL7Ykw',\n",
       " 'wq9XOkV5HQcrPR8iJu5jvA',\n",
       " 'nu684x_raq7fJfPibgs9Rw',\n",
       " 'g8cBlkPVONQMq-YY6tFDVg',\n",
       " 'PbyIVdIaV7RP31RLDhD5qA',\n",
       " 'AYt3gN41faVKqH7x7etinw',\n",
       " 'YQjEbZpRC6DZ-b9UwEj0yA',\n",
       " 'BrPQv_hx541xvHquJwD-vg',\n",
       " '_-8hl8y5ReDQE5aEEv3IYQ',\n",
       " 'jqqB8hWF8kIrv2-qWt23xg',\n",
       " 'ZMBIjbnvatw6Z6JNPlS99Q',\n",
       " 'SAUSacRGpcM0VA4JNCV-aQ',\n",
       " '7jVw98FlreU2l727Mg0TQQ',\n",
       " 'LkvEtWdqgNplO74IeZzUWQ',\n",
       " 'gvuvcjAVl1ElyXTgU80VRg',\n",
       " 'glYvMIz34SEc3-mkKSM6uA',\n",
       " 'e9Zjb9PK3frNwOiVYROZHQ',\n",
       " 'WxRkn739N4OBGuhS8eDNbw',\n",
       " 'kzDzdbPupHiglDzs9HD0vA',\n",
       " '2Kjg_lEofeeD5cHsAQWoOQ',\n",
       " 'Gf1IKu6JxRbDXkW0lI5-NQ',\n",
       " '2QoytFXkPA-aHTwjmu76Zg',\n",
       " 'eD7ydBq2b-uXGfrzyH7gVA',\n",
       " 'gJJlV9uHpKKG7qdL76luxA',\n",
       " 'QFiRMxKrZEt8puAv4vzPoQ',\n",
       " '9X4qNJHyAF30HqcPQfBXcQ',\n",
       " 'FfvoPmhWqgl9JyCYp56bTA',\n",
       " 'hCl934_6tRoPhChaKpm8Vg',\n",
       " 'pc-DyleoV8KL_e4sZkH8Tw',\n",
       " 'mV4lknblF-zOKSF8nlGqDA',\n",
       " 'Eaf1wEhHdrktJubECwTiSQ',\n",
       " 'PipGc4TdxurGizJ6CKmU7Q',\n",
       " 'RVO8q-Ws-c2ZyUzh3ZnCNg',\n",
       " 'hVZMF_Vnmmr9kb63H5A58w',\n",
       " 'Vt-1-KRpmU1yG4NvtwZE_w',\n",
       " 'b3A2LIiY8aesMRlWts-J4Q',\n",
       " '-oz38kvGQEI4dZKSxv9fLw',\n",
       " 't7ODU3iZkqmowcNcoX5RCA',\n",
       " 'JjXuiru1_ONzDkYVrHN0aw',\n",
       " '2HW3eBbM4A1oIaUBcmWCDA',\n",
       " '3eWy8BU9GbnH64pLQ5nWEw',\n",
       " 'osQ4bMibJLmMPAtovvEkJw',\n",
       " 'OULpC04Lhm9A6MznoXi6Pw',\n",
       " '2IwRV34dhqMtdFaP_iGH7A',\n",
       " 'Vot_trpawdPZoVbFmfAAZw',\n",
       " 'Q_FS_RLdZVU2XjhxV4WXDg',\n",
       " 'n-XBn3KPRJ9uqIeVivP01Q',\n",
       " 'dDvzWN0YKcrvCT0p-RoRoQ',\n",
       " '5mIUZOlHTFknT3bSq0PURw',\n",
       " 'kC_k1womuARp3gs4u_lrOw',\n",
       " 'UUqGHQFu2tQDGv5r3yJWPA',\n",
       " 'x2Ymhw5XcPEd2u2yqnRd8Q',\n",
       " 'jOU73K85NeMzBsqwJtfu0A',\n",
       " 'Q8zOUnrRqMzkC3H8MN-niA',\n",
       " 'UXfpb223nNx1exEIYpHYmg',\n",
       " 'wMzLdLEBvyEJelYQRjkvzQ',\n",
       " 'bpvPpYhx8d8PKJv7yuBLPA',\n",
       " '_Ppceev8uJ0Ci7qmJ5lL4A',\n",
       " 'vUf4l32tTvFHUBxQclgY6Q',\n",
       " 'kKTcYPz47sCDH1_ylnE4ZQ',\n",
       " '1rHC1_WUWk4wMY7GEZ12Ow',\n",
       " 'Ghq750HTEBnaPLL3J4oGow',\n",
       " 'wccqm2rWxtdKvJNq8vH-Rg',\n",
       " 'm9yeMaNJf5RoLaHbqWzZmg',\n",
       " 'GYzUlry61MdFSdwyMKIgSw',\n",
       " 'o8D39EuVGvEfKpo_sAU-dA',\n",
       " 'YxyJGC5Q9zt2Ada1wavkRg',\n",
       " '-SytLsLnRwmxy7vfnDzYIw',\n",
       " 'FGmWx0hFD-h3YuTEql1x2Q',\n",
       " '40FzojtxCAYxE9pSFQhHYg',\n",
       " 'mUnp1m8PLzdL3_B5AnNg0g',\n",
       " 'MmiUqb_JWr4gVpabkgxoAA',\n",
       " 'DrXvGaen5TAdUKWKSlOmZg',\n",
       " 'DiKHjE69RiGneNqmgEtDzA',\n",
       " 'RENDi6PaDTaVzJFMxb1IQw',\n",
       " 'P4tcvTCM5AWyz0BYX81oqQ',\n",
       " 'wuTR5SSDakfOQVU1VTANbA',\n",
       " 'cnnIe3mbtGqgVIsRMbLgTQ',\n",
       " 'KNK-JvuvvhG0CT9w6B6QTw',\n",
       " 'NNGGFg1Q6Ig0vIAYGxJxoA',\n",
       " '_9Q37qk1hcO7LMC9Zl0oAA',\n",
       " 'M4zD4wvkOyh35Zv8mdvzpA',\n",
       " '4X84e3fJm09KzzFdq_Ouaw',\n",
       " 'fagSnMharWUgg1T__99mOA',\n",
       " 'MjGDxZvVon0t6yVHjm-NrA',\n",
       " '8MtFXJ-dfes3YDzReacxBg',\n",
       " 'Q9Y-AY1ePjCgvlDkrnoWgw',\n",
       " 'm-IZMSO_Y-tG9PLJE18Plg',\n",
       " '_9w_8JCIWqZWZjoC2SXYNg',\n",
       " '5Qdgn9b4KZI7gKX1gLIMeA',\n",
       " 'VCmfjCvwlB7uR_e_RiMMXQ',\n",
       " 'eXno8ExEyqA0k0V_enxFEA',\n",
       " 'OlJ9vcVFB1iEKcZO-MS3cQ',\n",
       " 'wRq5ZTtytlyRRr0jAllklA',\n",
       " 'SK24hm5CBQQRjvTz7JPZPA',\n",
       " 'JtQAVVqRZ5-7rAEx0imJJg']"
      ]
     },
     "execution_count": 119,
     "metadata": {},
     "output_type": "execute_result"
    }
   ],
   "source": [
    "user_temp2[user_temp2.user_id == 'HMIHCfW-2E4av8vmqM_UUg'].friends.to_list()[0]"
   ]
  },
  {
   "cell_type": "markdown",
   "metadata": {},
   "source": [
    "## Parse friends"
   ]
  },
  {
   "cell_type": "code",
   "execution_count": 120,
   "metadata": {},
   "outputs": [
    {
     "data": {
      "text/plain": [
       "4919"
      ]
     },
     "execution_count": 120,
     "metadata": {},
     "output_type": "execute_result"
    }
   ],
   "source": [
    "friends_temp=friends.reset_index().rename(columns={'index':'id'})\n",
    "\n",
    "validate_query = friends_temp\n",
    "validate_query[\"friends\"]=validate_query[\"friends\"].map(lambda l : len(l))\n",
    "validate_query[\"friends\"].max()"
   ]
  },
  {
   "cell_type": "code",
   "execution_count": 121,
   "metadata": {},
   "outputs": [
    {
     "name": "stderr",
     "output_type": "stream",
     "text": [
      "100%|██████████| 100000/100000 [09:19<00:00, 178.68it/s]\n"
     ]
    }
   ],
   "source": [
    "chunks = np.array_split(friends_temp, 100000)\n",
    "\n",
    "processed = []\n",
    "for chunk in tqdm(chunks):\n",
    "    processed.append(chunk['friends']\n",
    "        .apply(lambda x: pd.Series(x))\n",
    "        .stack()\n",
    "        .reset_index(level=1, drop=True)\n",
    "        .to_frame('friends')\n",
    "        .join(chunk[['id']], how='left')\n",
    "    )\n",
    "\n",
    "friends_table = pd.concat(processed)"
   ]
  },
  {
   "cell_type": "code",
   "execution_count": 122,
   "metadata": {},
   "outputs": [],
   "source": [
    "friends_table[\"friends\"] = friends_table[\"friends\"].astype(int)\n",
    "friends_table=friends_table.rename(columns={'id':'user_id_1'})\n",
    "friends_table=friends_table.rename(columns={'friends':'user_id_2'})"
   ]
  },
  {
   "cell_type": "code",
   "execution_count": 123,
   "metadata": {},
   "outputs": [],
   "source": [
    "friends_table['user_id_1'], friends_table['user_id_2'] = friends_table.min(axis=1), friends_table.max(axis=1)\n",
    "friends_table.drop_duplicates(inplace=True)"
   ]
  },
  {
   "cell_type": "code",
   "execution_count": 124,
   "metadata": {},
   "outputs": [
    {
     "data": {
      "text/html": [
       "<div>\n",
       "<style scoped>\n",
       "    .dataframe tbody tr th:only-of-type {\n",
       "        vertical-align: middle;\n",
       "    }\n",
       "\n",
       "    .dataframe tbody tr th {\n",
       "        vertical-align: top;\n",
       "    }\n",
       "\n",
       "    .dataframe thead th {\n",
       "        text-align: right;\n",
       "    }\n",
       "</style>\n",
       "<table border=\"1\" class=\"dataframe\">\n",
       "  <thead>\n",
       "    <tr style=\"text-align: right;\">\n",
       "      <th></th>\n",
       "      <th>user_id_2</th>\n",
       "      <th>user_id_1</th>\n",
       "    </tr>\n",
       "  </thead>\n",
       "  <tbody>\n",
       "    <tr>\n",
       "      <th>0</th>\n",
       "      <td>13</td>\n",
       "      <td>1</td>\n",
       "    </tr>\n",
       "    <tr>\n",
       "      <th>1</th>\n",
       "      <td>307</td>\n",
       "      <td>2</td>\n",
       "    </tr>\n",
       "    <tr>\n",
       "      <th>2</th>\n",
       "      <td>11</td>\n",
       "      <td>3</td>\n",
       "    </tr>\n",
       "    <tr>\n",
       "      <th>3</th>\n",
       "      <td>25</td>\n",
       "      <td>4</td>\n",
       "    </tr>\n",
       "    <tr>\n",
       "      <th>4</th>\n",
       "      <td>131</td>\n",
       "      <td>5</td>\n",
       "    </tr>\n",
       "  </tbody>\n",
       "</table>\n",
       "</div>"
      ],
      "text/plain": [
       "   user_id_2  user_id_1\n",
       "0         13          1\n",
       "1        307          2\n",
       "2         11          3\n",
       "3         25          4\n",
       "4        131          5"
      ]
     },
     "execution_count": 124,
     "metadata": {},
     "output_type": "execute_result"
    }
   ],
   "source": [
    "friends_table.head()"
   ]
  },
  {
   "cell_type": "code",
   "execution_count": 125,
   "metadata": {},
   "outputs": [],
   "source": [
    "friends_table.to_csv('generated/are_friends.csv', index=False)"
   ]
  },
  {
   "cell_type": "markdown",
   "metadata": {},
   "source": [
    "## Parse Elite years"
   ]
  },
  {
   "cell_type": "code",
   "execution_count": 56,
   "metadata": {},
   "outputs": [],
   "source": [
    "elite_temp=elite.reset_index().rename(columns={'index':'user_id'})"
   ]
  },
  {
   "cell_type": "code",
   "execution_count": 57,
   "metadata": {},
   "outputs": [
    {
     "data": {
      "text/html": [
       "<div>\n",
       "<style scoped>\n",
       "    .dataframe tbody tr th:only-of-type {\n",
       "        vertical-align: middle;\n",
       "    }\n",
       "\n",
       "    .dataframe tbody tr th {\n",
       "        vertical-align: top;\n",
       "    }\n",
       "\n",
       "    .dataframe thead th {\n",
       "        text-align: right;\n",
       "    }\n",
       "</style>\n",
       "<table border=\"1\" class=\"dataframe\">\n",
       "  <thead>\n",
       "    <tr style=\"text-align: right;\">\n",
       "      <th></th>\n",
       "      <th>user_id</th>\n",
       "      <th>elite</th>\n",
       "    </tr>\n",
       "  </thead>\n",
       "  <tbody>\n",
       "    <tr>\n",
       "      <th>0</th>\n",
       "      <td>1</td>\n",
       "      <td>[2015, 2016, 2017]</td>\n",
       "    </tr>\n",
       "    <tr>\n",
       "      <th>1</th>\n",
       "      <td>5</td>\n",
       "      <td>[2015, 2016, 2017, 2018]</td>\n",
       "    </tr>\n",
       "    <tr>\n",
       "      <th>2</th>\n",
       "      <td>6</td>\n",
       "      <td>[2015, 2016, 2017, 2018]</td>\n",
       "    </tr>\n",
       "    <tr>\n",
       "      <th>3</th>\n",
       "      <td>7</td>\n",
       "      <td>[2006, 2007, 2008, 2009, 2010, 2011, 2012, 2013]</td>\n",
       "    </tr>\n",
       "    <tr>\n",
       "      <th>4</th>\n",
       "      <td>9</td>\n",
       "      <td>[2006, 2007, 2008, 2009, 2010, 2011, 2012]</td>\n",
       "    </tr>\n",
       "  </tbody>\n",
       "</table>\n",
       "</div>"
      ],
      "text/plain": [
       "   user_id                                             elite\n",
       "0        1                                [2015, 2016, 2017]\n",
       "1        5                          [2015, 2016, 2017, 2018]\n",
       "2        6                          [2015, 2016, 2017, 2018]\n",
       "3        7  [2006, 2007, 2008, 2009, 2010, 2011, 2012, 2013]\n",
       "4        9        [2006, 2007, 2008, 2009, 2010, 2011, 2012]"
      ]
     },
     "execution_count": 57,
     "metadata": {},
     "output_type": "execute_result"
    }
   ],
   "source": [
    "elite_temp.head()"
   ]
  },
  {
   "cell_type": "code",
   "execution_count": 58,
   "metadata": {},
   "outputs": [
    {
     "name": "stderr",
     "output_type": "stream",
     "text": [
      "100%|██████████| 70559/70559 [00:23<00:00, 2958.33it/s]\n"
     ]
    }
   ],
   "source": [
    "elite_table=(elite_temp['elite'].progress_apply(lambda x: pd.Series(x))\n",
    "   .stack()\n",
    "   .reset_index(level=1, drop=True)\n",
    "   .to_frame('elite')\n",
    "   .join(elite_temp[['user_id']], how='left'))"
   ]
  },
  {
   "cell_type": "code",
   "execution_count": 59,
   "metadata": {},
   "outputs": [],
   "source": [
    "elite_table[\"elite\"] = elite_table[\"elite\"].astype(int)\n",
    "elite_table=elite_table.rename(columns={'elite':'year'})"
   ]
  },
  {
   "cell_type": "code",
   "execution_count": 60,
   "metadata": {},
   "outputs": [
    {
     "data": {
      "text/html": [
       "<div>\n",
       "<style scoped>\n",
       "    .dataframe tbody tr th:only-of-type {\n",
       "        vertical-align: middle;\n",
       "    }\n",
       "\n",
       "    .dataframe tbody tr th {\n",
       "        vertical-align: top;\n",
       "    }\n",
       "\n",
       "    .dataframe thead th {\n",
       "        text-align: right;\n",
       "    }\n",
       "</style>\n",
       "<table border=\"1\" class=\"dataframe\">\n",
       "  <thead>\n",
       "    <tr style=\"text-align: right;\">\n",
       "      <th></th>\n",
       "      <th>year</th>\n",
       "      <th>user_id</th>\n",
       "    </tr>\n",
       "  </thead>\n",
       "  <tbody>\n",
       "    <tr>\n",
       "      <th>0</th>\n",
       "      <td>2015</td>\n",
       "      <td>1</td>\n",
       "    </tr>\n",
       "    <tr>\n",
       "      <th>0</th>\n",
       "      <td>2016</td>\n",
       "      <td>1</td>\n",
       "    </tr>\n",
       "    <tr>\n",
       "      <th>0</th>\n",
       "      <td>2017</td>\n",
       "      <td>1</td>\n",
       "    </tr>\n",
       "    <tr>\n",
       "      <th>1</th>\n",
       "      <td>2015</td>\n",
       "      <td>5</td>\n",
       "    </tr>\n",
       "    <tr>\n",
       "      <th>1</th>\n",
       "      <td>2016</td>\n",
       "      <td>5</td>\n",
       "    </tr>\n",
       "  </tbody>\n",
       "</table>\n",
       "</div>"
      ],
      "text/plain": [
       "   year  user_id\n",
       "0  2015        1\n",
       "0  2016        1\n",
       "0  2017        1\n",
       "1  2015        5\n",
       "1  2016        5"
      ]
     },
     "execution_count": 60,
     "metadata": {},
     "output_type": "execute_result"
    }
   ],
   "source": [
    "elite_table.head()"
   ]
  },
  {
   "cell_type": "code",
   "execution_count": 61,
   "metadata": {},
   "outputs": [],
   "source": [
    "elite_table.to_csv('generated/elite_years.csv', index=False)"
   ]
  },
  {
   "cell_type": "code",
   "execution_count": null,
   "metadata": {},
   "outputs": [],
   "source": []
  },
  {
   "cell_type": "code",
   "execution_count": null,
   "metadata": {},
   "outputs": [],
   "source": []
  },
  {
   "cell_type": "markdown",
   "metadata": {},
   "source": [
    "# Parse business"
   ]
  },
  {
   "cell_type": "code",
   "execution_count": 62,
   "metadata": {},
   "outputs": [],
   "source": [
    "business_ids = business['business_id'].reset_index().set_index('business_id')['index'].to_dict()"
   ]
  },
  {
   "cell_type": "code",
   "execution_count": null,
   "metadata": {},
   "outputs": [],
   "source": []
  },
  {
   "cell_type": "markdown",
   "metadata": {},
   "source": [
    "# Parse review"
   ]
  },
  {
   "cell_type": "code",
   "execution_count": 63,
   "metadata": {},
   "outputs": [],
   "source": [
    "review_ids = review['review_id'].reset_index().set_index('review_id')['index'].to_dict()"
   ]
  },
  {
   "cell_type": "code",
   "execution_count": 64,
   "metadata": {},
   "outputs": [],
   "source": [
    "excluded_review = review[~((review.user_id.isin(user_ids.keys()) & review.business_id.isin(business_ids.keys())))]"
   ]
  },
  {
   "cell_type": "code",
   "execution_count": 65,
   "metadata": {},
   "outputs": [],
   "source": [
    "included_review = review[review.user_id.isin(user_ids.keys()) & review.business_id.isin(business_ids.keys())]"
   ]
  },
  {
   "cell_type": "code",
   "execution_count": 66,
   "metadata": {},
   "outputs": [
    {
     "data": {
      "text/html": [
       "<div>\n",
       "<style scoped>\n",
       "    .dataframe tbody tr th:only-of-type {\n",
       "        vertical-align: middle;\n",
       "    }\n",
       "\n",
       "    .dataframe tbody tr th {\n",
       "        vertical-align: top;\n",
       "    }\n",
       "\n",
       "    .dataframe thead th {\n",
       "        text-align: right;\n",
       "    }\n",
       "</style>\n",
       "<table border=\"1\" class=\"dataframe\">\n",
       "  <thead>\n",
       "    <tr style=\"text-align: right;\">\n",
       "      <th></th>\n",
       "      <th>business_id</th>\n",
       "      <th>cool</th>\n",
       "      <th>date</th>\n",
       "      <th>funny</th>\n",
       "      <th>review_id</th>\n",
       "      <th>stars</th>\n",
       "      <th>text</th>\n",
       "      <th>useful</th>\n",
       "      <th>user_id</th>\n",
       "    </tr>\n",
       "  </thead>\n",
       "  <tbody>\n",
       "    <tr>\n",
       "      <th>199242</th>\n",
       "      <td>41b2SLmjLcxTGLVRxASiDA</td>\n",
       "      <td>0</td>\n",
       "      <td>2006-04-11 09:05:18</td>\n",
       "      <td>0.0</td>\n",
       "      <td>WWYQ1ce6mNt7AvRHu8w-jQ</td>\n",
       "      <td>3.0</td>\n",
       "      <td>Rating purely on food and 18th hole view: 5 stars</td>\n",
       "      <td>NaN</td>\n",
       "      <td>NaN</td>\n",
       "    </tr>\n",
       "    <tr>\n",
       "      <th>199243</th>\n",
       "      <td>NaN</td>\n",
       "      <td>1</td>\n",
       "      <td>53bZ_EsXH71L7iFs5MP9_w</td>\n",
       "      <td>NaN</td>\n",
       "      <td>NaN</td>\n",
       "      <td>NaN</td>\n",
       "      <td>NaN</td>\n",
       "      <td>NaN</td>\n",
       "      <td>NaN</td>\n",
       "    </tr>\n",
       "    <tr>\n",
       "      <th>333829</th>\n",
       "      <td>Xx9zZ1eNqmJiNWo_txLzcQ</td>\n",
       "      <td>0</td>\n",
       "      <td>2017-07-06 23:17:37</td>\n",
       "      <td>0.0</td>\n",
       "      <td>u6TPatI_MAES6Mx4fhdRcA</td>\n",
       "      <td>5.0</td>\n",
       "      <td>Teressa Peterson is very helpful with her prof...</td>\n",
       "      <td>0.0</td>\n",
       "      <td>i0fRIsfCefhN_XdpgD9k4A</td>\n",
       "    </tr>\n",
       "  </tbody>\n",
       "</table>\n",
       "</div>"
      ],
      "text/plain": [
       "                   business_id  cool                    date  funny  \\\n",
       "199242  41b2SLmjLcxTGLVRxASiDA     0     2006-04-11 09:05:18    0.0   \n",
       "199243                     NaN     1  53bZ_EsXH71L7iFs5MP9_w    NaN   \n",
       "333829  Xx9zZ1eNqmJiNWo_txLzcQ     0     2017-07-06 23:17:37    0.0   \n",
       "\n",
       "                     review_id  stars  \\\n",
       "199242  WWYQ1ce6mNt7AvRHu8w-jQ    3.0   \n",
       "199243                     NaN    NaN   \n",
       "333829  u6TPatI_MAES6Mx4fhdRcA    5.0   \n",
       "\n",
       "                                                     text  useful  \\\n",
       "199242  Rating purely on food and 18th hole view: 5 stars     NaN   \n",
       "199243                                                NaN     NaN   \n",
       "333829  Teressa Peterson is very helpful with her prof...     0.0   \n",
       "\n",
       "                       user_id  \n",
       "199242                     NaN  \n",
       "199243                     NaN  \n",
       "333829  i0fRIsfCefhN_XdpgD9k4A  "
      ]
     },
     "execution_count": 66,
     "metadata": {},
     "output_type": "execute_result"
    }
   ],
   "source": [
    "excluded_review"
   ]
  },
  {
   "cell_type": "code",
   "execution_count": 67,
   "metadata": {},
   "outputs": [
    {
     "name": "stderr",
     "output_type": "stream",
     "text": [
      "100%|██████████| 918677/918677 [00:27<00:00, 33657.40it/s]\n",
      "/home/bastien/.local/lib/python3.6/site-packages/pandas/core/indexing.py:966: SettingWithCopyWarning: \n",
      "A value is trying to be set on a copy of a slice from a DataFrame.\n",
      "Try using .loc[row_indexer,col_indexer] = value instead\n",
      "\n",
      "See the caveats in the documentation: https://pandas.pydata.org/pandas-docs/stable/user_guide/indexing.html#returning-a-view-versus-a-copy\n",
      "  self.obj[item] = s\n"
     ]
    }
   ],
   "source": [
    "included_review['user_id'] = included_review[\"user_id\"].progress_map(lambda x: user_ids[x])"
   ]
  },
  {
   "cell_type": "code",
   "execution_count": 68,
   "metadata": {},
   "outputs": [
    {
     "name": "stderr",
     "output_type": "stream",
     "text": [
      "100%|██████████| 918677/918677 [00:29<00:00, 31233.69it/s]\n"
     ]
    }
   ],
   "source": [
    "included_review['business_id'] = included_review[\"business_id\"].progress_map(lambda x: business_ids[x])"
   ]
  },
  {
   "cell_type": "code",
   "execution_count": 69,
   "metadata": {},
   "outputs": [],
   "source": [
    "included_review = included_review.reset_index().rename(columns={'index':'id'})"
   ]
  },
  {
   "cell_type": "code",
   "execution_count": 70,
   "metadata": {},
   "outputs": [],
   "source": [
    "review_table = included_review.astype({\"funny\":'int', \"stars\":'int', \"useful\":'int'})\n",
    "del review_table[\"review_id\"]"
   ]
  },
  {
   "cell_type": "code",
   "execution_count": 71,
   "metadata": {},
   "outputs": [
    {
     "data": {
      "text/html": [
       "<div>\n",
       "<style scoped>\n",
       "    .dataframe tbody tr th:only-of-type {\n",
       "        vertical-align: middle;\n",
       "    }\n",
       "\n",
       "    .dataframe tbody tr th {\n",
       "        vertical-align: top;\n",
       "    }\n",
       "\n",
       "    .dataframe thead th {\n",
       "        text-align: right;\n",
       "    }\n",
       "</style>\n",
       "<table border=\"1\" class=\"dataframe\">\n",
       "  <thead>\n",
       "    <tr style=\"text-align: right;\">\n",
       "      <th></th>\n",
       "      <th>id</th>\n",
       "      <th>business_id</th>\n",
       "      <th>cool</th>\n",
       "      <th>date</th>\n",
       "      <th>funny</th>\n",
       "      <th>stars</th>\n",
       "      <th>text</th>\n",
       "      <th>useful</th>\n",
       "      <th>user_id</th>\n",
       "    </tr>\n",
       "  </thead>\n",
       "  <tbody>\n",
       "    <tr>\n",
       "      <th>0</th>\n",
       "      <td>1</td>\n",
       "      <td>107045</td>\n",
       "      <td>0</td>\n",
       "      <td>2016-11-09 20:09:03</td>\n",
       "      <td>0</td>\n",
       "      <td>5</td>\n",
       "      <td>I have to say that this office really has it t...</td>\n",
       "      <td>3</td>\n",
       "      <td>65413</td>\n",
       "    </tr>\n",
       "    <tr>\n",
       "      <th>1</th>\n",
       "      <td>2</td>\n",
       "      <td>30138</td>\n",
       "      <td>0</td>\n",
       "      <td>2018-01-30 23:07:38</td>\n",
       "      <td>0</td>\n",
       "      <td>1</td>\n",
       "      <td>Today was my second out of three sessions I ha...</td>\n",
       "      <td>7</td>\n",
       "      <td>8027</td>\n",
       "    </tr>\n",
       "    <tr>\n",
       "      <th>2</th>\n",
       "      <td>3</td>\n",
       "      <td>112123</td>\n",
       "      <td>5</td>\n",
       "      <td>2016-05-07 01:21:02</td>\n",
       "      <td>4</td>\n",
       "      <td>3</td>\n",
       "      <td>Tracy dessert had a big name in Hong Kong and ...</td>\n",
       "      <td>5</td>\n",
       "      <td>11467</td>\n",
       "    </tr>\n",
       "    <tr>\n",
       "      <th>3</th>\n",
       "      <td>4</td>\n",
       "      <td>87448</td>\n",
       "      <td>0</td>\n",
       "      <td>2017-12-15 23:27:08</td>\n",
       "      <td>1</td>\n",
       "      <td>1</td>\n",
       "      <td>Walked in around 4 on a Friday afternoon, we s...</td>\n",
       "      <td>0</td>\n",
       "      <td>29616</td>\n",
       "    </tr>\n",
       "    <tr>\n",
       "      <th>4</th>\n",
       "      <td>5</td>\n",
       "      <td>15683</td>\n",
       "      <td>0</td>\n",
       "      <td>2014-12-17 19:04:33</td>\n",
       "      <td>0</td>\n",
       "      <td>5</td>\n",
       "      <td>ended up here because Raku was closed and it r...</td>\n",
       "      <td>0</td>\n",
       "      <td>21932</td>\n",
       "    </tr>\n",
       "  </tbody>\n",
       "</table>\n",
       "</div>"
      ],
      "text/plain": [
       "   id  business_id  cool                 date  funny  stars  \\\n",
       "0   1       107045     0  2016-11-09 20:09:03      0      5   \n",
       "1   2        30138     0  2018-01-30 23:07:38      0      1   \n",
       "2   3       112123     5  2016-05-07 01:21:02      4      3   \n",
       "3   4        87448     0  2017-12-15 23:27:08      1      1   \n",
       "4   5        15683     0  2014-12-17 19:04:33      0      5   \n",
       "\n",
       "                                                text  useful  user_id  \n",
       "0  I have to say that this office really has it t...       3    65413  \n",
       "1  Today was my second out of three sessions I ha...       7     8027  \n",
       "2  Tracy dessert had a big name in Hong Kong and ...       5    11467  \n",
       "3  Walked in around 4 on a Friday afternoon, we s...       0    29616  \n",
       "4  ended up here because Raku was closed and it r...       0    21932  "
      ]
     },
     "execution_count": 71,
     "metadata": {},
     "output_type": "execute_result"
    }
   ],
   "source": [
    "pd.unique(review_table[\"stars\"])\n",
    "review_table.head()"
   ]
  },
  {
   "cell_type": "code",
   "execution_count": 72,
   "metadata": {},
   "outputs": [],
   "source": [
    "review_table.to_csv('generated/review.csv', index=False)"
   ]
  },
  {
   "cell_type": "code",
   "execution_count": null,
   "metadata": {},
   "outputs": [],
   "source": []
  },
  {
   "cell_type": "markdown",
   "metadata": {},
   "source": [
    "# Parse tip"
   ]
  },
  {
   "cell_type": "code",
   "execution_count": 73,
   "metadata": {},
   "outputs": [],
   "source": [
    "excluded_tip = tip[~((tip.user_id.isin(user_ids.keys()) & tip.business_id.isin(business_ids.keys())))]"
   ]
  },
  {
   "cell_type": "code",
   "execution_count": 74,
   "metadata": {},
   "outputs": [],
   "source": [
    "included_tip = tip[tip.user_id.isin(user_ids.keys()) & tip.business_id.isin(business_ids.keys())]"
   ]
  },
  {
   "cell_type": "code",
   "execution_count": 75,
   "metadata": {},
   "outputs": [],
   "source": [
    "included_tip = included_tip.reset_index().rename(columns={'index':'id'})"
   ]
  },
  {
   "cell_type": "code",
   "execution_count": 76,
   "metadata": {},
   "outputs": [
    {
     "data": {
      "text/html": [
       "<div>\n",
       "<style scoped>\n",
       "    .dataframe tbody tr th:only-of-type {\n",
       "        vertical-align: middle;\n",
       "    }\n",
       "\n",
       "    .dataframe tbody tr th {\n",
       "        vertical-align: top;\n",
       "    }\n",
       "\n",
       "    .dataframe thead th {\n",
       "        text-align: right;\n",
       "    }\n",
       "</style>\n",
       "<table border=\"1\" class=\"dataframe\">\n",
       "  <thead>\n",
       "    <tr style=\"text-align: right;\">\n",
       "      <th></th>\n",
       "      <th>business_id</th>\n",
       "      <th>compliment_count</th>\n",
       "      <th>date</th>\n",
       "      <th>text</th>\n",
       "      <th>user_id</th>\n",
       "    </tr>\n",
       "  </thead>\n",
       "  <tbody>\n",
       "    <tr>\n",
       "      <th>905464</th>\n",
       "      <td>QnfT-VcxDOlkF7DHYIll8A</td>\n",
       "      <td>0</td>\n",
       "      <td>2016-07-05 22:48:25</td>\n",
       "      <td>Come here for the design and nail art</td>\n",
       "      <td>i0fRIsfCefhN_XdpgD9k4A</td>\n",
       "    </tr>\n",
       "    <tr>\n",
       "      <th>913851</th>\n",
       "      <td>hZDNYOfZnVp10pFsycr8rg</td>\n",
       "      <td>0</td>\n",
       "      <td>2017-02-15 22:51:28</td>\n",
       "      <td>Love the clear noodles pad Thai!! Great food, ...</td>\n",
       "      <td>i0fRIsfCefhN_XdpgD9k4A</td>\n",
       "    </tr>\n",
       "  </tbody>\n",
       "</table>\n",
       "</div>"
      ],
      "text/plain": [
       "                   business_id  compliment_count                 date  \\\n",
       "905464  QnfT-VcxDOlkF7DHYIll8A                 0  2016-07-05 22:48:25   \n",
       "913851  hZDNYOfZnVp10pFsycr8rg                 0  2017-02-15 22:51:28   \n",
       "\n",
       "                                                     text  \\\n",
       "905464              Come here for the design and nail art   \n",
       "913851  Love the clear noodles pad Thai!! Great food, ...   \n",
       "\n",
       "                       user_id  \n",
       "905464  i0fRIsfCefhN_XdpgD9k4A  \n",
       "913851  i0fRIsfCefhN_XdpgD9k4A  "
      ]
     },
     "execution_count": 76,
     "metadata": {},
     "output_type": "execute_result"
    }
   ],
   "source": [
    "excluded_tip"
   ]
  },
  {
   "cell_type": "code",
   "execution_count": 77,
   "metadata": {},
   "outputs": [
    {
     "name": "stderr",
     "output_type": "stream",
     "text": [
      "100%|██████████| 1029045/1029045 [00:29<00:00, 35209.52it/s]\n"
     ]
    }
   ],
   "source": [
    "included_tip['user_id'] = included_tip[\"user_id\"].progress_map(lambda x: user_ids[x])"
   ]
  },
  {
   "cell_type": "code",
   "execution_count": 78,
   "metadata": {},
   "outputs": [
    {
     "name": "stderr",
     "output_type": "stream",
     "text": [
      "100%|██████████| 1029045/1029045 [00:28<00:00, 36410.25it/s]\n"
     ]
    }
   ],
   "source": [
    "included_tip['business_id'] = included_tip[\"business_id\"].progress_map(lambda x: business_ids[x])"
   ]
  },
  {
   "cell_type": "code",
   "execution_count": 79,
   "metadata": {},
   "outputs": [],
   "source": [
    "tip_table = included_tip"
   ]
  },
  {
   "cell_type": "code",
   "execution_count": 80,
   "metadata": {},
   "outputs": [
    {
     "data": {
      "text/html": [
       "<div>\n",
       "<style scoped>\n",
       "    .dataframe tbody tr th:only-of-type {\n",
       "        vertical-align: middle;\n",
       "    }\n",
       "\n",
       "    .dataframe tbody tr th {\n",
       "        vertical-align: top;\n",
       "    }\n",
       "\n",
       "    .dataframe thead th {\n",
       "        text-align: right;\n",
       "    }\n",
       "</style>\n",
       "<table border=\"1\" class=\"dataframe\">\n",
       "  <thead>\n",
       "    <tr style=\"text-align: right;\">\n",
       "      <th></th>\n",
       "      <th>id</th>\n",
       "      <th>business_id</th>\n",
       "      <th>compliment_count</th>\n",
       "      <th>date</th>\n",
       "      <th>text</th>\n",
       "      <th>user_id</th>\n",
       "    </tr>\n",
       "  </thead>\n",
       "  <tbody>\n",
       "    <tr>\n",
       "      <th>0</th>\n",
       "      <td>1</td>\n",
       "      <td>19903</td>\n",
       "      <td>0</td>\n",
       "      <td>2014-03-27 03:51:24</td>\n",
       "      <td>Great for watching games, ufc, and whatever el...</td>\n",
       "      <td>2221</td>\n",
       "    </tr>\n",
       "    <tr>\n",
       "      <th>1</th>\n",
       "      <td>2</td>\n",
       "      <td>121777</td>\n",
       "      <td>0</td>\n",
       "      <td>2013-05-25 06:00:56</td>\n",
       "      <td>Happy Hour 2-4 daily with 1/2 price drinks and...</td>\n",
       "      <td>38143</td>\n",
       "    </tr>\n",
       "    <tr>\n",
       "      <th>2</th>\n",
       "      <td>3</td>\n",
       "      <td>152691</td>\n",
       "      <td>0</td>\n",
       "      <td>2011-12-26 01:46:17</td>\n",
       "      <td>Good chips and salsa. Loud at times. Good serv...</td>\n",
       "      <td>27342</td>\n",
       "    </tr>\n",
       "    <tr>\n",
       "      <th>3</th>\n",
       "      <td>4</td>\n",
       "      <td>10040</td>\n",
       "      <td>0</td>\n",
       "      <td>2014-03-23 21:32:49</td>\n",
       "      <td>The setting and decoration here is amazing. Co...</td>\n",
       "      <td>3217</td>\n",
       "    </tr>\n",
       "    <tr>\n",
       "      <th>4</th>\n",
       "      <td>5</td>\n",
       "      <td>109424</td>\n",
       "      <td>0</td>\n",
       "      <td>2012-10-06 00:19:27</td>\n",
       "      <td>Molly is definately taking a picture with Sant...</td>\n",
       "      <td>30346</td>\n",
       "    </tr>\n",
       "  </tbody>\n",
       "</table>\n",
       "</div>"
      ],
      "text/plain": [
       "   id  business_id  compliment_count                 date  \\\n",
       "0   1        19903                 0  2014-03-27 03:51:24   \n",
       "1   2       121777                 0  2013-05-25 06:00:56   \n",
       "2   3       152691                 0  2011-12-26 01:46:17   \n",
       "3   4        10040                 0  2014-03-23 21:32:49   \n",
       "4   5       109424                 0  2012-10-06 00:19:27   \n",
       "\n",
       "                                                text  user_id  \n",
       "0  Great for watching games, ufc, and whatever el...     2221  \n",
       "1  Happy Hour 2-4 daily with 1/2 price drinks and...    38143  \n",
       "2  Good chips and salsa. Loud at times. Good serv...    27342  \n",
       "3  The setting and decoration here is amazing. Co...     3217  \n",
       "4  Molly is definately taking a picture with Sant...    30346  "
      ]
     },
     "execution_count": 80,
     "metadata": {},
     "output_type": "execute_result"
    }
   ],
   "source": [
    "tip_table.head()"
   ]
  },
  {
   "cell_type": "code",
   "execution_count": 81,
   "metadata": {},
   "outputs": [],
   "source": [
    "tip_table[\"date\"] = tip_table[\"date\"].astype(str)"
   ]
  },
  {
   "cell_type": "code",
   "execution_count": 82,
   "metadata": {},
   "outputs": [],
   "source": [
    "#only two tip without text out of 1029045 so we just drop them\n",
    "tip_table = tip_table.dropna()"
   ]
  },
  {
   "cell_type": "code",
   "execution_count": 83,
   "metadata": {},
   "outputs": [],
   "source": [
    "tip_table.to_csv('generated/tip.csv', index=False)"
   ]
  },
  {
   "cell_type": "code",
   "execution_count": null,
   "metadata": {},
   "outputs": [],
   "source": [
    "friends_table[friends_table[\"user_id_1\"] == friends_table[\"user_id_2\"]]"
   ]
  },
  {
   "cell_type": "code",
   "execution_count": null,
   "metadata": {},
   "outputs": [],
   "source": []
  },
  {
   "cell_type": "code",
   "execution_count": null,
   "metadata": {},
   "outputs": [],
   "source": []
  }
 ],
 "metadata": {
  "kernelspec": {
   "display_name": "Python 3",
   "language": "python",
   "name": "python3"
  },
  "language_info": {
   "codemirror_mode": {
    "name": "ipython",
    "version": 3
   },
   "file_extension": ".py",
   "mimetype": "text/x-python",
   "name": "python",
   "nbconvert_exporter": "python",
   "pygments_lexer": "ipython3",
   "version": "3.6.9"
  }
 },
 "nbformat": 4,
 "nbformat_minor": 2
}