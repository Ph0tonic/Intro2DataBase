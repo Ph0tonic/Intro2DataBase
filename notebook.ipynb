{
 "cells": [
  {
   "cell_type": "code",
   "execution_count": 2,
   "metadata": {},
   "outputs": [],
   "source": [
    "import numpy as np\n",
    "import pandas as pd\n",
    "import ast"
   ]
  },
  {
   "cell_type": "code",
   "execution_count": 4,
   "metadata": {},
   "outputs": [
    {
     "name": "stdout",
     "output_type": "stream",
     "text": [
      "yelp_academic_dataset_business.csv  yelp_academic_dataset_tip_transposed.csv\r\n",
      "yelp_academic_dataset_review.csv    yelp_academic_dataset_user.csv\r\n",
      "yelp_academic_dataset_tip.csv\r\n"
     ]
    }
   ],
   "source": [
    "!ls csv_files"
   ]
  },
  {
   "cell_type": "code",
   "execution_count": 5,
   "metadata": {},
   "outputs": [],
   "source": [
    "generic = lambda x: ast.literal_eval(x)\n",
    "conv = {'friends': generic}"
   ]
  },
  {
   "cell_type": "code",
   "execution_count": 120,
   "metadata": {},
   "outputs": [],
   "source": [
    "business = pd.read_csv('csv_files/yelp_academic_dataset_business.csv')\n",
    "review = pd.read_csv('csv_files/yelp_academic_dataset_review.csv')\n",
    "tip = pd.read_csv('csv_files/yelp_academic_dataset_tip_transposed.csv')\n",
    "user = pd.read_csv('csv_files/yelp_academic_dataset_user.csv',converters=conv)"
   ]
  },
  {
   "cell_type": "markdown",
   "metadata": {},
   "source": [
    "# Parse user"
   ]
  },
  {
   "cell_type": "code",
   "execution_count": 9,
   "metadata": {
    "scrolled": true
   },
   "outputs": [],
   "source": [
    "user_ids = user['user_id'].reset_index().set_index('user_id')['index'].to_dict()"
   ]
  },
  {
   "cell_type": "code",
   "execution_count": 10,
   "metadata": {},
   "outputs": [],
   "source": [
    "user_table = user"
   ]
  },
  {
   "cell_type": "code",
   "execution_count": 11,
   "metadata": {},
   "outputs": [],
   "source": [
    "friends = user['friends'].map(lambda friends: list(map(lambda x: user_ids[x],friends)))"
   ]
  },
  {
   "cell_type": "code",
   "execution_count": 12,
   "metadata": {},
   "outputs": [],
   "source": [
    "elite = user[user['elite'].map(lambda x:type(x))==type(\"\")]['elite'].map(lambda e:list(map(lambda x:int(x),e.split(\",\"))))"
   ]
  },
  {
   "cell_type": "code",
   "execution_count": 17,
   "metadata": {},
   "outputs": [
    {
     "data": {
      "text/plain": [
       "0    [291, 126238, 272956, 30953, 18897, 1391, 2805...\n",
       "1    [293790, 578622, 205428, 607172, 586444, 58459...\n",
       "2    [47612, 111729, 458446, 54552, 6553, 19363, 12...\n",
       "3    [589226, 495880, 434833, 769827, 117697, 19492...\n",
       "4    [26967, 431106, 354308, 48663, 1556, 215429, 3...\n",
       "Name: friends, dtype: object"
      ]
     },
     "execution_count": 17,
     "metadata": {},
     "output_type": "execute_result"
    }
   ],
   "source": [
    "friends.head()"
   ]
  },
  {
   "cell_type": "markdown",
   "metadata": {},
   "source": [
    "# Parse business"
   ]
  },
  {
   "cell_type": "code",
   "execution_count": 121,
   "metadata": {},
   "outputs": [],
   "source": [
    "business_ids = business['business_id'].reset_index().set_index('business_id')['index'].to_dict()"
   ]
  },
  {
   "cell_type": "code",
   "execution_count": null,
   "metadata": {},
   "outputs": [],
   "source": []
  },
  {
   "cell_type": "markdown",
   "metadata": {},
   "source": [
    "# Parse review"
   ]
  },
  {
   "cell_type": "code",
   "execution_count": 116,
   "metadata": {},
   "outputs": [],
   "source": [
    "review_ids = review['review_id'].reset_index().set_index('review_id')['index'].to_dict()"
   ]
  },
  {
   "cell_type": "code",
   "execution_count": 88,
   "metadata": {},
   "outputs": [
    {
     "data": {
      "text/plain": [
       "0          65412\n",
       "1           8026\n",
       "2          11466\n",
       "3          29615\n",
       "4          21931\n",
       "           ...  \n",
       "918675    270237\n",
       "918676     90048\n",
       "918677    333785\n",
       "918678     80120\n",
       "918679       457\n",
       "Name: user_id, Length: 918678, dtype: int64"
      ]
     },
     "execution_count": 88,
     "metadata": {},
     "output_type": "execute_result"
    }
   ],
   "source": [
    "review[review.user_id.isin(user_ids.keys())].user_id.map(lambda x: user_ids[x])"
   ]
  },
  {
   "cell_type": "code",
   "execution_count": 133,
   "metadata": {},
   "outputs": [],
   "source": [
    "excluded = review[(review.user_id.isin(user_ids.keys()) & review.business_id.isin(business_ids.keys())).map(lambda x:not x)]"
   ]
  },
  {
   "cell_type": "code",
   "execution_count": 135,
   "metadata": {},
   "outputs": [],
   "source": [
    "included = review[review.user_id.isin(user_ids.keys()) & review.business_id.isin(business_ids.keys())]"
   ]
  },
  {
   "cell_type": "code",
   "execution_count": 136,
   "metadata": {},
   "outputs": [
    {
     "data": {
      "text/html": [
       "<div>\n",
       "<style scoped>\n",
       "    .dataframe tbody tr th:only-of-type {\n",
       "        vertical-align: middle;\n",
       "    }\n",
       "\n",
       "    .dataframe tbody tr th {\n",
       "        vertical-align: top;\n",
       "    }\n",
       "\n",
       "    .dataframe thead th {\n",
       "        text-align: right;\n",
       "    }\n",
       "</style>\n",
       "<table border=\"1\" class=\"dataframe\">\n",
       "  <thead>\n",
       "    <tr style=\"text-align: right;\">\n",
       "      <th></th>\n",
       "      <th>business_id</th>\n",
       "      <th>cool</th>\n",
       "      <th>date</th>\n",
       "      <th>funny</th>\n",
       "      <th>review_id</th>\n",
       "      <th>stars</th>\n",
       "      <th>text</th>\n",
       "      <th>useful</th>\n",
       "      <th>user_id</th>\n",
       "    </tr>\n",
       "  </thead>\n",
       "  <tbody>\n",
       "    <tr>\n",
       "      <th>199241</th>\n",
       "      <td>41b2SLmjLcxTGLVRxASiDA</td>\n",
       "      <td>0</td>\n",
       "      <td>2006-04-11 09:05:18</td>\n",
       "      <td>0.0</td>\n",
       "      <td>WWYQ1ce6mNt7AvRHu8w-jQ</td>\n",
       "      <td>3.0</td>\n",
       "      <td>Rating purely on food and 18th hole view: 5 stars</td>\n",
       "      <td>NaN</td>\n",
       "      <td>NaN</td>\n",
       "    </tr>\n",
       "    <tr>\n",
       "      <th>199242</th>\n",
       "      <td>NaN</td>\n",
       "      <td>1</td>\n",
       "      <td>53bZ_EsXH71L7iFs5MP9_w</td>\n",
       "      <td>NaN</td>\n",
       "      <td>NaN</td>\n",
       "      <td>NaN</td>\n",
       "      <td>NaN</td>\n",
       "      <td>NaN</td>\n",
       "      <td>NaN</td>\n",
       "    </tr>\n",
       "  </tbody>\n",
       "</table>\n",
       "</div>"
      ],
      "text/plain": [
       "                   business_id  cool                    date  funny  \\\n",
       "199241  41b2SLmjLcxTGLVRxASiDA     0     2006-04-11 09:05:18    0.0   \n",
       "199242                     NaN     1  53bZ_EsXH71L7iFs5MP9_w    NaN   \n",
       "\n",
       "                     review_id  stars  \\\n",
       "199241  WWYQ1ce6mNt7AvRHu8w-jQ    3.0   \n",
       "199242                     NaN    NaN   \n",
       "\n",
       "                                                     text  useful user_id  \n",
       "199241  Rating purely on food and 18th hole view: 5 stars     NaN     NaN  \n",
       "199242                                                NaN     NaN     NaN  "
      ]
     },
     "execution_count": 136,
     "metadata": {},
     "output_type": "execute_result"
    }
   ],
   "source": [
    "excluded"
   ]
  },
  {
   "cell_type": "code",
   "execution_count": null,
   "metadata": {},
   "outputs": [],
   "source": []
  },
  {
   "cell_type": "code",
   "execution_count": 137,
   "metadata": {},
   "outputs": [
    {
     "name": "stderr",
     "output_type": "stream",
     "text": [
      "/home/bastien/.local/lib/python3.6/site-packages/pandas/core/indexing.py:966: SettingWithCopyWarning: \n",
      "A value is trying to be set on a copy of a slice from a DataFrame.\n",
      "Try using .loc[row_indexer,col_indexer] = value instead\n",
      "\n",
      "See the caveats in the documentation: https://pandas.pydata.org/pandas-docs/stable/user_guide/indexing.html#returning-a-view-versus-a-copy\n",
      "  self.obj[item] = s\n"
     ]
    }
   ],
   "source": [
    "included.loc[:,'user_id'] = included.apply(lambda x: user_ids[x.user_id], axis=1)"
   ]
  },
  {
   "cell_type": "code",
   "execution_count": 138,
   "metadata": {},
   "outputs": [],
   "source": [
    "included.loc[:,'business_id'] = included.apply(lambda x: business_ids[x.business_id], axis=1)"
   ]
  },
  {
   "cell_type": "code",
   "execution_count": 117,
   "metadata": {},
   "outputs": [],
   "source": [
    "review_table = included"
   ]
  },
  {
   "cell_type": "code",
   "execution_count": 139,
   "metadata": {},
   "outputs": [
    {
     "data": {
      "text/html": [
       "<div>\n",
       "<style scoped>\n",
       "    .dataframe tbody tr th:only-of-type {\n",
       "        vertical-align: middle;\n",
       "    }\n",
       "\n",
       "    .dataframe tbody tr th {\n",
       "        vertical-align: top;\n",
       "    }\n",
       "\n",
       "    .dataframe thead th {\n",
       "        text-align: right;\n",
       "    }\n",
       "</style>\n",
       "<table border=\"1\" class=\"dataframe\">\n",
       "  <thead>\n",
       "    <tr style=\"text-align: right;\">\n",
       "      <th></th>\n",
       "      <th>business_id</th>\n",
       "      <th>cool</th>\n",
       "      <th>date</th>\n",
       "      <th>funny</th>\n",
       "      <th>review_id</th>\n",
       "      <th>stars</th>\n",
       "      <th>text</th>\n",
       "      <th>useful</th>\n",
       "      <th>user_id</th>\n",
       "    </tr>\n",
       "  </thead>\n",
       "  <tbody>\n",
       "    <tr>\n",
       "      <th>0</th>\n",
       "      <td>107044</td>\n",
       "      <td>0</td>\n",
       "      <td>2016-11-09 20:09:03</td>\n",
       "      <td>0.0</td>\n",
       "      <td>2TzJjDVDEuAW6MR5Vuc1ug</td>\n",
       "      <td>5.0</td>\n",
       "      <td>I have to say that this office really has it t...</td>\n",
       "      <td>3.0</td>\n",
       "      <td>65412</td>\n",
       "    </tr>\n",
       "    <tr>\n",
       "      <th>1</th>\n",
       "      <td>30137</td>\n",
       "      <td>0</td>\n",
       "      <td>2018-01-30 23:07:38</td>\n",
       "      <td>0.0</td>\n",
       "      <td>11a8sVPMUFtaC7_ABRkmtw</td>\n",
       "      <td>1.0</td>\n",
       "      <td>Today was my second out of three sessions I ha...</td>\n",
       "      <td>7.0</td>\n",
       "      <td>8026</td>\n",
       "    </tr>\n",
       "    <tr>\n",
       "      <th>2</th>\n",
       "      <td>112122</td>\n",
       "      <td>5</td>\n",
       "      <td>2016-05-07 01:21:02</td>\n",
       "      <td>4.0</td>\n",
       "      <td>G7XHMxG0bx9oBJNECG4IFg</td>\n",
       "      <td>3.0</td>\n",
       "      <td>Tracy dessert had a big name in Hong Kong and ...</td>\n",
       "      <td>5.0</td>\n",
       "      <td>11466</td>\n",
       "    </tr>\n",
       "    <tr>\n",
       "      <th>3</th>\n",
       "      <td>87447</td>\n",
       "      <td>0</td>\n",
       "      <td>2017-12-15 23:27:08</td>\n",
       "      <td>1.0</td>\n",
       "      <td>-I5umRTkhw15RqpKMl_o1Q</td>\n",
       "      <td>1.0</td>\n",
       "      <td>Walked in around 4 on a Friday afternoon, we s...</td>\n",
       "      <td>0.0</td>\n",
       "      <td>29615</td>\n",
       "    </tr>\n",
       "    <tr>\n",
       "      <th>4</th>\n",
       "      <td>15682</td>\n",
       "      <td>0</td>\n",
       "      <td>2014-12-17 19:04:33</td>\n",
       "      <td>0.0</td>\n",
       "      <td>0AsmPiAQduxh5jE_si8cLA</td>\n",
       "      <td>5.0</td>\n",
       "      <td>ended up here because Raku was closed and it r...</td>\n",
       "      <td>0.0</td>\n",
       "      <td>21931</td>\n",
       "    </tr>\n",
       "  </tbody>\n",
       "</table>\n",
       "</div>"
      ],
      "text/plain": [
       "   business_id  cool                 date  funny               review_id  \\\n",
       "0       107044     0  2016-11-09 20:09:03    0.0  2TzJjDVDEuAW6MR5Vuc1ug   \n",
       "1        30137     0  2018-01-30 23:07:38    0.0  11a8sVPMUFtaC7_ABRkmtw   \n",
       "2       112122     5  2016-05-07 01:21:02    4.0  G7XHMxG0bx9oBJNECG4IFg   \n",
       "3        87447     0  2017-12-15 23:27:08    1.0  -I5umRTkhw15RqpKMl_o1Q   \n",
       "4        15682     0  2014-12-17 19:04:33    0.0  0AsmPiAQduxh5jE_si8cLA   \n",
       "\n",
       "   stars                                               text  useful  user_id  \n",
       "0    5.0  I have to say that this office really has it t...     3.0    65412  \n",
       "1    1.0  Today was my second out of three sessions I ha...     7.0     8026  \n",
       "2    3.0  Tracy dessert had a big name in Hong Kong and ...     5.0    11466  \n",
       "3    1.0  Walked in around 4 on a Friday afternoon, we s...     0.0    29615  \n",
       "4    5.0  ended up here because Raku was closed and it r...     0.0    21931  "
      ]
     },
     "execution_count": 139,
     "metadata": {},
     "output_type": "execute_result"
    }
   ],
   "source": [
    "included.head()"
   ]
  },
  {
   "cell_type": "code",
   "execution_count": null,
   "metadata": {},
   "outputs": [],
   "source": []
  },
  {
   "cell_type": "code",
   "execution_count": null,
   "metadata": {},
   "outputs": [],
   "source": []
  }
 ],
 "metadata": {
  "kernelspec": {
   "display_name": "Python 3",
   "language": "python",
   "name": "python3"
  },
  "language_info": {
   "codemirror_mode": {
    "name": "ipython",
    "version": 3
   },
   "file_extension": ".py",
   "mimetype": "text/x-python",
   "name": "python",
   "nbconvert_exporter": "python",
   "pygments_lexer": "ipython3",
   "version": "3.6.9"
  }
 },
 "nbformat": 4,
 "nbformat_minor": 2
}
