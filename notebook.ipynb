{
 "cells": [
  {
   "cell_type": "code",
   "execution_count": 1,
   "metadata": {},
   "outputs": [],
   "source": [
    "import numpy as np\n",
    "import pandas as pd"
   ]
  },
  {
   "cell_type": "code",
   "execution_count": 3,
   "metadata": {},
   "outputs": [
    {
     "data": {
      "text/plain": [
       "0    1.0\n",
       "1    3.0\n",
       "2    5.0\n",
       "3    NaN\n",
       "4    6.0\n",
       "5    8.0\n",
       "dtype: float64"
      ]
     },
     "execution_count": 3,
     "metadata": {},
     "output_type": "execute_result"
    }
   ],
   "source": [
    "s = pd.Series([1, 3, 5, np.nan, 6, 8])\n",
    "s"
   ]
  },
  {
   "cell_type": "code",
   "execution_count": 6,
   "metadata": {},
   "outputs": [
    {
     "name": "stdout",
     "output_type": "stream",
     "text": [
      "yelp_academic_dataset_business.csv  yelp_academic_dataset_tip.csv\r\n",
      "yelp_academic_dataset_review.csv    yelp_academic_dataset_user.csv\r\n"
     ]
    }
   ],
   "source": [
    "!ls yelp-csv"
   ]
  },
  {
   "cell_type": "code",
   "execution_count": 7,
   "metadata": {},
   "outputs": [],
   "source": [
    "business = pd.read_csv('yelp-csv/yelp_academic_dataset_business.csv')  \n",
    "#review = pd.read_csv('yelp-csv/yelp_academic_dataset_review.csv')  \n",
    "#tip = pd.read_csv('yelp-csv/yelp_academic_dataset_tip_transposed.csv')  \n",
    "user = pd.read_csv('yelp-csv/yelp_academic_dataset_user.csv')  \n"
   ]
  },
  {
   "cell_type": "code",
   "execution_count": 9,
   "metadata": {},
   "outputs": [
    {
     "data": {
      "text/html": [
       "<div>\n",
       "<style scoped>\n",
       "    .dataframe tbody tr th:only-of-type {\n",
       "        vertical-align: middle;\n",
       "    }\n",
       "\n",
       "    .dataframe tbody tr th {\n",
       "        vertical-align: top;\n",
       "    }\n",
       "\n",
       "    .dataframe thead th {\n",
       "        text-align: right;\n",
       "    }\n",
       "</style>\n",
       "<table border=\"1\" class=\"dataframe\">\n",
       "  <thead>\n",
       "    <tr style=\"text-align: right;\">\n",
       "      <th></th>\n",
       "      <th>address</th>\n",
       "      <th>attributes</th>\n",
       "      <th>business_id</th>\n",
       "      <th>categories</th>\n",
       "      <th>city</th>\n",
       "      <th>hours</th>\n",
       "      <th>is_open</th>\n",
       "      <th>latitude</th>\n",
       "      <th>longitude</th>\n",
       "      <th>name</th>\n",
       "      <th>postal_code</th>\n",
       "      <th>review_count</th>\n",
       "      <th>stars</th>\n",
       "      <th>state</th>\n",
       "    </tr>\n",
       "  </thead>\n",
       "  <tbody>\n",
       "    <tr>\n",
       "      <th>0</th>\n",
       "      <td>2818 E Camino Acequia Drive</td>\n",
       "      <td>{}</td>\n",
       "      <td>1SWheh84yJXfytovILXOAQ</td>\n",
       "      <td>Golf, Active Life</td>\n",
       "      <td>Phoenix</td>\n",
       "      <td>NaN</td>\n",
       "      <td>0</td>\n",
       "      <td>33.522143</td>\n",
       "      <td>-112.018481</td>\n",
       "      <td>Arizona Biltmore Golf Club</td>\n",
       "      <td>85016</td>\n",
       "      <td>5</td>\n",
       "      <td>3.0</td>\n",
       "      <td>AZ</td>\n",
       "    </tr>\n",
       "    <tr>\n",
       "      <th>1</th>\n",
       "      <td>30 Eglinton Avenue W</td>\n",
       "      <td>{'GoodForMeal': \"{'dessert': False, 'latenight...</td>\n",
       "      <td>QXAEGFB4oINsVuTFxEYKFQ</td>\n",
       "      <td>Specialty Food, Restaurants, Dim Sum, Imported...</td>\n",
       "      <td>Mississauga</td>\n",
       "      <td>{'Monday': '9:0-0:0', 'Tuesday': '9:0-0:0', 'W...</td>\n",
       "      <td>1</td>\n",
       "      <td>43.605499</td>\n",
       "      <td>-79.652289</td>\n",
       "      <td>Emerald Chinese Restaurant</td>\n",
       "      <td>L5R 3E7</td>\n",
       "      <td>128</td>\n",
       "      <td>2.5</td>\n",
       "      <td>ON</td>\n",
       "    </tr>\n",
       "    <tr>\n",
       "      <th>2</th>\n",
       "      <td>1210 8th Street SW, Unit 220</td>\n",
       "      <td>{'BusinessParking': \"{'garage': False, 'street...</td>\n",
       "      <td>fcXOEZdXYeZqnQ3lGlOXmg</td>\n",
       "      <td>Local Services, Professional Services, Compute...</td>\n",
       "      <td>Calgary</td>\n",
       "      <td>{'Monday': '9:0-17:0', 'Tuesday': '9:0-17:0', ...</td>\n",
       "      <td>1</td>\n",
       "      <td>51.041771</td>\n",
       "      <td>-114.081109</td>\n",
       "      <td>Nucleus Information Service</td>\n",
       "      <td>T2R 1L3</td>\n",
       "      <td>5</td>\n",
       "      <td>2.0</td>\n",
       "      <td>AB</td>\n",
       "    </tr>\n",
       "    <tr>\n",
       "      <th>3</th>\n",
       "      <td>6955 N Durango Dr, Ste 1116</td>\n",
       "      <td>{'BusinessParking': \"{'garage': False, 'street...</td>\n",
       "      <td>f2ZWZPENViL92BrFsIgR6w</td>\n",
       "      <td>Beauty &amp; Spas, Hair Salons</td>\n",
       "      <td>Las Vegas</td>\n",
       "      <td>{'Monday': '8:30-20:0', 'Tuesday': '8:30-20:0'...</td>\n",
       "      <td>1</td>\n",
       "      <td>36.287312</td>\n",
       "      <td>-115.289540</td>\n",
       "      <td>Amazing Cuts</td>\n",
       "      <td>89149</td>\n",
       "      <td>116</td>\n",
       "      <td>4.5</td>\n",
       "      <td>NV</td>\n",
       "    </tr>\n",
       "    <tr>\n",
       "      <th>4</th>\n",
       "      <td>4 E University Dr</td>\n",
       "      <td>{}</td>\n",
       "      <td>6KgGE8B1RsR7jc9R5nuH0Q</td>\n",
       "      <td>American (Traditional), Restaurants</td>\n",
       "      <td>Tempe</td>\n",
       "      <td>NaN</td>\n",
       "      <td>0</td>\n",
       "      <td>33.422192</td>\n",
       "      <td>-111.939615</td>\n",
       "      <td>Ruby Tuesday</td>\n",
       "      <td>85281</td>\n",
       "      <td>9</td>\n",
       "      <td>2.5</td>\n",
       "      <td>AZ</td>\n",
       "    </tr>\n",
       "  </tbody>\n",
       "</table>\n",
       "</div>"
      ],
      "text/plain": [
       "                        address  \\\n",
       "0   2818 E Camino Acequia Drive   \n",
       "1          30 Eglinton Avenue W   \n",
       "2  1210 8th Street SW, Unit 220   \n",
       "3   6955 N Durango Dr, Ste 1116   \n",
       "4             4 E University Dr   \n",
       "\n",
       "                                          attributes             business_id  \\\n",
       "0                                                 {}  1SWheh84yJXfytovILXOAQ   \n",
       "1  {'GoodForMeal': \"{'dessert': False, 'latenight...  QXAEGFB4oINsVuTFxEYKFQ   \n",
       "2  {'BusinessParking': \"{'garage': False, 'street...  fcXOEZdXYeZqnQ3lGlOXmg   \n",
       "3  {'BusinessParking': \"{'garage': False, 'street...  f2ZWZPENViL92BrFsIgR6w   \n",
       "4                                                 {}  6KgGE8B1RsR7jc9R5nuH0Q   \n",
       "\n",
       "                                          categories         city  \\\n",
       "0                                  Golf, Active Life      Phoenix   \n",
       "1  Specialty Food, Restaurants, Dim Sum, Imported...  Mississauga   \n",
       "2  Local Services, Professional Services, Compute...      Calgary   \n",
       "3                         Beauty & Spas, Hair Salons    Las Vegas   \n",
       "4                American (Traditional), Restaurants        Tempe   \n",
       "\n",
       "                                               hours  is_open   latitude  \\\n",
       "0                                                NaN        0  33.522143   \n",
       "1  {'Monday': '9:0-0:0', 'Tuesday': '9:0-0:0', 'W...        1  43.605499   \n",
       "2  {'Monday': '9:0-17:0', 'Tuesday': '9:0-17:0', ...        1  51.041771   \n",
       "3  {'Monday': '8:30-20:0', 'Tuesday': '8:30-20:0'...        1  36.287312   \n",
       "4                                                NaN        0  33.422192   \n",
       "\n",
       "    longitude                         name postal_code  review_count  stars  \\\n",
       "0 -112.018481   Arizona Biltmore Golf Club       85016             5    3.0   \n",
       "1  -79.652289   Emerald Chinese Restaurant     L5R 3E7           128    2.5   \n",
       "2 -114.081109  Nucleus Information Service     T2R 1L3             5    2.0   \n",
       "3 -115.289540                 Amazing Cuts       89149           116    4.5   \n",
       "4 -111.939615                 Ruby Tuesday       85281             9    2.5   \n",
       "\n",
       "  state  \n",
       "0    AZ  \n",
       "1    ON  \n",
       "2    AB  \n",
       "3    NV  \n",
       "4    AZ  "
      ]
     },
     "execution_count": 9,
     "metadata": {},
     "output_type": "execute_result"
    }
   ],
   "source": [
    "business.head()"
   ]
  },
  {
   "cell_type": "code",
   "execution_count": 4,
   "metadata": {},
   "outputs": [
    {
     "data": {
      "text/plain": [
       "address         184927\n",
       "attributes      163773\n",
       "business_id     192609\n",
       "categories      192127\n",
       "city            192608\n",
       "hours           147779\n",
       "is_open         192609\n",
       "latitude        192609\n",
       "longitude       192609\n",
       "name            192609\n",
       "postal_code     191950\n",
       "review_count    192609\n",
       "stars           192609\n",
       "state           192609\n",
       "dtype: int64"
      ]
     },
     "execution_count": 4,
     "metadata": {},
     "output_type": "execute_result"
    }
   ],
   "source": [
    "business.count()"
   ]
  },
  {
   "cell_type": "code",
   "execution_count": null,
   "metadata": {},
   "outputs": [],
   "source": []
  },
  {
   "cell_type": "code",
   "execution_count": null,
   "metadata": {},
   "outputs": [],
   "source": []
  }
 ],
 "metadata": {
  "kernelspec": {
   "display_name": "Python 3",
   "language": "python",
   "name": "python3"
  },
  "language_info": {
   "codemirror_mode": {
    "name": "ipython",
    "version": 3
   },
   "file_extension": ".py",
   "mimetype": "text/x-python",
   "name": "python",
   "nbconvert_exporter": "python",
   "pygments_lexer": "ipython3",
   "version": "3.6.9"
  }
 },
 "nbformat": 4,
 "nbformat_minor": 2
}
